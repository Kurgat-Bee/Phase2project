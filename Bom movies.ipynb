{
 "cells": [
  {
   "cell_type": "markdown",
   "metadata": {},
   "source": [
    "BOM MOVIE ANALYSIS\n",
    "\n",
    "Overview\n",
    "\n",
    "\n",
    "This project analyzes what types of films are currently doing the best in bom movies site and the top ten studio that has been performing best. The insights from this analysis is to enable the head of the company's new movie studio to decide what type of films to create\n"
   ]
  },
  {
   "cell_type": "markdown",
   "metadata": {},
   "source": [
    "Business Problem\n",
    "\n",
    "The company has decided to create a new movie studio, but they don’t know anything about creating movies. The goal of the analysis is to help them decide what type of movies to create."
   ]
  },
  {
   "cell_type": "code",
   "execution_count": 172,
   "metadata": {},
   "outputs": [],
   "source": [
    "# Importing relevant libraries\n",
    "\n",
    "import pandas as pd\n",
    "import numpy as np \n",
    "import seaborn as sns\n",
    "import matplotlib.pyplot as plt"
   ]
  },
  {
   "cell_type": "code",
   "execution_count": 173,
   "metadata": {},
   "outputs": [
    {
     "data": {
      "text/html": [
       "<div>\n",
       "<style scoped>\n",
       "    .dataframe tbody tr th:only-of-type {\n",
       "        vertical-align: middle;\n",
       "    }\n",
       "\n",
       "    .dataframe tbody tr th {\n",
       "        vertical-align: top;\n",
       "    }\n",
       "\n",
       "    .dataframe thead th {\n",
       "        text-align: right;\n",
       "    }\n",
       "</style>\n",
       "<table border=\"1\" class=\"dataframe\">\n",
       "  <thead>\n",
       "    <tr style=\"text-align: right;\">\n",
       "      <th></th>\n",
       "      <th>title</th>\n",
       "      <th>studio</th>\n",
       "      <th>domestic_gross</th>\n",
       "      <th>foreign_gross</th>\n",
       "      <th>year</th>\n",
       "    </tr>\n",
       "  </thead>\n",
       "  <tbody>\n",
       "    <tr>\n",
       "      <th>0</th>\n",
       "      <td>Toy Story 3</td>\n",
       "      <td>BV</td>\n",
       "      <td>415000000.0</td>\n",
       "      <td>652000000</td>\n",
       "      <td>2010</td>\n",
       "    </tr>\n",
       "    <tr>\n",
       "      <th>1</th>\n",
       "      <td>Alice in Wonderland (2010)</td>\n",
       "      <td>BV</td>\n",
       "      <td>334200000.0</td>\n",
       "      <td>691300000</td>\n",
       "      <td>2010</td>\n",
       "    </tr>\n",
       "    <tr>\n",
       "      <th>2</th>\n",
       "      <td>Harry Potter and the Deathly Hallows Part 1</td>\n",
       "      <td>WB</td>\n",
       "      <td>296000000.0</td>\n",
       "      <td>664300000</td>\n",
       "      <td>2010</td>\n",
       "    </tr>\n",
       "    <tr>\n",
       "      <th>3</th>\n",
       "      <td>Inception</td>\n",
       "      <td>WB</td>\n",
       "      <td>292600000.0</td>\n",
       "      <td>535700000</td>\n",
       "      <td>2010</td>\n",
       "    </tr>\n",
       "    <tr>\n",
       "      <th>4</th>\n",
       "      <td>Shrek Forever After</td>\n",
       "      <td>P/DW</td>\n",
       "      <td>238700000.0</td>\n",
       "      <td>513900000</td>\n",
       "      <td>2010</td>\n",
       "    </tr>\n",
       "  </tbody>\n",
       "</table>\n",
       "</div>"
      ],
      "text/plain": [
       "                                         title studio  domestic_gross  \\\n",
       "0                                  Toy Story 3     BV     415000000.0   \n",
       "1                   Alice in Wonderland (2010)     BV     334200000.0   \n",
       "2  Harry Potter and the Deathly Hallows Part 1     WB     296000000.0   \n",
       "3                                    Inception     WB     292600000.0   \n",
       "4                          Shrek Forever After   P/DW     238700000.0   \n",
       "\n",
       "  foreign_gross  year  \n",
       "0     652000000  2010  \n",
       "1     691300000  2010  \n",
       "2     664300000  2010  \n",
       "3     535700000  2010  \n",
       "4     513900000  2010  "
      ]
     },
     "execution_count": 173,
     "metadata": {},
     "output_type": "execute_result"
    }
   ],
   "source": [
    "#Loading the data into a dataframe called bom_movies\n",
    "\n",
    "bom_movies= pd.read_csv('bom.movie_gross.csv.gz')\n",
    "bom_movies.head()\n"
   ]
  },
  {
   "cell_type": "markdown",
   "metadata": {},
   "source": [
    "Inspecting the data"
   ]
  },
  {
   "cell_type": "code",
   "execution_count": 174,
   "metadata": {},
   "outputs": [
    {
     "data": {
      "text/html": [
       "<div>\n",
       "<style scoped>\n",
       "    .dataframe tbody tr th:only-of-type {\n",
       "        vertical-align: middle;\n",
       "    }\n",
       "\n",
       "    .dataframe tbody tr th {\n",
       "        vertical-align: top;\n",
       "    }\n",
       "\n",
       "    .dataframe thead th {\n",
       "        text-align: right;\n",
       "    }\n",
       "</style>\n",
       "<table border=\"1\" class=\"dataframe\">\n",
       "  <thead>\n",
       "    <tr style=\"text-align: right;\">\n",
       "      <th></th>\n",
       "      <th>title</th>\n",
       "      <th>studio</th>\n",
       "      <th>domestic_gross</th>\n",
       "      <th>foreign_gross</th>\n",
       "      <th>year</th>\n",
       "    </tr>\n",
       "  </thead>\n",
       "  <tbody>\n",
       "    <tr>\n",
       "      <th>3382</th>\n",
       "      <td>The Quake</td>\n",
       "      <td>Magn.</td>\n",
       "      <td>6200.0</td>\n",
       "      <td>NaN</td>\n",
       "      <td>2018</td>\n",
       "    </tr>\n",
       "    <tr>\n",
       "      <th>3383</th>\n",
       "      <td>Edward II (2018 re-release)</td>\n",
       "      <td>FM</td>\n",
       "      <td>4800.0</td>\n",
       "      <td>NaN</td>\n",
       "      <td>2018</td>\n",
       "    </tr>\n",
       "    <tr>\n",
       "      <th>3384</th>\n",
       "      <td>El Pacto</td>\n",
       "      <td>Sony</td>\n",
       "      <td>2500.0</td>\n",
       "      <td>NaN</td>\n",
       "      <td>2018</td>\n",
       "    </tr>\n",
       "    <tr>\n",
       "      <th>3385</th>\n",
       "      <td>The Swan</td>\n",
       "      <td>Synergetic</td>\n",
       "      <td>2400.0</td>\n",
       "      <td>NaN</td>\n",
       "      <td>2018</td>\n",
       "    </tr>\n",
       "    <tr>\n",
       "      <th>3386</th>\n",
       "      <td>An Actor Prepares</td>\n",
       "      <td>Grav.</td>\n",
       "      <td>1700.0</td>\n",
       "      <td>NaN</td>\n",
       "      <td>2018</td>\n",
       "    </tr>\n",
       "  </tbody>\n",
       "</table>\n",
       "</div>"
      ],
      "text/plain": [
       "                            title      studio  domestic_gross foreign_gross  \\\n",
       "3382                    The Quake       Magn.          6200.0           NaN   \n",
       "3383  Edward II (2018 re-release)          FM          4800.0           NaN   \n",
       "3384                     El Pacto        Sony          2500.0           NaN   \n",
       "3385                     The Swan  Synergetic          2400.0           NaN   \n",
       "3386            An Actor Prepares       Grav.          1700.0           NaN   \n",
       "\n",
       "      year  \n",
       "3382  2018  \n",
       "3383  2018  \n",
       "3384  2018  \n",
       "3385  2018  \n",
       "3386  2018  "
      ]
     },
     "execution_count": 174,
     "metadata": {},
     "output_type": "execute_result"
    }
   ],
   "source": [
    "bom_movies.tail()"
   ]
  },
  {
   "cell_type": "code",
   "execution_count": 175,
   "metadata": {},
   "outputs": [
    {
     "name": "stdout",
     "output_type": "stream",
     "text": [
      "<class 'pandas.core.frame.DataFrame'>\n",
      "RangeIndex: 3387 entries, 0 to 3386\n",
      "Data columns (total 5 columns):\n",
      " #   Column          Non-Null Count  Dtype  \n",
      "---  ------          --------------  -----  \n",
      " 0   title           3387 non-null   object \n",
      " 1   studio          3382 non-null   object \n",
      " 2   domestic_gross  3359 non-null   float64\n",
      " 3   foreign_gross   2037 non-null   object \n",
      " 4   year            3387 non-null   int64  \n",
      "dtypes: float64(1), int64(1), object(3)\n",
      "memory usage: 132.4+ KB\n"
     ]
    }
   ],
   "source": [
    "bom_movies.info()"
   ]
  },
  {
   "cell_type": "code",
   "execution_count": 176,
   "metadata": {},
   "outputs": [
    {
     "data": {
      "text/plain": [
       "(3387, 5)"
      ]
     },
     "execution_count": 176,
     "metadata": {},
     "output_type": "execute_result"
    }
   ],
   "source": [
    "bom_movies.shape"
   ]
  },
  {
   "cell_type": "code",
   "execution_count": 177,
   "metadata": {},
   "outputs": [
    {
     "data": {
      "text/html": [
       "<div>\n",
       "<style scoped>\n",
       "    .dataframe tbody tr th:only-of-type {\n",
       "        vertical-align: middle;\n",
       "    }\n",
       "\n",
       "    .dataframe tbody tr th {\n",
       "        vertical-align: top;\n",
       "    }\n",
       "\n",
       "    .dataframe thead th {\n",
       "        text-align: right;\n",
       "    }\n",
       "</style>\n",
       "<table border=\"1\" class=\"dataframe\">\n",
       "  <thead>\n",
       "    <tr style=\"text-align: right;\">\n",
       "      <th></th>\n",
       "      <th>domestic_gross</th>\n",
       "      <th>year</th>\n",
       "    </tr>\n",
       "  </thead>\n",
       "  <tbody>\n",
       "    <tr>\n",
       "      <th>count</th>\n",
       "      <td>3.359000e+03</td>\n",
       "      <td>3387.000000</td>\n",
       "    </tr>\n",
       "    <tr>\n",
       "      <th>mean</th>\n",
       "      <td>2.874585e+07</td>\n",
       "      <td>2013.958075</td>\n",
       "    </tr>\n",
       "    <tr>\n",
       "      <th>std</th>\n",
       "      <td>6.698250e+07</td>\n",
       "      <td>2.478141</td>\n",
       "    </tr>\n",
       "    <tr>\n",
       "      <th>min</th>\n",
       "      <td>1.000000e+02</td>\n",
       "      <td>2010.000000</td>\n",
       "    </tr>\n",
       "    <tr>\n",
       "      <th>25%</th>\n",
       "      <td>1.200000e+05</td>\n",
       "      <td>2012.000000</td>\n",
       "    </tr>\n",
       "    <tr>\n",
       "      <th>50%</th>\n",
       "      <td>1.400000e+06</td>\n",
       "      <td>2014.000000</td>\n",
       "    </tr>\n",
       "    <tr>\n",
       "      <th>75%</th>\n",
       "      <td>2.790000e+07</td>\n",
       "      <td>2016.000000</td>\n",
       "    </tr>\n",
       "    <tr>\n",
       "      <th>max</th>\n",
       "      <td>9.367000e+08</td>\n",
       "      <td>2018.000000</td>\n",
       "    </tr>\n",
       "  </tbody>\n",
       "</table>\n",
       "</div>"
      ],
      "text/plain": [
       "       domestic_gross         year\n",
       "count    3.359000e+03  3387.000000\n",
       "mean     2.874585e+07  2013.958075\n",
       "std      6.698250e+07     2.478141\n",
       "min      1.000000e+02  2010.000000\n",
       "25%      1.200000e+05  2012.000000\n",
       "50%      1.400000e+06  2014.000000\n",
       "75%      2.790000e+07  2016.000000\n",
       "max      9.367000e+08  2018.000000"
      ]
     },
     "execution_count": 177,
     "metadata": {},
     "output_type": "execute_result"
    }
   ],
   "source": [
    "bom_movies.describe()"
   ]
  },
  {
   "cell_type": "markdown",
   "metadata": {},
   "source": [
    "Understanding each column"
   ]
  },
  {
   "cell_type": "code",
   "execution_count": 178,
   "metadata": {},
   "outputs": [
    {
     "data": {
      "text/plain": [
       "title\n",
       "Bluebeard               2\n",
       "Before We Go            1\n",
       "Knock Knock             1\n",
       "Kindergarten Teacher    1\n",
       "Welcome to Leith        1\n",
       "                       ..\n",
       "Monsters University     1\n",
       "Gravity                 1\n",
       "Man of Steel            1\n",
       "Thor: The Dark World    1\n",
       "An Actor Prepares       1\n",
       "Name: count, Length: 3386, dtype: int64"
      ]
     },
     "execution_count": 178,
     "metadata": {},
     "output_type": "execute_result"
    }
   ],
   "source": [
    "bom_movies['title'].value_counts()"
   ]
  },
  {
   "cell_type": "code",
   "execution_count": 179,
   "metadata": {},
   "outputs": [
    {
     "data": {
      "text/plain": [
       "studio\n",
       "IFC           166\n",
       "Uni.          147\n",
       "WB            140\n",
       "Fox           136\n",
       "Magn.         136\n",
       "             ... \n",
       "E1              1\n",
       "PI              1\n",
       "ELS             1\n",
       "PalT            1\n",
       "Synergetic      1\n",
       "Name: count, Length: 257, dtype: int64"
      ]
     },
     "execution_count": 179,
     "metadata": {},
     "output_type": "execute_result"
    }
   ],
   "source": [
    "bom_movies['studio'].value_counts()"
   ]
  },
  {
   "cell_type": "code",
   "execution_count": 180,
   "metadata": {},
   "outputs": [
    {
     "data": {
      "text/plain": [
       "year\n",
       "2015    450\n",
       "2016    436\n",
       "2012    400\n",
       "2011    399\n",
       "2014    395\n",
       "2013    350\n",
       "2010    328\n",
       "2017    321\n",
       "2018    308\n",
       "Name: count, dtype: int64"
      ]
     },
     "execution_count": 180,
     "metadata": {},
     "output_type": "execute_result"
    }
   ],
   "source": [
    "bom_movies['year'].value_counts()"
   ]
  },
  {
   "cell_type": "markdown",
   "metadata": {},
   "source": [
    "Data Preparation\n",
    "\n",
    "Data Cleaning"
   ]
  },
  {
   "cell_type": "code",
   "execution_count": 181,
   "metadata": {},
   "outputs": [
    {
     "data": {
      "text/plain": [
       "title                0\n",
       "studio               5\n",
       "domestic_gross      28\n",
       "foreign_gross     1350\n",
       "year                 0\n",
       "dtype: int64"
      ]
     },
     "execution_count": 181,
     "metadata": {},
     "output_type": "execute_result"
    }
   ],
   "source": [
    "#Count number of missing value\n",
    "bom_movies.isnull().sum()\n"
   ]
  },
  {
   "cell_type": "code",
   "execution_count": 182,
   "metadata": {},
   "outputs": [
    {
     "data": {
      "text/plain": [
       "title             0\n",
       "studio            0\n",
       "domestic_gross    0\n",
       "foreign_gross     0\n",
       "year              0\n",
       "dtype: int64"
      ]
     },
     "execution_count": 182,
     "metadata": {},
     "output_type": "execute_result"
    }
   ],
   "source": [
    "#Dropping the missing values and confirming that the dataframe has no missing values\n",
    "bom_movies = bom_movies.dropna()\n",
    "bom_movies.isnull().sum()\n"
   ]
  },
  {
   "cell_type": "code",
   "execution_count": 183,
   "metadata": {},
   "outputs": [
    {
     "data": {
      "text/plain": [
       "(2007, 5)"
      ]
     },
     "execution_count": 183,
     "metadata": {},
     "output_type": "execute_result"
    }
   ],
   "source": [
    "bom_movies.shape"
   ]
  },
  {
   "cell_type": "code",
   "execution_count": 184,
   "metadata": {},
   "outputs": [
    {
     "data": {
      "text/plain": [
       "0"
      ]
     },
     "execution_count": 184,
     "metadata": {},
     "output_type": "execute_result"
    }
   ],
   "source": [
    "#Check for duplicated values\n",
    "bom_movies.duplicated().sum()"
   ]
  },
  {
   "cell_type": "code",
   "execution_count": 185,
   "metadata": {},
   "outputs": [
    {
     "name": "stdout",
     "output_type": "stream",
     "text": [
      "Domestic Gross Summary:\n",
      "count          2,007.00\n",
      "mean      47,019,840.20\n",
      "std       81,626,889.32\n",
      "min              400.00\n",
      "25%          670,000.00\n",
      "50%       16,700,000.00\n",
      "75%       56,050,000.00\n",
      "max      936,700,000.00\n",
      "Name: domestic_gross, dtype: object\n"
     ]
    }
   ],
   "source": [
    "#Summary statistics for domestic gross\n",
    "domestic_summary = bom_movies['domestic_gross'].describe()\n",
    "summary = domestic_summary.apply(lambda x: f\"{x:,.2f}\")\n",
    "\n",
    "print(\"Domestic Gross Summary:\")\n",
    "print(summary)"
   ]
  },
  {
   "cell_type": "markdown",
   "metadata": {},
   "source": [
    "The average domestic gross is approximately $45 million"
   ]
  },
  {
   "cell_type": "code",
   "execution_count": 186,
   "metadata": {},
   "outputs": [
    {
     "name": "stdout",
     "output_type": "stream",
     "text": [
      "Min Domestic Gross: 400.0\n",
      "Max Domestic Gross: 936700000.0\n"
     ]
    }
   ],
   "source": [
    "# Calculating the minimum and maximum domestic gross values\n",
    "min_domestic_gross = bom_movies['domestic_gross'].min()\n",
    "max_domestic_gross = bom_movies['domestic_gross'].max()\n",
    "\n",
    "print(f\"Min Domestic Gross: {min_domestic_gross}\")\n",
    "print(f\"Max Domestic Gross: {max_domestic_gross}\")"
   ]
  },
  {
   "cell_type": "markdown",
   "metadata": {},
   "source": [
    "\n",
    "The domestic gross values span from $400 to $936.7 million."
   ]
  },
  {
   "cell_type": "code",
   "execution_count": 187,
   "metadata": {},
   "outputs": [
    {
     "name": "stdout",
     "output_type": "stream",
     "text": [
      "       domestic_gross\n",
      "count    2.007000e+03\n",
      "mean     4.701984e+07\n",
      "std      8.162689e+07\n",
      "min      4.000000e+02\n",
      "25%      6.700000e+05\n",
      "50%      1.670000e+07\n",
      "75%      5.605000e+07\n",
      "max      9.367000e+08\n"
     ]
    }
   ],
   "source": [
    "# Get an overview of the eranings\n",
    "print(bom_movies[['domestic_gross', 'foreign_gross']].describe())\n"
   ]
  },
  {
   "cell_type": "code",
   "execution_count": 188,
   "metadata": {},
   "outputs": [
    {
     "data": {
      "image/png": "[encoded data removed]",
      "text/plain": [
       "<Figure size 500x200 with 1 Axes>"
      ]
     },
     "metadata": {},
     "output_type": "display_data"
    },
    {
     "data": {
      "image/png": "[encoded data removed]",
      "text/plain": [
       "<Figure size 1400x400 with 1 Axes>"
      ]
     },
     "metadata": {},
     "output_type": "display_data"
    }
   ],
   "source": [
    "#Checking for outliers by visualization\n",
    "\n",
    "plt.figure(figsize=(5,2))\n",
    "sns.boxplot(x=bom_movies['domestic_gross'])\n",
    "plt.title('Boxplot of Domestic Gross')\n",
    "plt.show()\n",
    "\n",
    "plt.figure(figsize=(14, 4))\n",
    "bom_movies['domestic_gross'].plot(kind='hist', bins=50, color='skyblue')\n",
    "plt.title('Distribution of Domestic Gross')\n",
    "plt.xlabel('Domestic Gross')\n",
    "plt.show()"
   ]
  },
  {
   "cell_type": "code",
   "execution_count": 189,
   "metadata": {},
   "outputs": [
    {
     "name": "stdout",
     "output_type": "stream",
     "text": [
      "Domestic Gross Comparison Across Studios:\n",
      "                      mean                sum\n",
      "studio                                       \n",
      "BV          176,889,703.84  18,396,529,199.00\n",
      "Uni.         89,528,041.67  12,892,038,000.00\n",
      "WB           93,258,461.54  12,123,600,000.00\n",
      "Fox          81,526,119.38  10,924,499,997.00\n",
      "Sony         80,566,467.60   8,459,479,098.00\n",
      "...                    ...                ...\n",
      "Grindstone       10,000.00          10,000.00\n",
      "Libre             7,200.00           7,200.00\n",
      "ParC              5,900.00           5,900.00\n",
      "Shout!            2,800.00           5,600.00\n",
      "DR                  800.00             800.00\n",
      "\n",
      "[172 rows x 2 columns]\n"
     ]
    }
   ],
   "source": [
    "#Domestic gross comparison across studios using the mean and the sum\n",
    "\n",
    "studio = bom_movies.groupby('studio')['domestic_gross'].agg(['mean', 'sum']).sort_values(by='sum', ascending=False)\n",
    "\n",
    "studio = studio.map(lambda x: f\"{x:,.2f}\")\n",
    "\n",
    "print(\"Domestic Gross Comparison Across Studios:\")\n",
    "print(studio)\n"
   ]
  },
  {
   "cell_type": "code",
   "execution_count": 190,
   "metadata": {},
   "outputs": [
    {
     "data": {
      "text/plain": [
       "studio\n",
       "Uni.     144\n",
       "Fox      134\n",
       "WB       130\n",
       "Sony     105\n",
       "BV       104\n",
       "Par.      94\n",
       "LGF       87\n",
       "Wein.     69\n",
       "IFC       68\n",
       "SPC       59\n",
       "Name: count, dtype: int64"
      ]
     },
     "execution_count": 190,
     "metadata": {},
     "output_type": "execute_result"
    }
   ],
   "source": [
    "#Getting the top 10 studios per apperance\n",
    "\n",
    "top_studios_per_apperance = bom_movies['studio'].value_counts().head(10)\n",
    "top_studios_per_apperance\n"
   ]
  },
  {
   "cell_type": "markdown",
   "metadata": {},
   "source": []
  },
  {
   "cell_type": "code",
   "execution_count": 191,
   "metadata": {},
   "outputs": [],
   "source": [
    "#Converting foreign_gross to numeric values, forcing errors to Nan\n",
    "bom_movies['foreign_gross'] = pd.to_numeric(bom_movies['foreign_gross'], errors='coerce')"
   ]
  },
  {
   "cell_type": "code",
   "execution_count": 192,
   "metadata": {},
   "outputs": [
    {
     "data": {
      "text/html": [
       "<div>\n",
       "<style scoped>\n",
       "    .dataframe tbody tr th:only-of-type {\n",
       "        vertical-align: middle;\n",
       "    }\n",
       "\n",
       "    .dataframe tbody tr th {\n",
       "        vertical-align: top;\n",
       "    }\n",
       "\n",
       "    .dataframe thead th {\n",
       "        text-align: right;\n",
       "    }\n",
       "</style>\n",
       "<table border=\"1\" class=\"dataframe\">\n",
       "  <thead>\n",
       "    <tr style=\"text-align: right;\">\n",
       "      <th></th>\n",
       "      <th>title</th>\n",
       "      <th>studio</th>\n",
       "      <th>domestic_gross</th>\n",
       "      <th>foreign_gross</th>\n",
       "      <th>year</th>\n",
       "      <th>total_gross</th>\n",
       "    </tr>\n",
       "  </thead>\n",
       "  <tbody>\n",
       "    <tr>\n",
       "      <th>0</th>\n",
       "      <td>Toy Story 3</td>\n",
       "      <td>BV</td>\n",
       "      <td>415000000.0</td>\n",
       "      <td>652000000.0</td>\n",
       "      <td>2010</td>\n",
       "      <td>1.067000e+09</td>\n",
       "    </tr>\n",
       "    <tr>\n",
       "      <th>1</th>\n",
       "      <td>Alice in Wonderland (2010)</td>\n",
       "      <td>BV</td>\n",
       "      <td>334200000.0</td>\n",
       "      <td>691300000.0</td>\n",
       "      <td>2010</td>\n",
       "      <td>1.025500e+09</td>\n",
       "    </tr>\n",
       "    <tr>\n",
       "      <th>2</th>\n",
       "      <td>Harry Potter and the Deathly Hallows Part 1</td>\n",
       "      <td>WB</td>\n",
       "      <td>296000000.0</td>\n",
       "      <td>664300000.0</td>\n",
       "      <td>2010</td>\n",
       "      <td>9.603000e+08</td>\n",
       "    </tr>\n",
       "    <tr>\n",
       "      <th>3</th>\n",
       "      <td>Inception</td>\n",
       "      <td>WB</td>\n",
       "      <td>292600000.0</td>\n",
       "      <td>535700000.0</td>\n",
       "      <td>2010</td>\n",
       "      <td>8.283000e+08</td>\n",
       "    </tr>\n",
       "    <tr>\n",
       "      <th>4</th>\n",
       "      <td>Shrek Forever After</td>\n",
       "      <td>P/DW</td>\n",
       "      <td>238700000.0</td>\n",
       "      <td>513900000.0</td>\n",
       "      <td>2010</td>\n",
       "      <td>7.526000e+08</td>\n",
       "    </tr>\n",
       "    <tr>\n",
       "      <th>5</th>\n",
       "      <td>The Twilight Saga: Eclipse</td>\n",
       "      <td>Sum.</td>\n",
       "      <td>300500000.0</td>\n",
       "      <td>398000000.0</td>\n",
       "      <td>2010</td>\n",
       "      <td>6.985000e+08</td>\n",
       "    </tr>\n",
       "    <tr>\n",
       "      <th>6</th>\n",
       "      <td>Iron Man 2</td>\n",
       "      <td>Par.</td>\n",
       "      <td>312400000.0</td>\n",
       "      <td>311500000.0</td>\n",
       "      <td>2010</td>\n",
       "      <td>6.239000e+08</td>\n",
       "    </tr>\n",
       "    <tr>\n",
       "      <th>7</th>\n",
       "      <td>Tangled</td>\n",
       "      <td>BV</td>\n",
       "      <td>200800000.0</td>\n",
       "      <td>391000000.0</td>\n",
       "      <td>2010</td>\n",
       "      <td>5.918000e+08</td>\n",
       "    </tr>\n",
       "    <tr>\n",
       "      <th>8</th>\n",
       "      <td>Despicable Me</td>\n",
       "      <td>Uni.</td>\n",
       "      <td>251500000.0</td>\n",
       "      <td>291600000.0</td>\n",
       "      <td>2010</td>\n",
       "      <td>5.431000e+08</td>\n",
       "    </tr>\n",
       "    <tr>\n",
       "      <th>9</th>\n",
       "      <td>How to Train Your Dragon</td>\n",
       "      <td>P/DW</td>\n",
       "      <td>217600000.0</td>\n",
       "      <td>277300000.0</td>\n",
       "      <td>2010</td>\n",
       "      <td>4.949000e+08</td>\n",
       "    </tr>\n",
       "  </tbody>\n",
       "</table>\n",
       "</div>"
      ],
      "text/plain": [
       "                                         title studio  domestic_gross  \\\n",
       "0                                  Toy Story 3     BV     415000000.0   \n",
       "1                   Alice in Wonderland (2010)     BV     334200000.0   \n",
       "2  Harry Potter and the Deathly Hallows Part 1     WB     296000000.0   \n",
       "3                                    Inception     WB     292600000.0   \n",
       "4                          Shrek Forever After   P/DW     238700000.0   \n",
       "5                   The Twilight Saga: Eclipse   Sum.     300500000.0   \n",
       "6                                   Iron Man 2   Par.     312400000.0   \n",
       "7                                      Tangled     BV     200800000.0   \n",
       "8                                Despicable Me   Uni.     251500000.0   \n",
       "9                     How to Train Your Dragon   P/DW     217600000.0   \n",
       "\n",
       "   foreign_gross  year   total_gross  \n",
       "0    652000000.0  2010  1.067000e+09  \n",
       "1    691300000.0  2010  1.025500e+09  \n",
       "2    664300000.0  2010  9.603000e+08  \n",
       "3    535700000.0  2010  8.283000e+08  \n",
       "4    513900000.0  2010  7.526000e+08  \n",
       "5    398000000.0  2010  6.985000e+08  \n",
       "6    311500000.0  2010  6.239000e+08  \n",
       "7    391000000.0  2010  5.918000e+08  \n",
       "8    291600000.0  2010  5.431000e+08  \n",
       "9    277300000.0  2010  4.949000e+08  "
      ]
     },
     "execution_count": 192,
     "metadata": {},
     "output_type": "execute_result"
    }
   ],
   "source": [
    "#Adding a new column of total_gross\n",
    "bom_movies['total_gross'] = bom_movies['domestic_gross'] + bom_movies['foreign_gross']\n",
    "bom_movies.head(10)"
   ]
  },
  {
   "cell_type": "code",
   "execution_count": 193,
   "metadata": {},
   "outputs": [
    {
     "data": {
      "text/html": [
       "<div>\n",
       "<style scoped>\n",
       "    .dataframe tbody tr th:only-of-type {\n",
       "        vertical-align: middle;\n",
       "    }\n",
       "\n",
       "    .dataframe tbody tr th {\n",
       "        vertical-align: top;\n",
       "    }\n",
       "\n",
       "    .dataframe thead th {\n",
       "        text-align: right;\n",
       "    }\n",
       "</style>\n",
       "<table border=\"1\" class=\"dataframe\">\n",
       "  <thead>\n",
       "    <tr style=\"text-align: right;\">\n",
       "      <th></th>\n",
       "      <th>title</th>\n",
       "      <th>domestic_gross</th>\n",
       "      <th>foreign_gross</th>\n",
       "      <th>year</th>\n",
       "      <th>total_gross</th>\n",
       "    </tr>\n",
       "    <tr>\n",
       "      <th>studio</th>\n",
       "      <th></th>\n",
       "      <th></th>\n",
       "      <th></th>\n",
       "      <th></th>\n",
       "      <th></th>\n",
       "    </tr>\n",
       "  </thead>\n",
       "  <tbody>\n",
       "    <tr>\n",
       "      <th>BV</th>\n",
       "      <td>Toy Story 3</td>\n",
       "      <td>415000000.0</td>\n",
       "      <td>652000000.0</td>\n",
       "      <td>2010</td>\n",
       "      <td>1.067000e+09</td>\n",
       "    </tr>\n",
       "    <tr>\n",
       "      <th>BV</th>\n",
       "      <td>Alice in Wonderland (2010)</td>\n",
       "      <td>334200000.0</td>\n",
       "      <td>691300000.0</td>\n",
       "      <td>2010</td>\n",
       "      <td>1.025500e+09</td>\n",
       "    </tr>\n",
       "    <tr>\n",
       "      <th>WB</th>\n",
       "      <td>Harry Potter and the Deathly Hallows Part 1</td>\n",
       "      <td>296000000.0</td>\n",
       "      <td>664300000.0</td>\n",
       "      <td>2010</td>\n",
       "      <td>9.603000e+08</td>\n",
       "    </tr>\n",
       "    <tr>\n",
       "      <th>WB</th>\n",
       "      <td>Inception</td>\n",
       "      <td>292600000.0</td>\n",
       "      <td>535700000.0</td>\n",
       "      <td>2010</td>\n",
       "      <td>8.283000e+08</td>\n",
       "    </tr>\n",
       "    <tr>\n",
       "      <th>P/DW</th>\n",
       "      <td>Shrek Forever After</td>\n",
       "      <td>238700000.0</td>\n",
       "      <td>513900000.0</td>\n",
       "      <td>2010</td>\n",
       "      <td>7.526000e+08</td>\n",
       "    </tr>\n",
       "  </tbody>\n",
       "</table>\n",
       "</div>"
      ],
      "text/plain": [
       "                                              title  domestic_gross  \\\n",
       "studio                                                                \n",
       "BV                                      Toy Story 3     415000000.0   \n",
       "BV                       Alice in Wonderland (2010)     334200000.0   \n",
       "WB      Harry Potter and the Deathly Hallows Part 1     296000000.0   \n",
       "WB                                        Inception     292600000.0   \n",
       "P/DW                            Shrek Forever After     238700000.0   \n",
       "\n",
       "        foreign_gross  year   total_gross  \n",
       "studio                                     \n",
       "BV        652000000.0  2010  1.067000e+09  \n",
       "BV        691300000.0  2010  1.025500e+09  \n",
       "WB        664300000.0  2010  9.603000e+08  \n",
       "WB        535700000.0  2010  8.283000e+08  \n",
       "P/DW      513900000.0  2010  7.526000e+08  "
      ]
     },
     "execution_count": 193,
     "metadata": {},
     "output_type": "execute_result"
    }
   ],
   "source": [
    "#Setting the index to be studio\n",
    "bom_movies = bom_movies.set_index('studio')\n",
    "bom_movies.head()"
   ]
  },
  {
   "cell_type": "code",
   "execution_count": 194,
   "metadata": {},
   "outputs": [
    {
     "name": "stdout",
     "output_type": "stream",
     "text": [
      "                   title  domestic_gross  foreign_gross  year  total_gross\n",
      "studio                                                                    \n",
      "Par.          Iron Man 2     312400000.0    311500000.0  2010  623900000.0\n",
      "Sony           Grown Ups     162000000.0    109400000.0  2010  271400000.0\n",
      "Par.           True Grit     171200000.0     81000000.0  2010  252200000.0\n",
      "WB (NL)  Valentine's Day     110500000.0    106000000.0  2010  216500000.0\n",
      "Par.         Jackass 3-D     117200000.0     54500000.0  2010  171700000.0\n",
      "Sony      The Other Guys     119200000.0     51200000.0  2010  170400000.0\n",
      "WB       The Book of Eli      94800000.0     62300000.0  2010  157100000.0\n",
      "WB              The Town      92200000.0     61800000.0  2010  154000000.0\n",
      "Fox           Date Night      98700000.0     53600000.0  2010  152300000.0\n",
      "Par.         The Fighter      93600000.0     35600000.0  2010  129200000.0\n"
     ]
    }
   ],
   "source": [
    "#Top ten movies watched by the domestic market \n",
    "bom_movies_domestic_more_than_foreign = bom_movies[bom_movies['domestic_gross'] > bom_movies['foreign_gross']]\n",
    "print(bom_movies_domestic_more_than_foreign.head(10))"
   ]
  },
  {
   "cell_type": "code",
   "execution_count": 195,
   "metadata": {},
   "outputs": [
    {
     "name": "stdout",
     "output_type": "stream",
     "text": [
      "                                              title  domestic_gross  \\\n",
      "studio                                                                \n",
      "BV                                      Toy Story 3     415000000.0   \n",
      "BV                       Alice in Wonderland (2010)     334200000.0   \n",
      "WB      Harry Potter and the Deathly Hallows Part 1     296000000.0   \n",
      "WB                                        Inception     292600000.0   \n",
      "P/DW                            Shrek Forever After     238700000.0   \n",
      "Sum.                     The Twilight Saga: Eclipse     300500000.0   \n",
      "BV                                          Tangled     200800000.0   \n",
      "Uni.                                  Despicable Me     251500000.0   \n",
      "P/DW                       How to Train Your Dragon     217600000.0   \n",
      "WB                       Clash of the Titans (2010)     163200000.0   \n",
      "\n",
      "        foreign_gross  year   total_gross  \n",
      "studio                                     \n",
      "BV        652000000.0  2010  1.067000e+09  \n",
      "BV        691300000.0  2010  1.025500e+09  \n",
      "WB        664300000.0  2010  9.603000e+08  \n",
      "WB        535700000.0  2010  8.283000e+08  \n",
      "P/DW      513900000.0  2010  7.526000e+08  \n",
      "Sum.      398000000.0  2010  6.985000e+08  \n",
      "BV        391000000.0  2010  5.918000e+08  \n",
      "Uni.      291600000.0  2010  5.431000e+08  \n",
      "P/DW      277300000.0  2010  4.949000e+08  \n",
      "WB        330000000.0  2010  4.932000e+08  \n"
     ]
    }
   ],
   "source": [
    "#Top ten movies watched by the foreign market \n",
    "bom_movies_foreign_more_than_domestic = bom_movies[bom_movies['foreign_gross'] > bom_movies['domestic_gross']]\n",
    "print(bom_movies_foreign_more_than_domestic.head(10))\n"
   ]
  },
  {
   "cell_type": "code",
   "execution_count": 196,
   "metadata": {},
   "outputs": [
    {
     "data": {
      "text/html": [
       "<div>\n",
       "<style scoped>\n",
       "    .dataframe tbody tr th:only-of-type {\n",
       "        vertical-align: middle;\n",
       "    }\n",
       "\n",
       "    .dataframe tbody tr th {\n",
       "        vertical-align: top;\n",
       "    }\n",
       "\n",
       "    .dataframe thead th {\n",
       "        text-align: right;\n",
       "    }\n",
       "</style>\n",
       "<table border=\"1\" class=\"dataframe\">\n",
       "  <thead>\n",
       "    <tr style=\"text-align: right;\">\n",
       "      <th></th>\n",
       "      <th>domestic_gross</th>\n",
       "      <th>foreign_gross</th>\n",
       "      <th>total_gross</th>\n",
       "    </tr>\n",
       "    <tr>\n",
       "      <th>studio</th>\n",
       "      <th></th>\n",
       "      <th></th>\n",
       "      <th></th>\n",
       "    </tr>\n",
       "  </thead>\n",
       "  <tbody>\n",
       "    <tr>\n",
       "      <th>BV</th>\n",
       "      <td>1.839653e+10</td>\n",
       "      <td>2.579385e+10</td>\n",
       "      <td>4.257488e+10</td>\n",
       "    </tr>\n",
       "    <tr>\n",
       "      <th>Fox</th>\n",
       "      <td>1.092450e+10</td>\n",
       "      <td>2.005587e+10</td>\n",
       "      <td>3.098037e+10</td>\n",
       "    </tr>\n",
       "    <tr>\n",
       "      <th>WB</th>\n",
       "      <td>1.212360e+10</td>\n",
       "      <td>1.866790e+10</td>\n",
       "      <td>3.079150e+10</td>\n",
       "    </tr>\n",
       "    <tr>\n",
       "      <th>Uni.</th>\n",
       "      <td>1.289204e+10</td>\n",
       "      <td>1.685477e+10</td>\n",
       "      <td>2.851551e+10</td>\n",
       "    </tr>\n",
       "    <tr>\n",
       "      <th>Sony</th>\n",
       "      <td>8.459479e+09</td>\n",
       "      <td>1.394524e+10</td>\n",
       "      <td>2.240472e+10</td>\n",
       "    </tr>\n",
       "    <tr>\n",
       "      <th>Par.</th>\n",
       "      <td>7.580813e+09</td>\n",
       "      <td>1.186338e+10</td>\n",
       "      <td>1.944420e+10</td>\n",
       "    </tr>\n",
       "    <tr>\n",
       "      <th>WB (NL)</th>\n",
       "      <td>3.975100e+09</td>\n",
       "      <td>6.339000e+09</td>\n",
       "      <td>1.031410e+10</td>\n",
       "    </tr>\n",
       "    <tr>\n",
       "      <th>LGF</th>\n",
       "      <td>3.991851e+09</td>\n",
       "      <td>4.475619e+09</td>\n",
       "      <td>8.467471e+09</td>\n",
       "    </tr>\n",
       "    <tr>\n",
       "      <th>LG/S</th>\n",
       "      <td>1.965200e+09</td>\n",
       "      <td>3.353724e+09</td>\n",
       "      <td>5.318924e+09</td>\n",
       "    </tr>\n",
       "    <tr>\n",
       "      <th>P/DW</th>\n",
       "      <td>1.682900e+09</td>\n",
       "      <td>3.393600e+09</td>\n",
       "      <td>5.076500e+09</td>\n",
       "    </tr>\n",
       "  </tbody>\n",
       "</table>\n",
       "</div>"
      ],
      "text/plain": [
       "         domestic_gross  foreign_gross   total_gross\n",
       "studio                                              \n",
       "BV         1.839653e+10   2.579385e+10  4.257488e+10\n",
       "Fox        1.092450e+10   2.005587e+10  3.098037e+10\n",
       "WB         1.212360e+10   1.866790e+10  3.079150e+10\n",
       "Uni.       1.289204e+10   1.685477e+10  2.851551e+10\n",
       "Sony       8.459479e+09   1.394524e+10  2.240472e+10\n",
       "Par.       7.580813e+09   1.186338e+10  1.944420e+10\n",
       "WB (NL)    3.975100e+09   6.339000e+09  1.031410e+10\n",
       "LGF        3.991851e+09   4.475619e+09  8.467471e+09\n",
       "LG/S       1.965200e+09   3.353724e+09  5.318924e+09\n",
       "P/DW       1.682900e+09   3.393600e+09  5.076500e+09"
      ]
     },
     "execution_count": 196,
     "metadata": {},
     "output_type": "execute_result"
    }
   ],
   "source": [
    "#Top studio according to the revenue generated\n",
    "studio_performance = bom_movies.groupby('studio')[['domestic_gross', 'foreign_gross', 'total_gross']].sum()\n",
    "top_studios = studio_performance.sort_values(by='total_gross',ascending=False).head(10)\n",
    "top_studios[0:10]"
   ]
  },
  {
   "cell_type": "markdown",
   "metadata": {},
   "source": [
    "Analysis"
   ]
  },
  {
   "cell_type": "code",
   "execution_count": 197,
   "metadata": {},
   "outputs": [
    {
     "data": {
      "text/html": [
       "<div>\n",
       "<style scoped>\n",
       "    .dataframe tbody tr th:only-of-type {\n",
       "        vertical-align: middle;\n",
       "    }\n",
       "\n",
       "    .dataframe tbody tr th {\n",
       "        vertical-align: top;\n",
       "    }\n",
       "\n",
       "    .dataframe thead th {\n",
       "        text-align: right;\n",
       "    }\n",
       "</style>\n",
       "<table border=\"1\" class=\"dataframe\">\n",
       "  <thead>\n",
       "    <tr style=\"text-align: right;\">\n",
       "      <th></th>\n",
       "      <th>title</th>\n",
       "      <th>domestic_gross</th>\n",
       "      <th>foreign_gross</th>\n",
       "      <th>year</th>\n",
       "      <th>total_gross</th>\n",
       "    </tr>\n",
       "    <tr>\n",
       "      <th>studio</th>\n",
       "      <th></th>\n",
       "      <th></th>\n",
       "      <th></th>\n",
       "      <th></th>\n",
       "      <th></th>\n",
       "    </tr>\n",
       "  </thead>\n",
       "  <tbody>\n",
       "    <tr>\n",
       "      <th>BV</th>\n",
       "      <td>Toy Story 3</td>\n",
       "      <td>415000000.0</td>\n",
       "      <td>652000000.0</td>\n",
       "      <td>2010</td>\n",
       "      <td>1.067000e+09</td>\n",
       "    </tr>\n",
       "    <tr>\n",
       "      <th>BV</th>\n",
       "      <td>Alice in Wonderland (2010)</td>\n",
       "      <td>334200000.0</td>\n",
       "      <td>691300000.0</td>\n",
       "      <td>2010</td>\n",
       "      <td>1.025500e+09</td>\n",
       "    </tr>\n",
       "    <tr>\n",
       "      <th>WB</th>\n",
       "      <td>Harry Potter and the Deathly Hallows Part 1</td>\n",
       "      <td>296000000.0</td>\n",
       "      <td>664300000.0</td>\n",
       "      <td>2010</td>\n",
       "      <td>9.603000e+08</td>\n",
       "    </tr>\n",
       "    <tr>\n",
       "      <th>WB</th>\n",
       "      <td>Inception</td>\n",
       "      <td>292600000.0</td>\n",
       "      <td>535700000.0</td>\n",
       "      <td>2010</td>\n",
       "      <td>8.283000e+08</td>\n",
       "    </tr>\n",
       "    <tr>\n",
       "      <th>P/DW</th>\n",
       "      <td>Shrek Forever After</td>\n",
       "      <td>238700000.0</td>\n",
       "      <td>513900000.0</td>\n",
       "      <td>2010</td>\n",
       "      <td>7.526000e+08</td>\n",
       "    </tr>\n",
       "    <tr>\n",
       "      <th>Sum.</th>\n",
       "      <td>The Twilight Saga: Eclipse</td>\n",
       "      <td>300500000.0</td>\n",
       "      <td>398000000.0</td>\n",
       "      <td>2010</td>\n",
       "      <td>6.985000e+08</td>\n",
       "    </tr>\n",
       "    <tr>\n",
       "      <th>Par.</th>\n",
       "      <td>Iron Man 2</td>\n",
       "      <td>312400000.0</td>\n",
       "      <td>311500000.0</td>\n",
       "      <td>2010</td>\n",
       "      <td>6.239000e+08</td>\n",
       "    </tr>\n",
       "    <tr>\n",
       "      <th>BV</th>\n",
       "      <td>Tangled</td>\n",
       "      <td>200800000.0</td>\n",
       "      <td>391000000.0</td>\n",
       "      <td>2010</td>\n",
       "      <td>5.918000e+08</td>\n",
       "    </tr>\n",
       "    <tr>\n",
       "      <th>Uni.</th>\n",
       "      <td>Despicable Me</td>\n",
       "      <td>251500000.0</td>\n",
       "      <td>291600000.0</td>\n",
       "      <td>2010</td>\n",
       "      <td>5.431000e+08</td>\n",
       "    </tr>\n",
       "    <tr>\n",
       "      <th>P/DW</th>\n",
       "      <td>How to Train Your Dragon</td>\n",
       "      <td>217600000.0</td>\n",
       "      <td>277300000.0</td>\n",
       "      <td>2010</td>\n",
       "      <td>4.949000e+08</td>\n",
       "    </tr>\n",
       "  </tbody>\n",
       "</table>\n",
       "</div>"
      ],
      "text/plain": [
       "                                              title  domestic_gross  \\\n",
       "studio                                                                \n",
       "BV                                      Toy Story 3     415000000.0   \n",
       "BV                       Alice in Wonderland (2010)     334200000.0   \n",
       "WB      Harry Potter and the Deathly Hallows Part 1     296000000.0   \n",
       "WB                                        Inception     292600000.0   \n",
       "P/DW                            Shrek Forever After     238700000.0   \n",
       "Sum.                     The Twilight Saga: Eclipse     300500000.0   \n",
       "Par.                                     Iron Man 2     312400000.0   \n",
       "BV                                          Tangled     200800000.0   \n",
       "Uni.                                  Despicable Me     251500000.0   \n",
       "P/DW                       How to Train Your Dragon     217600000.0   \n",
       "\n",
       "        foreign_gross  year   total_gross  \n",
       "studio                                     \n",
       "BV        652000000.0  2010  1.067000e+09  \n",
       "BV        691300000.0  2010  1.025500e+09  \n",
       "WB        664300000.0  2010  9.603000e+08  \n",
       "WB        535700000.0  2010  8.283000e+08  \n",
       "P/DW      513900000.0  2010  7.526000e+08  \n",
       "Sum.      398000000.0  2010  6.985000e+08  \n",
       "Par.      311500000.0  2010  6.239000e+08  \n",
       "BV        391000000.0  2010  5.918000e+08  \n",
       "Uni.      291600000.0  2010  5.431000e+08  \n",
       "P/DW      277300000.0  2010  4.949000e+08  "
      ]
     },
     "execution_count": 197,
     "metadata": {},
     "output_type": "execute_result"
    }
   ],
   "source": [
    "bom_movies.head(10)"
   ]
  },
  {
   "cell_type": "markdown",
   "metadata": {},
   "source": [
    "1. Yearly Trends - trends in gross earning and the movie count over the years"
   ]
  },
  {
   "cell_type": "code",
   "execution_count": 198,
   "metadata": {},
   "outputs": [
    {
     "data": {
      "text/html": [
       "<div>\n",
       "<style scoped>\n",
       "    .dataframe tbody tr th:only-of-type {\n",
       "        vertical-align: middle;\n",
       "    }\n",
       "\n",
       "    .dataframe tbody tr th {\n",
       "        vertical-align: top;\n",
       "    }\n",
       "\n",
       "    .dataframe thead th {\n",
       "        text-align: right;\n",
       "    }\n",
       "</style>\n",
       "<table border=\"1\" class=\"dataframe\">\n",
       "  <thead>\n",
       "    <tr style=\"text-align: right;\">\n",
       "      <th></th>\n",
       "      <th>year</th>\n",
       "      <th>domestic_gross</th>\n",
       "      <th>foreign_gross</th>\n",
       "      <th>movie_count</th>\n",
       "    </tr>\n",
       "  </thead>\n",
       "  <tbody>\n",
       "    <tr>\n",
       "      <th>0</th>\n",
       "      <td>2010</td>\n",
       "      <td>1.015274e+10</td>\n",
       "      <td>1.436937e+10</td>\n",
       "      <td>308</td>\n",
       "    </tr>\n",
       "    <tr>\n",
       "      <th>1</th>\n",
       "      <td>2011</td>\n",
       "      <td>9.915690e+09</td>\n",
       "      <td>1.566287e+10</td>\n",
       "      <td>290</td>\n",
       "    </tr>\n",
       "    <tr>\n",
       "      <th>2</th>\n",
       "      <td>2012</td>\n",
       "      <td>1.069786e+10</td>\n",
       "      <td>1.700298e+10</td>\n",
       "      <td>243</td>\n",
       "    </tr>\n",
       "    <tr>\n",
       "      <th>3</th>\n",
       "      <td>2013</td>\n",
       "      <td>1.055885e+10</td>\n",
       "      <td>1.658024e+10</td>\n",
       "      <td>200</td>\n",
       "    </tr>\n",
       "    <tr>\n",
       "      <th>4</th>\n",
       "      <td>2014</td>\n",
       "      <td>1.014798e+10</td>\n",
       "      <td>1.695667e+10</td>\n",
       "      <td>234</td>\n",
       "    </tr>\n",
       "    <tr>\n",
       "      <th>5</th>\n",
       "      <td>2015</td>\n",
       "      <td>1.074487e+10</td>\n",
       "      <td>1.515435e+10</td>\n",
       "      <td>190</td>\n",
       "    </tr>\n",
       "    <tr>\n",
       "      <th>6</th>\n",
       "      <td>2016</td>\n",
       "      <td>1.086969e+10</td>\n",
       "      <td>1.898139e+10</td>\n",
       "      <td>192</td>\n",
       "    </tr>\n",
       "    <tr>\n",
       "      <th>7</th>\n",
       "      <td>2017</td>\n",
       "      <td>1.051677e+10</td>\n",
       "      <td>1.992893e+10</td>\n",
       "      <td>177</td>\n",
       "    </tr>\n",
       "    <tr>\n",
       "      <th>8</th>\n",
       "      <td>2018</td>\n",
       "      <td>1.076436e+10</td>\n",
       "      <td>1.747449e+10</td>\n",
       "      <td>173</td>\n",
       "    </tr>\n",
       "  </tbody>\n",
       "</table>\n",
       "</div>"
      ],
      "text/plain": [
       "   year  domestic_gross  foreign_gross  movie_count\n",
       "0  2010    1.015274e+10   1.436937e+10          308\n",
       "1  2011    9.915690e+09   1.566287e+10          290\n",
       "2  2012    1.069786e+10   1.700298e+10          243\n",
       "3  2013    1.055885e+10   1.658024e+10          200\n",
       "4  2014    1.014798e+10   1.695667e+10          234\n",
       "5  2015    1.074487e+10   1.515435e+10          190\n",
       "6  2016    1.086969e+10   1.898139e+10          192\n",
       "7  2017    1.051677e+10   1.992893e+10          177\n",
       "8  2018    1.076436e+10   1.747449e+10          173"
      ]
     },
     "execution_count": 198,
     "metadata": {},
     "output_type": "execute_result"
    }
   ],
   "source": [
    "#Looking at the yearly trends since 2010 - 2018\n",
    "\n",
    "yearly_trends = bom_movies.groupby('year').agg({\n",
    "    'domestic_gross': 'sum',  \n",
    "    'foreign_gross': 'sum',  \n",
    "    'title': 'count'         \n",
    "}).rename(columns={'title': 'movie_count'}).reset_index()\n",
    "yearly_trends"
   ]
  },
  {
   "cell_type": "code",
   "execution_count": 199,
   "metadata": {},
   "outputs": [
    {
     "data": {
      "image/png": "[encoded data removed]",
      "text/plain": [
       "<Figure size 1200x600 with 1 Axes>"
      ]
     },
     "metadata": {},
     "output_type": "display_data"
    }
   ],
   "source": [
    "#Comparing the domestic gross with the foreign gross\n",
    "# Plot\n",
    "yearly_trends_filtered = yearly_trends[(yearly_trends['year'] >= 2010) & (yearly_trends['year'] <= 2018)]\n",
    "\n",
    "plt.figure(figsize=(12, 6))\n",
    "plt.plot(yearly_trends_filtered['year'], yearly_trends_filtered['domestic_gross'], label='Domestic Gross', marker='o')\n",
    "plt.plot(yearly_trends_filtered['year'], yearly_trends_filtered['foreign_gross'], label='Foreign Gross', marker='o')\n",
    "plt.xlabel('Year')\n",
    "plt.ylabel('Gross Revenue')\n",
    "plt.title('Yearly Domestic vs Foreign Gross Revenue (2010 - 2018)')\n",
    "plt.legend()\n",
    "plt.show()\n"
   ]
  },
  {
   "cell_type": "code",
   "execution_count": 200,
   "metadata": {},
   "outputs": [
    {
     "name": "stdout",
     "output_type": "stream",
     "text": [
      "         domestic_gross  foreign_gross   total_gross\n",
      "studio                                              \n",
      "BV         1.839653e+10   2.579385e+10  4.419038e+10\n",
      "Fox        1.092450e+10   2.005587e+10  3.098037e+10\n",
      "WB         1.212360e+10   1.866790e+10  3.079150e+10\n",
      "Uni.       1.289204e+10   1.685477e+10  2.974681e+10\n",
      "Sony       8.459479e+09   1.394524e+10  2.240472e+10\n",
      "Par.       7.580813e+09   1.186338e+10  1.944420e+10\n",
      "WB (NL)    3.975100e+09   6.339000e+09  1.031410e+10\n",
      "LGF        3.991851e+09   4.475619e+09  8.467471e+09\n",
      "LG/S       1.965200e+09   3.353724e+09  5.318924e+09\n",
      "P/DW       1.682900e+09   3.393600e+09  5.076500e+09\n"
     ]
    },
    {
     "data": {
      "image/png": "[encoded data removed]",
      "text/plain": [
       "<Figure size 1000x600 with 1 Axes>"
      ]
     },
     "metadata": {},
     "output_type": "display_data"
    }
   ],
   "source": [
    "#Top studio acccording to the revenue generated\n",
    "studio_performance = bom_movies.groupby('studio')[['domestic_gross', 'foreign_gross']].sum()\n",
    "\n",
    "#Top 10 studios by total gross revenue\n",
    "studio_performance['total_gross'] = studio_performance['domestic_gross'] + studio_performance['foreign_gross']\n",
    "top_studios = studio_performance.sort_values(by='total_gross', ascending=False).head(10)\n",
    "print(top_studios)\n",
    "\n",
    "#Plotting a stacked bar chart\n",
    "top_studios[['domestic_gross', 'foreign_gross']].plot(kind='bar', stacked=True, figsize=(10,6))\n",
    "plt.title('Top 10 studios by Gross Revenue')\n",
    "plt.xlabel('Studio')\n",
    "plt.ylabel('Gross Revenue')\n",
    "plt.legend(title='Gross Revenue')\n",
    "plt.show()"
   ]
  },
  {
   "cell_type": "markdown",
   "metadata": {},
   "source": [
    "Based on the analysis done, foreign gross significantly drives revenue for studios. The head of the company's new movies studio should ensure the studio invests in globally appealing content so as earn more reveunue.\n",
    "The  studio can also consider collaborations with successful studios or talent.\n",
    "\n",
    "More data can help in making more informed decisions with regards to:\n",
    "Genre consumed by the domestic and international market\n",
    "Cost of production"
   ]
  },
  {
   "cell_type": "markdown",
   "metadata": {},
   "source": [
    "Time series analysis of how domestic gross, foreign gross and the total gross have changed overtime by year of production."
   ]
  },
  {
   "cell_type": "code",
   "execution_count": 201,
   "metadata": {},
   "outputs": [
    {
     "data": {
      "image/png": "[encoded data removed]",
      "text/plain": [
       "<Figure size 1200x600 with 1 Axes>"
      ]
     },
     "metadata": {},
     "output_type": "display_data"
    }
   ],
   "source": [
    "# Year_of_production and sum the domestic and foreign grosses\n",
    "yearly_gross = bom_movies.groupby('year')[['domestic_gross', 'foreign_gross']].sum()\n",
    "\n",
    "\n",
    "yearly_gross['total_gross'] = yearly_gross['domestic_gross'] + yearly_gross['foreign_gross']\n",
    "\n",
    "\n",
    "# Plotting the time series for domestic, foreign, and total gross\n",
    "plt.figure(figsize=(12, 6))\n",
    "\n",
    "plt.plot(yearly_gross.index, yearly_gross['domestic_gross'], label='Domestic Gross', color='blue', marker='o')\n",
    "plt.plot(yearly_gross.index, yearly_gross['foreign_gross'], label='Foreign Gross', color='red', marker='o')\n",
    "plt.plot(yearly_gross.index, yearly_gross['total_gross'], label='Total Gross', color='green', marker='o')\n",
    "\n",
    "plt.title('Movie Gross Over Time (by Year of Production)', fontsize=16)\n",
    "plt.xlabel('Year of Production', fontsize=12)\n",
    "plt.ylabel('Gross Revenue ($)', fontsize=12)\n",
    "plt.legend()\n",
    "\n",
    "plt.grid(True)\n",
    "plt.tight_layout()\n",
    "plt.show()\n",
    "\n"
   ]
  },
  {
   "cell_type": "markdown",
   "metadata": {},
   "source": [
    "The trends in foreign gross and the total gross in general are steadily increasing, and the dominant source of revenue is the international market."
   ]
  },
  {
   "cell_type": "code",
   "execution_count": 202,
   "metadata": {},
   "outputs": [
    {
     "data": {
      "text/html": [
       "<div>\n",
       "<style scoped>\n",
       "    .dataframe tbody tr th:only-of-type {\n",
       "        vertical-align: middle;\n",
       "    }\n",
       "\n",
       "    .dataframe tbody tr th {\n",
       "        vertical-align: top;\n",
       "    }\n",
       "\n",
       "    .dataframe thead th {\n",
       "        text-align: right;\n",
       "    }\n",
       "</style>\n",
       "<table border=\"1\" class=\"dataframe\">\n",
       "  <thead>\n",
       "    <tr style=\"text-align: right;\">\n",
       "      <th></th>\n",
       "      <th>title</th>\n",
       "      <th>domestic_gross</th>\n",
       "      <th>foreign_gross</th>\n",
       "      <th>year</th>\n",
       "      <th>total_gross</th>\n",
       "    </tr>\n",
       "    <tr>\n",
       "      <th>studio</th>\n",
       "      <th></th>\n",
       "      <th></th>\n",
       "      <th></th>\n",
       "      <th></th>\n",
       "      <th></th>\n",
       "    </tr>\n",
       "  </thead>\n",
       "  <tbody>\n",
       "    <tr>\n",
       "      <th>BV</th>\n",
       "      <td>Toy Story 3</td>\n",
       "      <td>415000000.0</td>\n",
       "      <td>652000000.0</td>\n",
       "      <td>2010</td>\n",
       "      <td>1.067000e+09</td>\n",
       "    </tr>\n",
       "    <tr>\n",
       "      <th>BV</th>\n",
       "      <td>Alice in Wonderland (2010)</td>\n",
       "      <td>334200000.0</td>\n",
       "      <td>691300000.0</td>\n",
       "      <td>2010</td>\n",
       "      <td>1.025500e+09</td>\n",
       "    </tr>\n",
       "    <tr>\n",
       "      <th>WB</th>\n",
       "      <td>Harry Potter and the Deathly Hallows Part 1</td>\n",
       "      <td>296000000.0</td>\n",
       "      <td>664300000.0</td>\n",
       "      <td>2010</td>\n",
       "      <td>9.603000e+08</td>\n",
       "    </tr>\n",
       "    <tr>\n",
       "      <th>WB</th>\n",
       "      <td>Inception</td>\n",
       "      <td>292600000.0</td>\n",
       "      <td>535700000.0</td>\n",
       "      <td>2010</td>\n",
       "      <td>8.283000e+08</td>\n",
       "    </tr>\n",
       "    <tr>\n",
       "      <th>P/DW</th>\n",
       "      <td>Shrek Forever After</td>\n",
       "      <td>238700000.0</td>\n",
       "      <td>513900000.0</td>\n",
       "      <td>2010</td>\n",
       "      <td>7.526000e+08</td>\n",
       "    </tr>\n",
       "    <tr>\n",
       "      <th>Sum.</th>\n",
       "      <td>The Twilight Saga: Eclipse</td>\n",
       "      <td>300500000.0</td>\n",
       "      <td>398000000.0</td>\n",
       "      <td>2010</td>\n",
       "      <td>6.985000e+08</td>\n",
       "    </tr>\n",
       "    <tr>\n",
       "      <th>Par.</th>\n",
       "      <td>Iron Man 2</td>\n",
       "      <td>312400000.0</td>\n",
       "      <td>311500000.0</td>\n",
       "      <td>2010</td>\n",
       "      <td>6.239000e+08</td>\n",
       "    </tr>\n",
       "    <tr>\n",
       "      <th>BV</th>\n",
       "      <td>Tangled</td>\n",
       "      <td>200800000.0</td>\n",
       "      <td>391000000.0</td>\n",
       "      <td>2010</td>\n",
       "      <td>5.918000e+08</td>\n",
       "    </tr>\n",
       "    <tr>\n",
       "      <th>Uni.</th>\n",
       "      <td>Despicable Me</td>\n",
       "      <td>251500000.0</td>\n",
       "      <td>291600000.0</td>\n",
       "      <td>2010</td>\n",
       "      <td>5.431000e+08</td>\n",
       "    </tr>\n",
       "    <tr>\n",
       "      <th>P/DW</th>\n",
       "      <td>How to Train Your Dragon</td>\n",
       "      <td>217600000.0</td>\n",
       "      <td>277300000.0</td>\n",
       "      <td>2010</td>\n",
       "      <td>4.949000e+08</td>\n",
       "    </tr>\n",
       "  </tbody>\n",
       "</table>\n",
       "</div>"
      ],
      "text/plain": [
       "                                              title  domestic_gross  \\\n",
       "studio                                                                \n",
       "BV                                      Toy Story 3     415000000.0   \n",
       "BV                       Alice in Wonderland (2010)     334200000.0   \n",
       "WB      Harry Potter and the Deathly Hallows Part 1     296000000.0   \n",
       "WB                                        Inception     292600000.0   \n",
       "P/DW                            Shrek Forever After     238700000.0   \n",
       "Sum.                     The Twilight Saga: Eclipse     300500000.0   \n",
       "Par.                                     Iron Man 2     312400000.0   \n",
       "BV                                          Tangled     200800000.0   \n",
       "Uni.                                  Despicable Me     251500000.0   \n",
       "P/DW                       How to Train Your Dragon     217600000.0   \n",
       "\n",
       "        foreign_gross  year   total_gross  \n",
       "studio                                     \n",
       "BV        652000000.0  2010  1.067000e+09  \n",
       "BV        691300000.0  2010  1.025500e+09  \n",
       "WB        664300000.0  2010  9.603000e+08  \n",
       "WB        535700000.0  2010  8.283000e+08  \n",
       "P/DW      513900000.0  2010  7.526000e+08  \n",
       "Sum.      398000000.0  2010  6.985000e+08  \n",
       "Par.      311500000.0  2010  6.239000e+08  \n",
       "BV        391000000.0  2010  5.918000e+08  \n",
       "Uni.      291600000.0  2010  5.431000e+08  \n",
       "P/DW      277300000.0  2010  4.949000e+08  "
      ]
     },
     "execution_count": 202,
     "metadata": {},
     "output_type": "execute_result"
    }
   ],
   "source": [
    "bom_movies.head(10)"
   ]
  },
  {
   "cell_type": "markdown",
   "metadata": {},
   "source": [
    "Covariance"
   ]
  },
  {
   "cell_type": "code",
   "execution_count": 203,
   "metadata": {},
   "outputs": [
    {
     "name": "stdout",
     "output_type": "stream",
     "text": [
      "Cov between domestic and foreign: 3430962500000000.0\n"
     ]
    }
   ],
   "source": [
    "data = {'domestic_gross': [415000000.0,334200000.0 , 296000000.0,292600000.0 ,238700000.0 ], 'foreign_gross': [652000000.0, 691300000.0,\t664300000.0 , 535700000.0, 513900000.0 ]}\n",
    "cov_data = pd.DataFrame(data)\n",
    "\n",
    "# Calculate covariance between X and Y\n",
    "cov_matrix = cov_data.cov()\n",
    "cov_XY = cov_matrix.loc['domestic_gross', 'foreign_gross']\n",
    "\n",
    "print(\"Cov between domestic and foreign:\", cov_XY)\n"
   ]
  },
  {
   "cell_type": "markdown",
   "metadata": {},
   "source": [
    "This is a positive covariance between domestic and foreign gross which means when the domestic gross of a movie increases, the foreign gross tends to increase as well, and vice versa.\n",
    "This could suggest that movies with high domestic gross tend to also perform well internationally."
   ]
  },
  {
   "cell_type": "code",
   "execution_count": 204,
   "metadata": {},
   "outputs": [
    {
     "data": {
      "image/png": "[encoded data removed]",
      "text/plain": [
       "<Figure size 640x480 with 1 Axes>"
      ]
     },
     "metadata": {},
     "output_type": "display_data"
    }
   ],
   "source": [
    "#Distribution of the total gross\n",
    "sns.histplot(bom_movies['total_gross'], kde=True, color='blue', label='Total Gross', bins=30, alpha=0.6)\n",
    "\n",
    "# Add labels, title, and legend\n",
    "plt.legend()\n",
    "plt.title('Distribution of Total Gross Earnings')\n",
    "plt.xlabel('Gross Earnings')\n",
    "plt.ylabel('Frequency')\n",
    "\n",
    "# Display the plot\n",
    "plt.show()\n"
   ]
  },
  {
   "cell_type": "markdown",
   "metadata": {},
   "source": [
    "The earnings distributions for both domestic and foreign markets are heavily right-skewed.\n",
    "This means the majority of movies have lower gross earnings, while a small number of movies achieve very high earnings.\n",
    "\n",
    "The mode of the distribution is in the 0-50 million range, indicating that most movies fall into this earnings bracket."
   ]
  },
  {
   "cell_type": "markdown",
   "metadata": {},
   "source": [
    "Correlation"
   ]
  },
  {
   "cell_type": "code",
   "execution_count": 205,
   "metadata": {},
   "outputs": [
    {
     "name": "stdout",
     "output_type": "stream",
     "text": [
      "                domestic_gross  foreign_gross\n",
      "domestic_gross        1.000000       0.831178\n",
      "foreign_gross         0.831178       1.000000\n"
     ]
    }
   ],
   "source": [
    "# Calculating the correlation\n",
    "numerical_columns = ['domestic_gross', 'foreign_gross']\n",
    "\n",
    "# Calculating the correlation matrix\n",
    "correlation_matrix = bom_movies[numerical_columns].corr()\n",
    "print(correlation_matrix)\n"
   ]
  },
  {
   "cell_type": "markdown",
   "metadata": {},
   "source": [
    "The correlation between domestic_gross and foreign gross is 0.831178. This value is positive, meaning that as the domestic gross increases, the foreign gross also tends to increase, and vice versa.\n",
    "The value of 0.831178 indicates a strong positive correlation. This would suggest that the domestic gross and foreign gross are strongly related to each other, and movies that perform well domestically also tend to perform well in foreign markets.\n",
    "\n",
    "If we know the domestic gross of a movie, we can reasonably predict its foreign gross to some extent, given the strong correlation. However, the correlation is not perfect, so there are other factors that might influence the foreign gross such as the genre of the movie, country of production and even marketing efforts.\n"
   ]
  },
  {
   "cell_type": "code",
   "execution_count": 206,
   "metadata": {},
   "outputs": [
    {
     "data": {
      "image/png": "[encoded data removed]",
      "text/plain": [
       "<Figure size 640x480 with 2 Axes>"
      ]
     },
     "metadata": {},
     "output_type": "display_data"
    }
   ],
   "source": [
    "#Correlation plot\n",
    "\n",
    "sns.heatmap(correlation_matrix, annot=True, cmap='coolwarm', fmt=\".2f\")\n",
    "plt.title('Correlation Matrix')\n",
    "plt.show()"
   ]
  },
  {
   "cell_type": "markdown",
   "metadata": {},
   "source": [
    "Hypothesis testing"
   ]
  },
  {
   "cell_type": "markdown",
   "metadata": {},
   "source": [
    "Hypothesis Test : Test if there is a significant difference in earnings based on the year\n",
    "\n",
    "Null Hypothesis (H₀): Domestic gross earnings do not vary significantly by year.\n",
    "\n",
    "Alternative Hypothesis (H₁): Domestic gross earnings vary significantly by year.\n",
    "\n"
   ]
  },
  {
   "cell_type": "code",
   "execution_count": 207,
   "metadata": {},
   "outputs": [
    {
     "name": "stdout",
     "output_type": "stream",
     "text": [
      "ANOVA Result:\n",
      "F-statistic: 4.231059277079157\n",
      "P-value: 4.769221523953286e-05\n"
     ]
    }
   ],
   "source": [
    "\n",
    "#Performing the ANOVA test\n",
    "earnings_by_year = [\n",
    "    bom_movies[bom_movies['year'] == year]['domestic_gross'].dropna()\n",
    "    for year in bom_movies['year'].unique()\n",
    "]\n",
    "\n",
    "# Perform ANOVA test\n",
    "anova_result = f_oneway(*earnings_by_year)\n",
    "\n",
    "# Display the result\n",
    "print(\"ANOVA Result:\")\n",
    "print(f\"F-statistic: {anova_result.statistic}\")\n",
    "print(f\"P-value: {anova_result.pvalue}\")\n"
   ]
  },
  {
   "cell_type": "markdown",
   "metadata": {},
   "source": [
    "The p-value (0.0000477) is much smaller than the common significance level.\n",
    "This means we reject the null hypothesis and conclude that there is a statistically significant difference in domestic gross earnings across the years.\n",
    "Suggesting that domestic gross earnings have changed over the years."
   ]
  },
  {
   "cell_type": "markdown",
   "metadata": {},
   "source": [
    "In conclusion, foreign earnings tend to be higher than domestic earnings for most movies. The new studio should focus on producing globally appealing films with high foreign revenue potential.\n",
    "\n",
    "The head of the company's new movie studio should also consider collaborations with successful studios especially the top ten in terms of the revenue generated and appearnce(the number of movies they've produced). A studio like, BV (likely Walt Disney) that stands out as the top performer both in terms of average and total domestic gross earnings. This suggests that Disney movies are consistently popular and highly profitable. They are likely a key player in the industry and could be considered a model for success."
   ]
  }
 ],
 "metadata": {
  "kernelspec": {
   "display_name": "base",
   "language": "python",
   "name": "python3"
  },
  "language_info": {
   "codemirror_mode": {
    "name": "ipython",
    "version": 3
   },
   "file_extension": ".py",
   "mimetype": "text/x-python",
   "name": "python",
   "nbconvert_exporter": "python",
   "pygments_lexer": "ipython3",
   "version": "3.11.7"
  }
 },
 "nbformat": 4,
 "nbformat_minor": 2
}
