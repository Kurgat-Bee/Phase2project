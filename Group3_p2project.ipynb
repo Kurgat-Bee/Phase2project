{
 "cells": [
  {
   "cell_type": "markdown",
   "metadata": {},
   "source": [
    "### BUSINESS UNDERSTANDING\n",
    "With the growing trend of major companies investing in the movie industry, the client is interested in starting his own movie studio. However, without prior experience in the field, the client needs data-driven strategies. The task at hand is to analyze current box office trends and identify which types of films are performing best. Having accurate revenue forecasts, genre performances, and other characteristics of films will assist in prioritizing for maximum success and profitability in the highly competitive entertainment market. \n",
    "Without this data, the company may struggle to effectively identify the most profitable genres, budgets, or release windows, and determine which genres resonate best with local and foreign audiences.\n",
    "\n",
    "#### BUSINESS OBJECTIVES\n",
    "To help the client make a strategic decision on launching this new endeavor, it is essential to address several key questions that will shape our analysis. The primary objectives of this analysis are to answer the following:\n",
    "\n",
    "1. Which genre performs the best at the box office?\n",
    "2. Which studio is the most popular, and what factors contribute to its success?\n",
    "3. Do certain languages have a broader audience reach?\n",
    "4. Who are the top-performing directors in the industry?\n",
    "5. What role does the foreign market play in the industry's overall performance?\n",
    "6. What is the optimal time of year to release a movie for maximum success?\n",
    "\n",
    "#### SUCCESS CRITERIA\n",
    "\n"
   ]
  },
  {
   "cell_type": "markdown",
   "metadata": {},
   "source": [
    "### DATA UNDERSTANDING\n",
    "The data for this analysis was sourced from various movie platforms, including 'The Numbers,' 'Rotten Tomatoes,' 'TMDB Movies,' 'Bom Movies,' and an 'IMDB' database."
   ]
  },
  {
   "cell_type": "code",
   "execution_count": 141,
   "metadata": {},
   "outputs": [],
   "source": [
    "#importing libraries\n",
    "\n",
    "import pandas as pd\n",
    "import numpy as np\n",
    "import seaborn as sns\n",
    "import statsmodels.api as sm\n",
    "import matplotlib.pyplot as plt\n",
    "%matplotlib inline\n",
    "import warnings\n",
    "warnings.filterwarnings('ignore')\n",
    "from datetime import datetime\n",
    "from matplotlib.ticker import ScalarFormatter\n",
    "import scipy.stats as stats\n",
    "import sqlite3\n",
    "import requests\n"
   ]
  },
  {
   "cell_type": "code",
   "execution_count": 142,
   "metadata": {},
   "outputs": [
    {
     "data": {
      "text/html": [
       "<div>\n",
       "<style scoped>\n",
       "    .dataframe tbody tr th:only-of-type {\n",
       "        vertical-align: middle;\n",
       "    }\n",
       "\n",
       "    .dataframe tbody tr th {\n",
       "        vertical-align: top;\n",
       "    }\n",
       "\n",
       "    .dataframe thead th {\n",
       "        text-align: right;\n",
       "    }\n",
       "</style>\n",
       "<table border=\"1\" class=\"dataframe\">\n",
       "  <thead>\n",
       "    <tr style=\"text-align: right;\">\n",
       "      <th></th>\n",
       "      <th>type</th>\n",
       "      <th>name</th>\n",
       "      <th>tbl_name</th>\n",
       "      <th>rootpage</th>\n",
       "      <th>sql</th>\n",
       "    </tr>\n",
       "  </thead>\n",
       "  <tbody>\n",
       "    <tr>\n",
       "      <th>0</th>\n",
       "      <td>table</td>\n",
       "      <td>movie_basics</td>\n",
       "      <td>movie_basics</td>\n",
       "      <td>2</td>\n",
       "      <td>CREATE TABLE \"movie_basics\" (\\n\"movie_id\" TEXT...</td>\n",
       "    </tr>\n",
       "    <tr>\n",
       "      <th>1</th>\n",
       "      <td>table</td>\n",
       "      <td>directors</td>\n",
       "      <td>directors</td>\n",
       "      <td>3</td>\n",
       "      <td>CREATE TABLE \"directors\" (\\n\"movie_id\" TEXT,\\n...</td>\n",
       "    </tr>\n",
       "    <tr>\n",
       "      <th>2</th>\n",
       "      <td>table</td>\n",
       "      <td>known_for</td>\n",
       "      <td>known_for</td>\n",
       "      <td>4</td>\n",
       "      <td>CREATE TABLE \"known_for\" (\\n\"person_id\" TEXT,\\...</td>\n",
       "    </tr>\n",
       "    <tr>\n",
       "      <th>3</th>\n",
       "      <td>table</td>\n",
       "      <td>movie_akas</td>\n",
       "      <td>movie_akas</td>\n",
       "      <td>5</td>\n",
       "      <td>CREATE TABLE \"movie_akas\" (\\n\"movie_id\" TEXT,\\...</td>\n",
       "    </tr>\n",
       "    <tr>\n",
       "      <th>4</th>\n",
       "      <td>table</td>\n",
       "      <td>movie_ratings</td>\n",
       "      <td>movie_ratings</td>\n",
       "      <td>6</td>\n",
       "      <td>CREATE TABLE \"movie_ratings\" (\\n\"movie_id\" TEX...</td>\n",
       "    </tr>\n",
       "    <tr>\n",
       "      <th>5</th>\n",
       "      <td>table</td>\n",
       "      <td>persons</td>\n",
       "      <td>persons</td>\n",
       "      <td>7</td>\n",
       "      <td>CREATE TABLE \"persons\" (\\n\"person_id\" TEXT,\\n ...</td>\n",
       "    </tr>\n",
       "    <tr>\n",
       "      <th>6</th>\n",
       "      <td>table</td>\n",
       "      <td>principals</td>\n",
       "      <td>principals</td>\n",
       "      <td>8</td>\n",
       "      <td>CREATE TABLE \"principals\" (\\n\"movie_id\" TEXT,\\...</td>\n",
       "    </tr>\n",
       "    <tr>\n",
       "      <th>7</th>\n",
       "      <td>table</td>\n",
       "      <td>writers</td>\n",
       "      <td>writers</td>\n",
       "      <td>9</td>\n",
       "      <td>CREATE TABLE \"writers\" (\\n\"movie_id\" TEXT,\\n  ...</td>\n",
       "    </tr>\n",
       "  </tbody>\n",
       "</table>\n",
       "</div>"
      ],
      "text/plain": [
       "    type           name       tbl_name  rootpage  \\\n",
       "0  table   movie_basics   movie_basics         2   \n",
       "1  table      directors      directors         3   \n",
       "2  table      known_for      known_for         4   \n",
       "3  table     movie_akas     movie_akas         5   \n",
       "4  table  movie_ratings  movie_ratings         6   \n",
       "5  table        persons        persons         7   \n",
       "6  table     principals     principals         8   \n",
       "7  table        writers        writers         9   \n",
       "\n",
       "                                                 sql  \n",
       "0  CREATE TABLE \"movie_basics\" (\\n\"movie_id\" TEXT...  \n",
       "1  CREATE TABLE \"directors\" (\\n\"movie_id\" TEXT,\\n...  \n",
       "2  CREATE TABLE \"known_for\" (\\n\"person_id\" TEXT,\\...  \n",
       "3  CREATE TABLE \"movie_akas\" (\\n\"movie_id\" TEXT,\\...  \n",
       "4  CREATE TABLE \"movie_ratings\" (\\n\"movie_id\" TEX...  \n",
       "5  CREATE TABLE \"persons\" (\\n\"person_id\" TEXT,\\n ...  \n",
       "6  CREATE TABLE \"principals\" (\\n\"movie_id\" TEXT,\\...  \n",
       "7  CREATE TABLE \"writers\" (\\n\"movie_id\" TEXT,\\n  ...  "
      ]
     },
     "execution_count": 142,
     "metadata": {},
     "output_type": "execute_result"
    }
   ],
   "source": [
    "#loading data\n",
    "\n",
    "tnbudgets_df = pd.read_csv('tn.movie_budgets.csv')\n",
    "tmdb_df = pd.read_csv('tmdb.movies.csv')\n",
    "rtinfo = pd.read_csv('rt.movie_info.tsv', sep = '\\t', skiprows=lambda x: x == 1378)\n",
    "bom_movies= pd.read_csv('bom.movie_gross.csv')\n",
    "conn = sqlite3.connect('im.db')\n",
    "pd.read_sql(\"\"\"SELECT *\n",
    "            FROM sqlite_master\"\"\",conn)"
   ]
  },
  {
   "cell_type": "code",
   "execution_count": 143,
   "metadata": {},
   "outputs": [
    {
     "name": "stdout",
     "output_type": "stream",
     "text": [
      "Genre Dictionary: {28: 'Action', 12: 'Adventure', 16: 'Animation', 35: 'Comedy', 80: 'Crime', 99: 'Documentary', 18: 'Drama', 10751: 'Family', 14: 'Fantasy', 36: 'History', 27: 'Horror', 10402: 'Music', 9648: 'Mystery', 10749: 'Romance', 878: 'Science Fiction', 10770: 'TV Movie', 53: 'Thriller', 10752: 'War', 37: 'Western'}\n"
     ]
    }
   ],
   "source": [
    "#fetching data from tmdb website to relate genre IDs with the genre names\n",
    "\n",
    "# Defining my  API key after creating it by creating an account in TMDB\n",
    "api_key = \"0135236f1aaceb14241d05ec5221485b\"  \n",
    "# Getting the genre list from the TMDb API\n",
    "url = f\"https://api.themoviedb.org/3/genre/movie/list?api_key={api_key}&language=en-US\"\n",
    "response = requests.get(url)\n",
    "if response.status_code == 200:\n",
    "    genre_data = response.json()['genres']\n",
    "    # Creating  a dictionary mapping genre_ids to genre names\n",
    "    genre_dict = {genre['id']: genre['name'] for genre in genre_data}\n",
    "    print(\"Genre Dictionary:\", genre_dict)\n",
    "else:\n",
    "    print(f\"Failed to fetch genres. Status Code: {response.status_code}\")"
   ]
  },
  {
   "cell_type": "code",
   "execution_count": 145,
   "metadata": {},
   "outputs": [
    {
     "data": {
      "text/html": [
       "<div>\n",
       "<style scoped>\n",
       "    .dataframe tbody tr th:only-of-type {\n",
       "        vertical-align: middle;\n",
       "    }\n",
       "\n",
       "    .dataframe tbody tr th {\n",
       "        vertical-align: top;\n",
       "    }\n",
       "\n",
       "    .dataframe thead th {\n",
       "        text-align: right;\n",
       "    }\n",
       "</style>\n",
       "<table border=\"1\" class=\"dataframe\">\n",
       "  <thead>\n",
       "    <tr style=\"text-align: right;\">\n",
       "      <th></th>\n",
       "      <th>id</th>\n",
       "      <th>release_date</th>\n",
       "      <th>movie</th>\n",
       "      <th>production_budget</th>\n",
       "      <th>domestic_gross</th>\n",
       "      <th>worldwide_gross</th>\n",
       "    </tr>\n",
       "  </thead>\n",
       "  <tbody>\n",
       "    <tr>\n",
       "      <th>0</th>\n",
       "      <td>1</td>\n",
       "      <td>Dec 18, 2009</td>\n",
       "      <td>Avatar</td>\n",
       "      <td>$425,000,000</td>\n",
       "      <td>$760,507,625</td>\n",
       "      <td>$2,776,345,279</td>\n",
       "    </tr>\n",
       "    <tr>\n",
       "      <th>1</th>\n",
       "      <td>2</td>\n",
       "      <td>May 20, 2011</td>\n",
       "      <td>Pirates of the Caribbean: On Stranger Tides</td>\n",
       "      <td>$410,600,000</td>\n",
       "      <td>$241,063,875</td>\n",
       "      <td>$1,045,663,875</td>\n",
       "    </tr>\n",
       "    <tr>\n",
       "      <th>2</th>\n",
       "      <td>3</td>\n",
       "      <td>Jun 7, 2019</td>\n",
       "      <td>Dark Phoenix</td>\n",
       "      <td>$350,000,000</td>\n",
       "      <td>$42,762,350</td>\n",
       "      <td>$149,762,350</td>\n",
       "    </tr>\n",
       "    <tr>\n",
       "      <th>3</th>\n",
       "      <td>4</td>\n",
       "      <td>May 1, 2015</td>\n",
       "      <td>Avengers: Age of Ultron</td>\n",
       "      <td>$330,600,000</td>\n",
       "      <td>$459,005,868</td>\n",
       "      <td>$1,403,013,963</td>\n",
       "    </tr>\n",
       "    <tr>\n",
       "      <th>4</th>\n",
       "      <td>5</td>\n",
       "      <td>Dec 15, 2017</td>\n",
       "      <td>Star Wars Ep. VIII: The Last Jedi</td>\n",
       "      <td>$317,000,000</td>\n",
       "      <td>$620,181,382</td>\n",
       "      <td>$1,316,721,747</td>\n",
       "    </tr>\n",
       "  </tbody>\n",
       "</table>\n",
       "</div>"
      ],
      "text/plain": [
       "   id  release_date                                        movie  \\\n",
       "0   1  Dec 18, 2009                                       Avatar   \n",
       "1   2  May 20, 2011  Pirates of the Caribbean: On Stranger Tides   \n",
       "2   3   Jun 7, 2019                                 Dark Phoenix   \n",
       "3   4   May 1, 2015                      Avengers: Age of Ultron   \n",
       "4   5  Dec 15, 2017            Star Wars Ep. VIII: The Last Jedi   \n",
       "\n",
       "  production_budget domestic_gross worldwide_gross  \n",
       "0      $425,000,000   $760,507,625  $2,776,345,279  \n",
       "1      $410,600,000   $241,063,875  $1,045,663,875  \n",
       "2      $350,000,000    $42,762,350    $149,762,350  \n",
       "3      $330,600,000   $459,005,868  $1,403,013,963  \n",
       "4      $317,000,000   $620,181,382  $1,316,721,747  "
      ]
     },
     "execution_count": 145,
     "metadata": {},
     "output_type": "execute_result"
    }
   ],
   "source": [
    "#viewing the top 5 rows\n",
    "\n",
    "tnbudgets_df.head()"
   ]
  },
  {
   "cell_type": "code",
   "execution_count": 146,
   "metadata": {},
   "outputs": [
    {
     "data": {
      "text/html": [
       "<div>\n",
       "<style scoped>\n",
       "    .dataframe tbody tr th:only-of-type {\n",
       "        vertical-align: middle;\n",
       "    }\n",
       "\n",
       "    .dataframe tbody tr th {\n",
       "        vertical-align: top;\n",
       "    }\n",
       "\n",
       "    .dataframe thead th {\n",
       "        text-align: right;\n",
       "    }\n",
       "</style>\n",
       "<table border=\"1\" class=\"dataframe\">\n",
       "  <thead>\n",
       "    <tr style=\"text-align: right;\">\n",
       "      <th></th>\n",
       "      <th>Unnamed: 0</th>\n",
       "      <th>genre_ids</th>\n",
       "      <th>id</th>\n",
       "      <th>original_language</th>\n",
       "      <th>original_title</th>\n",
       "      <th>popularity</th>\n",
       "      <th>release_date</th>\n",
       "      <th>title</th>\n",
       "      <th>vote_average</th>\n",
       "      <th>vote_count</th>\n",
       "      <th>genre_names</th>\n",
       "    </tr>\n",
       "  </thead>\n",
       "  <tbody>\n",
       "    <tr>\n",
       "      <th>0</th>\n",
       "      <td>0</td>\n",
       "      <td>[12, 14, 10751]</td>\n",
       "      <td>12444</td>\n",
       "      <td>en</td>\n",
       "      <td>Harry Potter and the Deathly Hallows: Part 1</td>\n",
       "      <td>33.533</td>\n",
       "      <td>2010-11-19</td>\n",
       "      <td>Harry Potter and the Deathly Hallows: Part 1</td>\n",
       "      <td>7.7</td>\n",
       "      <td>10788</td>\n",
       "      <td>[Unknown, Unknown, Unknown, Unknown, Unknown, ...</td>\n",
       "    </tr>\n",
       "    <tr>\n",
       "      <th>1</th>\n",
       "      <td>1</td>\n",
       "      <td>[14, 12, 16, 10751]</td>\n",
       "      <td>10191</td>\n",
       "      <td>en</td>\n",
       "      <td>How to Train Your Dragon</td>\n",
       "      <td>28.734</td>\n",
       "      <td>2010-03-26</td>\n",
       "      <td>How to Train Your Dragon</td>\n",
       "      <td>7.7</td>\n",
       "      <td>7610</td>\n",
       "      <td>[Unknown, Unknown, Unknown, Unknown, Unknown, ...</td>\n",
       "    </tr>\n",
       "    <tr>\n",
       "      <th>2</th>\n",
       "      <td>2</td>\n",
       "      <td>[12, 28, 878]</td>\n",
       "      <td>10138</td>\n",
       "      <td>en</td>\n",
       "      <td>Iron Man 2</td>\n",
       "      <td>28.515</td>\n",
       "      <td>2010-05-07</td>\n",
       "      <td>Iron Man 2</td>\n",
       "      <td>6.8</td>\n",
       "      <td>12368</td>\n",
       "      <td>[Unknown, Unknown, Unknown, Unknown, Unknown, ...</td>\n",
       "    </tr>\n",
       "    <tr>\n",
       "      <th>3</th>\n",
       "      <td>3</td>\n",
       "      <td>[16, 35, 10751]</td>\n",
       "      <td>862</td>\n",
       "      <td>en</td>\n",
       "      <td>Toy Story</td>\n",
       "      <td>28.005</td>\n",
       "      <td>1995-11-22</td>\n",
       "      <td>Toy Story</td>\n",
       "      <td>7.9</td>\n",
       "      <td>10174</td>\n",
       "      <td>[Unknown, Unknown, Unknown, Unknown, Unknown, ...</td>\n",
       "    </tr>\n",
       "    <tr>\n",
       "      <th>4</th>\n",
       "      <td>4</td>\n",
       "      <td>[28, 878, 12]</td>\n",
       "      <td>27205</td>\n",
       "      <td>en</td>\n",
       "      <td>Inception</td>\n",
       "      <td>27.920</td>\n",
       "      <td>2010-07-16</td>\n",
       "      <td>Inception</td>\n",
       "      <td>8.3</td>\n",
       "      <td>22186</td>\n",
       "      <td>[Unknown, Unknown, Unknown, Unknown, Unknown, ...</td>\n",
       "    </tr>\n",
       "  </tbody>\n",
       "</table>\n",
       "</div>"
      ],
      "text/plain": [
       "   Unnamed: 0            genre_ids     id original_language  \\\n",
       "0           0      [12, 14, 10751]  12444                en   \n",
       "1           1  [14, 12, 16, 10751]  10191                en   \n",
       "2           2        [12, 28, 878]  10138                en   \n",
       "3           3      [16, 35, 10751]    862                en   \n",
       "4           4        [28, 878, 12]  27205                en   \n",
       "\n",
       "                                 original_title  popularity release_date  \\\n",
       "0  Harry Potter and the Deathly Hallows: Part 1      33.533   2010-11-19   \n",
       "1                      How to Train Your Dragon      28.734   2010-03-26   \n",
       "2                                    Iron Man 2      28.515   2010-05-07   \n",
       "3                                     Toy Story      28.005   1995-11-22   \n",
       "4                                     Inception      27.920   2010-07-16   \n",
       "\n",
       "                                          title  vote_average  vote_count  \\\n",
       "0  Harry Potter and the Deathly Hallows: Part 1           7.7       10788   \n",
       "1                      How to Train Your Dragon           7.7        7610   \n",
       "2                                    Iron Man 2           6.8       12368   \n",
       "3                                     Toy Story           7.9       10174   \n",
       "4                                     Inception           8.3       22186   \n",
       "\n",
       "                                         genre_names  \n",
       "0  [Unknown, Unknown, Unknown, Unknown, Unknown, ...  \n",
       "1  [Unknown, Unknown, Unknown, Unknown, Unknown, ...  \n",
       "2  [Unknown, Unknown, Unknown, Unknown, Unknown, ...  \n",
       "3  [Unknown, Unknown, Unknown, Unknown, Unknown, ...  \n",
       "4  [Unknown, Unknown, Unknown, Unknown, Unknown, ...  "
      ]
     },
     "execution_count": 146,
     "metadata": {},
     "output_type": "execute_result"
    }
   ],
   "source": [
    "tmdb_df.head()"
   ]
  },
  {
   "cell_type": "code",
   "execution_count": 147,
   "metadata": {},
   "outputs": [
    {
     "data": {
      "text/html": [
       "<div>\n",
       "<style scoped>\n",
       "    .dataframe tbody tr th:only-of-type {\n",
       "        vertical-align: middle;\n",
       "    }\n",
       "\n",
       "    .dataframe tbody tr th {\n",
       "        vertical-align: top;\n",
       "    }\n",
       "\n",
       "    .dataframe thead th {\n",
       "        text-align: right;\n",
       "    }\n",
       "</style>\n",
       "<table border=\"1\" class=\"dataframe\">\n",
       "  <thead>\n",
       "    <tr style=\"text-align: right;\">\n",
       "      <th></th>\n",
       "      <th>id</th>\n",
       "      <th>synopsis</th>\n",
       "      <th>rating</th>\n",
       "      <th>genre</th>\n",
       "      <th>director</th>\n",
       "      <th>writer</th>\n",
       "      <th>theater_date</th>\n",
       "      <th>dvd_date</th>\n",
       "      <th>currency</th>\n",
       "      <th>box_office</th>\n",
       "      <th>runtime</th>\n",
       "      <th>studio</th>\n",
       "    </tr>\n",
       "  </thead>\n",
       "  <tbody>\n",
       "    <tr>\n",
       "      <th>0</th>\n",
       "      <td>1</td>\n",
       "      <td>This gritty, fast-paced, and innovative police...</td>\n",
       "      <td>R</td>\n",
       "      <td>Action and Adventure|Classics|Drama</td>\n",
       "      <td>William Friedkin</td>\n",
       "      <td>Ernest Tidyman</td>\n",
       "      <td>Oct 9, 1971</td>\n",
       "      <td>Sep 25, 2001</td>\n",
       "      <td>NaN</td>\n",
       "      <td>NaN</td>\n",
       "      <td>104 minutes</td>\n",
       "      <td>NaN</td>\n",
       "    </tr>\n",
       "    <tr>\n",
       "      <th>1</th>\n",
       "      <td>3</td>\n",
       "      <td>New York City, not-too-distant-future: Eric Pa...</td>\n",
       "      <td>R</td>\n",
       "      <td>Drama|Science Fiction and Fantasy</td>\n",
       "      <td>David Cronenberg</td>\n",
       "      <td>David Cronenberg|Don DeLillo</td>\n",
       "      <td>Aug 17, 2012</td>\n",
       "      <td>Jan 1, 2013</td>\n",
       "      <td>$</td>\n",
       "      <td>600,000</td>\n",
       "      <td>108 minutes</td>\n",
       "      <td>Entertainment One</td>\n",
       "    </tr>\n",
       "    <tr>\n",
       "      <th>2</th>\n",
       "      <td>5</td>\n",
       "      <td>Illeana Douglas delivers a superb performance ...</td>\n",
       "      <td>R</td>\n",
       "      <td>Drama|Musical and Performing Arts</td>\n",
       "      <td>Allison Anders</td>\n",
       "      <td>Allison Anders</td>\n",
       "      <td>Sep 13, 1996</td>\n",
       "      <td>Apr 18, 2000</td>\n",
       "      <td>NaN</td>\n",
       "      <td>NaN</td>\n",
       "      <td>116 minutes</td>\n",
       "      <td>NaN</td>\n",
       "    </tr>\n",
       "    <tr>\n",
       "      <th>3</th>\n",
       "      <td>6</td>\n",
       "      <td>Michael Douglas runs afoul of a treacherous su...</td>\n",
       "      <td>R</td>\n",
       "      <td>Drama|Mystery and Suspense</td>\n",
       "      <td>Barry Levinson</td>\n",
       "      <td>Paul Attanasio|Michael Crichton</td>\n",
       "      <td>Dec 9, 1994</td>\n",
       "      <td>Aug 27, 1997</td>\n",
       "      <td>NaN</td>\n",
       "      <td>NaN</td>\n",
       "      <td>128 minutes</td>\n",
       "      <td>NaN</td>\n",
       "    </tr>\n",
       "    <tr>\n",
       "      <th>4</th>\n",
       "      <td>7</td>\n",
       "      <td>NaN</td>\n",
       "      <td>NR</td>\n",
       "      <td>Drama|Romance</td>\n",
       "      <td>Rodney Bennett</td>\n",
       "      <td>Giles Cooper</td>\n",
       "      <td>NaN</td>\n",
       "      <td>NaN</td>\n",
       "      <td>NaN</td>\n",
       "      <td>NaN</td>\n",
       "      <td>200 minutes</td>\n",
       "      <td>NaN</td>\n",
       "    </tr>\n",
       "  </tbody>\n",
       "</table>\n",
       "</div>"
      ],
      "text/plain": [
       "   id                                           synopsis rating  \\\n",
       "0   1  This gritty, fast-paced, and innovative police...      R   \n",
       "1   3  New York City, not-too-distant-future: Eric Pa...      R   \n",
       "2   5  Illeana Douglas delivers a superb performance ...      R   \n",
       "3   6  Michael Douglas runs afoul of a treacherous su...      R   \n",
       "4   7                                                NaN     NR   \n",
       "\n",
       "                                 genre          director  \\\n",
       "0  Action and Adventure|Classics|Drama  William Friedkin   \n",
       "1    Drama|Science Fiction and Fantasy  David Cronenberg   \n",
       "2    Drama|Musical and Performing Arts    Allison Anders   \n",
       "3           Drama|Mystery and Suspense    Barry Levinson   \n",
       "4                        Drama|Romance    Rodney Bennett   \n",
       "\n",
       "                            writer  theater_date      dvd_date currency  \\\n",
       "0                   Ernest Tidyman   Oct 9, 1971  Sep 25, 2001      NaN   \n",
       "1     David Cronenberg|Don DeLillo  Aug 17, 2012   Jan 1, 2013        $   \n",
       "2                   Allison Anders  Sep 13, 1996  Apr 18, 2000      NaN   \n",
       "3  Paul Attanasio|Michael Crichton   Dec 9, 1994  Aug 27, 1997      NaN   \n",
       "4                     Giles Cooper           NaN           NaN      NaN   \n",
       "\n",
       "  box_office      runtime             studio  \n",
       "0        NaN  104 minutes                NaN  \n",
       "1    600,000  108 minutes  Entertainment One  \n",
       "2        NaN  116 minutes                NaN  \n",
       "3        NaN  128 minutes                NaN  \n",
       "4        NaN  200 minutes                NaN  "
      ]
     },
     "execution_count": 147,
     "metadata": {},
     "output_type": "execute_result"
    }
   ],
   "source": [
    "rtinfo.head()"
   ]
  },
  {
   "cell_type": "code",
   "execution_count": 148,
   "metadata": {},
   "outputs": [
    {
     "data": {
      "text/html": [
       "<div>\n",
       "<style scoped>\n",
       "    .dataframe tbody tr th:only-of-type {\n",
       "        vertical-align: middle;\n",
       "    }\n",
       "\n",
       "    .dataframe tbody tr th {\n",
       "        vertical-align: top;\n",
       "    }\n",
       "\n",
       "    .dataframe thead th {\n",
       "        text-align: right;\n",
       "    }\n",
       "</style>\n",
       "<table border=\"1\" class=\"dataframe\">\n",
       "  <thead>\n",
       "    <tr style=\"text-align: right;\">\n",
       "      <th></th>\n",
       "      <th>title</th>\n",
       "      <th>studio</th>\n",
       "      <th>domestic_gross</th>\n",
       "      <th>foreign_gross</th>\n",
       "      <th>year</th>\n",
       "    </tr>\n",
       "  </thead>\n",
       "  <tbody>\n",
       "    <tr>\n",
       "      <th>0</th>\n",
       "      <td>Toy Story 3</td>\n",
       "      <td>BV</td>\n",
       "      <td>415000000.0</td>\n",
       "      <td>652000000</td>\n",
       "      <td>2010</td>\n",
       "    </tr>\n",
       "    <tr>\n",
       "      <th>1</th>\n",
       "      <td>Alice in Wonderland (2010)</td>\n",
       "      <td>BV</td>\n",
       "      <td>334200000.0</td>\n",
       "      <td>691300000</td>\n",
       "      <td>2010</td>\n",
       "    </tr>\n",
       "    <tr>\n",
       "      <th>2</th>\n",
       "      <td>Harry Potter and the Deathly Hallows Part 1</td>\n",
       "      <td>WB</td>\n",
       "      <td>296000000.0</td>\n",
       "      <td>664300000</td>\n",
       "      <td>2010</td>\n",
       "    </tr>\n",
       "    <tr>\n",
       "      <th>3</th>\n",
       "      <td>Inception</td>\n",
       "      <td>WB</td>\n",
       "      <td>292600000.0</td>\n",
       "      <td>535700000</td>\n",
       "      <td>2010</td>\n",
       "    </tr>\n",
       "    <tr>\n",
       "      <th>4</th>\n",
       "      <td>Shrek Forever After</td>\n",
       "      <td>P/DW</td>\n",
       "      <td>238700000.0</td>\n",
       "      <td>513900000</td>\n",
       "      <td>2010</td>\n",
       "    </tr>\n",
       "  </tbody>\n",
       "</table>\n",
       "</div>"
      ],
      "text/plain": [
       "                                         title studio  domestic_gross  \\\n",
       "0                                  Toy Story 3     BV     415000000.0   \n",
       "1                   Alice in Wonderland (2010)     BV     334200000.0   \n",
       "2  Harry Potter and the Deathly Hallows Part 1     WB     296000000.0   \n",
       "3                                    Inception     WB     292600000.0   \n",
       "4                          Shrek Forever After   P/DW     238700000.0   \n",
       "\n",
       "  foreign_gross  year  \n",
       "0     652000000  2010  \n",
       "1     691300000  2010  \n",
       "2     664300000  2010  \n",
       "3     535700000  2010  \n",
       "4     513900000  2010  "
      ]
     },
     "execution_count": 148,
     "metadata": {},
     "output_type": "execute_result"
    }
   ],
   "source": [
    "bom_movies.head()"
   ]
  },
  {
   "cell_type": "code",
   "execution_count": 149,
   "metadata": {},
   "outputs": [
    {
     "name": "stdout",
     "output_type": "stream",
     "text": [
      "<class 'pandas.core.frame.DataFrame'>\n",
      "RangeIndex: 5782 entries, 0 to 5781\n",
      "Data columns (total 6 columns):\n",
      " #   Column             Non-Null Count  Dtype \n",
      "---  ------             --------------  ----- \n",
      " 0   id                 5782 non-null   int64 \n",
      " 1   release_date       5782 non-null   object\n",
      " 2   movie              5782 non-null   object\n",
      " 3   production_budget  5782 non-null   object\n",
      " 4   domestic_gross     5782 non-null   object\n",
      " 5   worldwide_gross    5782 non-null   object\n",
      "dtypes: int64(1), object(5)\n",
      "memory usage: 271.2+ KB\n"
     ]
    }
   ],
   "source": [
    "#more information on the data\n",
    "\n",
    "tnbudgets_df.info()"
   ]
  },
  {
   "cell_type": "code",
   "execution_count": 150,
   "metadata": {},
   "outputs": [
    {
     "name": "stdout",
     "output_type": "stream",
     "text": [
      "<class 'pandas.core.frame.DataFrame'>\n",
      "RangeIndex: 26517 entries, 0 to 26516\n",
      "Data columns (total 11 columns):\n",
      " #   Column             Non-Null Count  Dtype  \n",
      "---  ------             --------------  -----  \n",
      " 0   Unnamed: 0         26517 non-null  int64  \n",
      " 1   genre_ids          26517 non-null  object \n",
      " 2   id                 26517 non-null  int64  \n",
      " 3   original_language  26517 non-null  object \n",
      " 4   original_title     26517 non-null  object \n",
      " 5   popularity         26517 non-null  float64\n",
      " 6   release_date       26517 non-null  object \n",
      " 7   title              26517 non-null  object \n",
      " 8   vote_average       26517 non-null  float64\n",
      " 9   vote_count         26517 non-null  int64  \n",
      " 10  genre_names        26517 non-null  object \n",
      "dtypes: float64(2), int64(3), object(6)\n",
      "memory usage: 2.2+ MB\n"
     ]
    }
   ],
   "source": [
    "tmdb_df.info()"
   ]
  },
  {
   "cell_type": "code",
   "execution_count": 151,
   "metadata": {},
   "outputs": [
    {
     "name": "stdout",
     "output_type": "stream",
     "text": [
      "<class 'pandas.core.frame.DataFrame'>\n",
      "RangeIndex: 1559 entries, 0 to 1558\n",
      "Data columns (total 12 columns):\n",
      " #   Column        Non-Null Count  Dtype \n",
      "---  ------        --------------  ----- \n",
      " 0   id            1559 non-null   int64 \n",
      " 1   synopsis      1497 non-null   object\n",
      " 2   rating        1556 non-null   object\n",
      " 3   genre         1551 non-null   object\n",
      " 4   director      1360 non-null   object\n",
      " 5   writer        1110 non-null   object\n",
      " 6   theater_date  1200 non-null   object\n",
      " 7   dvd_date      1200 non-null   object\n",
      " 8   currency      340 non-null    object\n",
      " 9   box_office    340 non-null    object\n",
      " 10  runtime       1529 non-null   object\n",
      " 11  studio        494 non-null    object\n",
      "dtypes: int64(1), object(11)\n",
      "memory usage: 146.3+ KB\n"
     ]
    }
   ],
   "source": [
    "rtinfo.info()"
   ]
  },
  {
   "cell_type": "code",
   "execution_count": 152,
   "metadata": {},
   "outputs": [
    {
     "name": "stdout",
     "output_type": "stream",
     "text": [
      "<class 'pandas.core.frame.DataFrame'>\n",
      "RangeIndex: 3387 entries, 0 to 3386\n",
      "Data columns (total 5 columns):\n",
      " #   Column          Non-Null Count  Dtype  \n",
      "---  ------          --------------  -----  \n",
      " 0   title           3387 non-null   object \n",
      " 1   studio          3382 non-null   object \n",
      " 2   domestic_gross  3359 non-null   float64\n",
      " 3   foreign_gross   2037 non-null   object \n",
      " 4   year            3387 non-null   int64  \n",
      "dtypes: float64(1), int64(1), object(3)\n",
      "memory usage: 132.4+ KB\n"
     ]
    }
   ],
   "source": [
    "bom_movies.info()"
   ]
  },
  {
   "cell_type": "markdown",
   "metadata": {},
   "source": [
    "From the above we can note that tmdb and tnbudgets datasets do not have any missing values. Also, some of the data are numerical but are categorised as objects."
   ]
  },
  {
   "cell_type": "markdown",
   "metadata": {},
   "source": [
    "### DATA PREPARATION AND DATA CLEANING"
   ]
  },
  {
   "cell_type": "markdown",
   "metadata": {},
   "source": [
    "##### tnbudgets dataset"
   ]
  },
  {
   "cell_type": "code",
   "execution_count": 153,
   "metadata": {},
   "outputs": [
    {
     "data": {
      "text/html": [
       "<div>\n",
       "<style scoped>\n",
       "    .dataframe tbody tr th:only-of-type {\n",
       "        vertical-align: middle;\n",
       "    }\n",
       "\n",
       "    .dataframe tbody tr th {\n",
       "        vertical-align: top;\n",
       "    }\n",
       "\n",
       "    .dataframe thead th {\n",
       "        text-align: right;\n",
       "    }\n",
       "</style>\n",
       "<table border=\"1\" class=\"dataframe\">\n",
       "  <thead>\n",
       "    <tr style=\"text-align: right;\">\n",
       "      <th></th>\n",
       "      <th>id</th>\n",
       "      <th>release_date</th>\n",
       "      <th>movie</th>\n",
       "      <th>production_budget</th>\n",
       "      <th>domestic_gross</th>\n",
       "      <th>worldwide_gross</th>\n",
       "    </tr>\n",
       "  </thead>\n",
       "  <tbody>\n",
       "    <tr>\n",
       "      <th>0</th>\n",
       "      <td>1</td>\n",
       "      <td>Dec 18, 2009</td>\n",
       "      <td>Avatar</td>\n",
       "      <td>425000000</td>\n",
       "      <td>760507625</td>\n",
       "      <td>-2147483648</td>\n",
       "    </tr>\n",
       "    <tr>\n",
       "      <th>1</th>\n",
       "      <td>2</td>\n",
       "      <td>May 20, 2011</td>\n",
       "      <td>Pirates of the Caribbean: On Stranger Tides</td>\n",
       "      <td>410600000</td>\n",
       "      <td>241063875</td>\n",
       "      <td>1045663875</td>\n",
       "    </tr>\n",
       "    <tr>\n",
       "      <th>2</th>\n",
       "      <td>3</td>\n",
       "      <td>Jun 7, 2019</td>\n",
       "      <td>Dark Phoenix</td>\n",
       "      <td>350000000</td>\n",
       "      <td>42762350</td>\n",
       "      <td>149762350</td>\n",
       "    </tr>\n",
       "    <tr>\n",
       "      <th>3</th>\n",
       "      <td>4</td>\n",
       "      <td>May 1, 2015</td>\n",
       "      <td>Avengers: Age of Ultron</td>\n",
       "      <td>330600000</td>\n",
       "      <td>459005868</td>\n",
       "      <td>1403013963</td>\n",
       "    </tr>\n",
       "    <tr>\n",
       "      <th>4</th>\n",
       "      <td>5</td>\n",
       "      <td>Dec 15, 2017</td>\n",
       "      <td>Star Wars Ep. VIII: The Last Jedi</td>\n",
       "      <td>317000000</td>\n",
       "      <td>620181382</td>\n",
       "      <td>1316721747</td>\n",
       "    </tr>\n",
       "  </tbody>\n",
       "</table>\n",
       "</div>"
      ],
      "text/plain": [
       "   id  release_date                                        movie  \\\n",
       "0   1  Dec 18, 2009                                       Avatar   \n",
       "1   2  May 20, 2011  Pirates of the Caribbean: On Stranger Tides   \n",
       "2   3   Jun 7, 2019                                 Dark Phoenix   \n",
       "3   4   May 1, 2015                      Avengers: Age of Ultron   \n",
       "4   5  Dec 15, 2017            Star Wars Ep. VIII: The Last Jedi   \n",
       "\n",
       "   production_budget  domestic_gross  worldwide_gross  \n",
       "0          425000000       760507625      -2147483648  \n",
       "1          410600000       241063875       1045663875  \n",
       "2          350000000        42762350        149762350  \n",
       "3          330600000       459005868       1403013963  \n",
       "4          317000000       620181382       1316721747  "
      ]
     },
     "execution_count": 153,
     "metadata": {},
     "output_type": "execute_result"
    }
   ],
   "source": [
    "#changing all the currency values from objects to float\n",
    "\n",
    "currency_cols = ['production_budget','domestic_gross','worldwide_gross']\n",
    "for x in currency_cols:\n",
    "    tnbudgets_df[x] = tnbudgets_df[x].astype(str).replace({'\\$':'',',':''},regex = True)\n",
    "    tnbudgets_df[x] = tnbudgets_df[x].astype(float)\n",
    "    tnbudgets_df[x] = tnbudgets_df[x].round(0).astype(int)\n",
    "tnbudgets_df.head()"
   ]
  },
  {
   "cell_type": "code",
   "execution_count": 154,
   "metadata": {},
   "outputs": [
    {
     "data": {
      "text/plain": [
       "0"
      ]
     },
     "execution_count": 154,
     "metadata": {},
     "output_type": "execute_result"
    }
   ],
   "source": [
    "#check for duplicates\n",
    "\n",
    "tnbudgets_df.duplicated().sum()"
   ]
  },
  {
   "cell_type": "markdown",
   "metadata": {},
   "source": [
    "There are no duplicated entries"
   ]
  },
  {
   "cell_type": "code",
   "execution_count": 155,
   "metadata": {},
   "outputs": [
    {
     "data": {
      "text/html": [
       "<div>\n",
       "<style scoped>\n",
       "    .dataframe tbody tr th:only-of-type {\n",
       "        vertical-align: middle;\n",
       "    }\n",
       "\n",
       "    .dataframe tbody tr th {\n",
       "        vertical-align: top;\n",
       "    }\n",
       "\n",
       "    .dataframe thead th {\n",
       "        text-align: right;\n",
       "    }\n",
       "</style>\n",
       "<table border=\"1\" class=\"dataframe\">\n",
       "  <thead>\n",
       "    <tr style=\"text-align: right;\">\n",
       "      <th></th>\n",
       "      <th>id</th>\n",
       "      <th>release_date</th>\n",
       "      <th>movie</th>\n",
       "      <th>production_budget</th>\n",
       "      <th>domestic_gross</th>\n",
       "      <th>worldwide_gross</th>\n",
       "    </tr>\n",
       "  </thead>\n",
       "  <tbody>\n",
       "    <tr>\n",
       "      <th>0</th>\n",
       "      <td>1</td>\n",
       "      <td>Dec 18, 2009</td>\n",
       "      <td>Avatar</td>\n",
       "      <td>425000000</td>\n",
       "      <td>760507625</td>\n",
       "      <td>-2147483648</td>\n",
       "    </tr>\n",
       "    <tr>\n",
       "      <th>1</th>\n",
       "      <td>2</td>\n",
       "      <td>May 20, 2011</td>\n",
       "      <td>Pirates of the Caribbean: On Stranger Tides</td>\n",
       "      <td>410600000</td>\n",
       "      <td>241063875</td>\n",
       "      <td>1045663875</td>\n",
       "    </tr>\n",
       "    <tr>\n",
       "      <th>2</th>\n",
       "      <td>3</td>\n",
       "      <td>Jun 7, 2019</td>\n",
       "      <td>Dark Phoenix</td>\n",
       "      <td>350000000</td>\n",
       "      <td>42762350</td>\n",
       "      <td>149762350</td>\n",
       "    </tr>\n",
       "    <tr>\n",
       "      <th>3</th>\n",
       "      <td>4</td>\n",
       "      <td>May 1, 2015</td>\n",
       "      <td>Avengers: Age of Ultron</td>\n",
       "      <td>330600000</td>\n",
       "      <td>459005868</td>\n",
       "      <td>1403013963</td>\n",
       "    </tr>\n",
       "    <tr>\n",
       "      <th>4</th>\n",
       "      <td>5</td>\n",
       "      <td>Dec 15, 2017</td>\n",
       "      <td>Star Wars Ep. VIII: The Last Jedi</td>\n",
       "      <td>317000000</td>\n",
       "      <td>620181382</td>\n",
       "      <td>1316721747</td>\n",
       "    </tr>\n",
       "    <tr>\n",
       "      <th>...</th>\n",
       "      <td>...</td>\n",
       "      <td>...</td>\n",
       "      <td>...</td>\n",
       "      <td>...</td>\n",
       "      <td>...</td>\n",
       "      <td>...</td>\n",
       "    </tr>\n",
       "    <tr>\n",
       "      <th>5775</th>\n",
       "      <td>76</td>\n",
       "      <td>May 26, 2006</td>\n",
       "      <td>Cavite</td>\n",
       "      <td>7000</td>\n",
       "      <td>70071</td>\n",
       "      <td>71644</td>\n",
       "    </tr>\n",
       "    <tr>\n",
       "      <th>5776</th>\n",
       "      <td>77</td>\n",
       "      <td>Dec 31, 2004</td>\n",
       "      <td>The Mongol King</td>\n",
       "      <td>7000</td>\n",
       "      <td>900</td>\n",
       "      <td>900</td>\n",
       "    </tr>\n",
       "    <tr>\n",
       "      <th>5778</th>\n",
       "      <td>79</td>\n",
       "      <td>Apr 2, 1999</td>\n",
       "      <td>Following</td>\n",
       "      <td>6000</td>\n",
       "      <td>48482</td>\n",
       "      <td>240495</td>\n",
       "    </tr>\n",
       "    <tr>\n",
       "      <th>5779</th>\n",
       "      <td>80</td>\n",
       "      <td>Jul 13, 2005</td>\n",
       "      <td>Return to the Land of Wonders</td>\n",
       "      <td>5000</td>\n",
       "      <td>1338</td>\n",
       "      <td>1338</td>\n",
       "    </tr>\n",
       "    <tr>\n",
       "      <th>5781</th>\n",
       "      <td>82</td>\n",
       "      <td>Aug 5, 2005</td>\n",
       "      <td>My Date With Drew</td>\n",
       "      <td>1100</td>\n",
       "      <td>181041</td>\n",
       "      <td>181041</td>\n",
       "    </tr>\n",
       "  </tbody>\n",
       "</table>\n",
       "<p>5415 rows × 6 columns</p>\n",
       "</div>"
      ],
      "text/plain": [
       "      id  release_date                                        movie  \\\n",
       "0      1  Dec 18, 2009                                       Avatar   \n",
       "1      2  May 20, 2011  Pirates of the Caribbean: On Stranger Tides   \n",
       "2      3   Jun 7, 2019                                 Dark Phoenix   \n",
       "3      4   May 1, 2015                      Avengers: Age of Ultron   \n",
       "4      5  Dec 15, 2017            Star Wars Ep. VIII: The Last Jedi   \n",
       "...   ..           ...                                          ...   \n",
       "5775  76  May 26, 2006                                       Cavite   \n",
       "5776  77  Dec 31, 2004                              The Mongol King   \n",
       "5778  79   Apr 2, 1999                                    Following   \n",
       "5779  80  Jul 13, 2005                Return to the Land of Wonders   \n",
       "5781  82   Aug 5, 2005                            My Date With Drew   \n",
       "\n",
       "      production_budget  domestic_gross  worldwide_gross  \n",
       "0             425000000       760507625      -2147483648  \n",
       "1             410600000       241063875       1045663875  \n",
       "2             350000000        42762350        149762350  \n",
       "3             330600000       459005868       1403013963  \n",
       "4             317000000       620181382       1316721747  \n",
       "...                 ...             ...              ...  \n",
       "5775               7000           70071            71644  \n",
       "5776               7000             900              900  \n",
       "5778               6000           48482           240495  \n",
       "5779               5000            1338             1338  \n",
       "5781               1100          181041           181041  \n",
       "\n",
       "[5415 rows x 6 columns]"
      ]
     },
     "execution_count": 155,
     "metadata": {},
     "output_type": "execute_result"
    }
   ],
   "source": [
    "#dropping rows where worlwide gross revenue is 0 as they are not helpful in this analysis. \n",
    "\n",
    "tnbudgets_df = tnbudgets_df[tnbudgets_df['worldwide_gross'] != 0]\n",
    "tnbudgets_df"
   ]
  },
  {
   "cell_type": "code",
   "execution_count": 156,
   "metadata": {},
   "outputs": [],
   "source": [
    "#dropping the id column because it is also not helpful in this analysis\n",
    "\n",
    "tnbudgets_df = tnbudgets_df.drop('id', axis = 1)"
   ]
  },
  {
   "cell_type": "code",
   "execution_count": 157,
   "metadata": {},
   "outputs": [
    {
     "data": {
      "text/html": [
       "<div>\n",
       "<style scoped>\n",
       "    .dataframe tbody tr th:only-of-type {\n",
       "        vertical-align: middle;\n",
       "    }\n",
       "\n",
       "    .dataframe tbody tr th {\n",
       "        vertical-align: top;\n",
       "    }\n",
       "\n",
       "    .dataframe thead th {\n",
       "        text-align: right;\n",
       "    }\n",
       "</style>\n",
       "<table border=\"1\" class=\"dataframe\">\n",
       "  <thead>\n",
       "    <tr style=\"text-align: right;\">\n",
       "      <th></th>\n",
       "      <th>release_date</th>\n",
       "      <th>movie</th>\n",
       "      <th>production_budget</th>\n",
       "      <th>domestic_gross</th>\n",
       "      <th>worldwide_gross</th>\n",
       "    </tr>\n",
       "  </thead>\n",
       "  <tbody>\n",
       "    <tr>\n",
       "      <th>0</th>\n",
       "      <td>2009-12-18</td>\n",
       "      <td>Avatar</td>\n",
       "      <td>425000000</td>\n",
       "      <td>760507625</td>\n",
       "      <td>-2147483648</td>\n",
       "    </tr>\n",
       "    <tr>\n",
       "      <th>1</th>\n",
       "      <td>2011-05-20</td>\n",
       "      <td>Pirates of the Caribbean: On Stranger Tides</td>\n",
       "      <td>410600000</td>\n",
       "      <td>241063875</td>\n",
       "      <td>1045663875</td>\n",
       "    </tr>\n",
       "    <tr>\n",
       "      <th>2</th>\n",
       "      <td>2019-06-07</td>\n",
       "      <td>Dark Phoenix</td>\n",
       "      <td>350000000</td>\n",
       "      <td>42762350</td>\n",
       "      <td>149762350</td>\n",
       "    </tr>\n",
       "    <tr>\n",
       "      <th>3</th>\n",
       "      <td>2015-05-01</td>\n",
       "      <td>Avengers: Age of Ultron</td>\n",
       "      <td>330600000</td>\n",
       "      <td>459005868</td>\n",
       "      <td>1403013963</td>\n",
       "    </tr>\n",
       "    <tr>\n",
       "      <th>4</th>\n",
       "      <td>2017-12-15</td>\n",
       "      <td>Star Wars Ep. VIII: The Last Jedi</td>\n",
       "      <td>317000000</td>\n",
       "      <td>620181382</td>\n",
       "      <td>1316721747</td>\n",
       "    </tr>\n",
       "    <tr>\n",
       "      <th>...</th>\n",
       "      <td>...</td>\n",
       "      <td>...</td>\n",
       "      <td>...</td>\n",
       "      <td>...</td>\n",
       "      <td>...</td>\n",
       "    </tr>\n",
       "    <tr>\n",
       "      <th>5775</th>\n",
       "      <td>2006-05-26</td>\n",
       "      <td>Cavite</td>\n",
       "      <td>7000</td>\n",
       "      <td>70071</td>\n",
       "      <td>71644</td>\n",
       "    </tr>\n",
       "    <tr>\n",
       "      <th>5776</th>\n",
       "      <td>2004-12-31</td>\n",
       "      <td>The Mongol King</td>\n",
       "      <td>7000</td>\n",
       "      <td>900</td>\n",
       "      <td>900</td>\n",
       "    </tr>\n",
       "    <tr>\n",
       "      <th>5778</th>\n",
       "      <td>1999-04-02</td>\n",
       "      <td>Following</td>\n",
       "      <td>6000</td>\n",
       "      <td>48482</td>\n",
       "      <td>240495</td>\n",
       "    </tr>\n",
       "    <tr>\n",
       "      <th>5779</th>\n",
       "      <td>2005-07-13</td>\n",
       "      <td>Return to the Land of Wonders</td>\n",
       "      <td>5000</td>\n",
       "      <td>1338</td>\n",
       "      <td>1338</td>\n",
       "    </tr>\n",
       "    <tr>\n",
       "      <th>5781</th>\n",
       "      <td>2005-08-05</td>\n",
       "      <td>My Date With Drew</td>\n",
       "      <td>1100</td>\n",
       "      <td>181041</td>\n",
       "      <td>181041</td>\n",
       "    </tr>\n",
       "  </tbody>\n",
       "</table>\n",
       "<p>5415 rows × 5 columns</p>\n",
       "</div>"
      ],
      "text/plain": [
       "     release_date                                        movie  \\\n",
       "0      2009-12-18                                       Avatar   \n",
       "1      2011-05-20  Pirates of the Caribbean: On Stranger Tides   \n",
       "2      2019-06-07                                 Dark Phoenix   \n",
       "3      2015-05-01                      Avengers: Age of Ultron   \n",
       "4      2017-12-15            Star Wars Ep. VIII: The Last Jedi   \n",
       "...           ...                                          ...   \n",
       "5775   2006-05-26                                       Cavite   \n",
       "5776   2004-12-31                              The Mongol King   \n",
       "5778   1999-04-02                                    Following   \n",
       "5779   2005-07-13                Return to the Land of Wonders   \n",
       "5781   2005-08-05                            My Date With Drew   \n",
       "\n",
       "      production_budget  domestic_gross  worldwide_gross  \n",
       "0             425000000       760507625      -2147483648  \n",
       "1             410600000       241063875       1045663875  \n",
       "2             350000000        42762350        149762350  \n",
       "3             330600000       459005868       1403013963  \n",
       "4             317000000       620181382       1316721747  \n",
       "...                 ...             ...              ...  \n",
       "5775               7000           70071            71644  \n",
       "5776               7000             900              900  \n",
       "5778               6000           48482           240495  \n",
       "5779               5000            1338             1338  \n",
       "5781               1100          181041           181041  \n",
       "\n",
       "[5415 rows x 5 columns]"
      ]
     },
     "execution_count": 157,
     "metadata": {},
     "output_type": "execute_result"
    }
   ],
   "source": [
    "#converting month and date into datetime\n",
    "\n",
    "tnbudgets_df['release_date'] = pd.to_datetime(tnbudgets_df['release_date'])\n",
    "tnbudgets_df"
   ]
  },
  {
   "cell_type": "code",
   "execution_count": 158,
   "metadata": {},
   "outputs": [
    {
     "data": {
      "text/html": [
       "<div>\n",
       "<style scoped>\n",
       "    .dataframe tbody tr th:only-of-type {\n",
       "        vertical-align: middle;\n",
       "    }\n",
       "\n",
       "    .dataframe tbody tr th {\n",
       "        vertical-align: top;\n",
       "    }\n",
       "\n",
       "    .dataframe thead th {\n",
       "        text-align: right;\n",
       "    }\n",
       "</style>\n",
       "<table border=\"1\" class=\"dataframe\">\n",
       "  <thead>\n",
       "    <tr style=\"text-align: right;\">\n",
       "      <th></th>\n",
       "      <th>release_date</th>\n",
       "      <th>movie</th>\n",
       "      <th>production_budget</th>\n",
       "      <th>domestic_gross</th>\n",
       "      <th>worldwide_gross</th>\n",
       "      <th>month</th>\n",
       "      <th>year</th>\n",
       "    </tr>\n",
       "  </thead>\n",
       "  <tbody>\n",
       "    <tr>\n",
       "      <th>0</th>\n",
       "      <td>2009-12-18</td>\n",
       "      <td>Avatar</td>\n",
       "      <td>425000000</td>\n",
       "      <td>760507625</td>\n",
       "      <td>-2147483648</td>\n",
       "      <td>12</td>\n",
       "      <td>2009</td>\n",
       "    </tr>\n",
       "    <tr>\n",
       "      <th>1</th>\n",
       "      <td>2011-05-20</td>\n",
       "      <td>Pirates of the Caribbean: On Stranger Tides</td>\n",
       "      <td>410600000</td>\n",
       "      <td>241063875</td>\n",
       "      <td>1045663875</td>\n",
       "      <td>5</td>\n",
       "      <td>2011</td>\n",
       "    </tr>\n",
       "    <tr>\n",
       "      <th>2</th>\n",
       "      <td>2019-06-07</td>\n",
       "      <td>Dark Phoenix</td>\n",
       "      <td>350000000</td>\n",
       "      <td>42762350</td>\n",
       "      <td>149762350</td>\n",
       "      <td>6</td>\n",
       "      <td>2019</td>\n",
       "    </tr>\n",
       "    <tr>\n",
       "      <th>3</th>\n",
       "      <td>2015-05-01</td>\n",
       "      <td>Avengers: Age of Ultron</td>\n",
       "      <td>330600000</td>\n",
       "      <td>459005868</td>\n",
       "      <td>1403013963</td>\n",
       "      <td>5</td>\n",
       "      <td>2015</td>\n",
       "    </tr>\n",
       "    <tr>\n",
       "      <th>4</th>\n",
       "      <td>2017-12-15</td>\n",
       "      <td>Star Wars Ep. VIII: The Last Jedi</td>\n",
       "      <td>317000000</td>\n",
       "      <td>620181382</td>\n",
       "      <td>1316721747</td>\n",
       "      <td>12</td>\n",
       "      <td>2017</td>\n",
       "    </tr>\n",
       "    <tr>\n",
       "      <th>...</th>\n",
       "      <td>...</td>\n",
       "      <td>...</td>\n",
       "      <td>...</td>\n",
       "      <td>...</td>\n",
       "      <td>...</td>\n",
       "      <td>...</td>\n",
       "      <td>...</td>\n",
       "    </tr>\n",
       "    <tr>\n",
       "      <th>5775</th>\n",
       "      <td>2006-05-26</td>\n",
       "      <td>Cavite</td>\n",
       "      <td>7000</td>\n",
       "      <td>70071</td>\n",
       "      <td>71644</td>\n",
       "      <td>5</td>\n",
       "      <td>2006</td>\n",
       "    </tr>\n",
       "    <tr>\n",
       "      <th>5776</th>\n",
       "      <td>2004-12-31</td>\n",
       "      <td>The Mongol King</td>\n",
       "      <td>7000</td>\n",
       "      <td>900</td>\n",
       "      <td>900</td>\n",
       "      <td>12</td>\n",
       "      <td>2004</td>\n",
       "    </tr>\n",
       "    <tr>\n",
       "      <th>5778</th>\n",
       "      <td>1999-04-02</td>\n",
       "      <td>Following</td>\n",
       "      <td>6000</td>\n",
       "      <td>48482</td>\n",
       "      <td>240495</td>\n",
       "      <td>4</td>\n",
       "      <td>1999</td>\n",
       "    </tr>\n",
       "    <tr>\n",
       "      <th>5779</th>\n",
       "      <td>2005-07-13</td>\n",
       "      <td>Return to the Land of Wonders</td>\n",
       "      <td>5000</td>\n",
       "      <td>1338</td>\n",
       "      <td>1338</td>\n",
       "      <td>7</td>\n",
       "      <td>2005</td>\n",
       "    </tr>\n",
       "    <tr>\n",
       "      <th>5781</th>\n",
       "      <td>2005-08-05</td>\n",
       "      <td>My Date With Drew</td>\n",
       "      <td>1100</td>\n",
       "      <td>181041</td>\n",
       "      <td>181041</td>\n",
       "      <td>8</td>\n",
       "      <td>2005</td>\n",
       "    </tr>\n",
       "  </tbody>\n",
       "</table>\n",
       "<p>5415 rows × 7 columns</p>\n",
       "</div>"
      ],
      "text/plain": [
       "     release_date                                        movie  \\\n",
       "0      2009-12-18                                       Avatar   \n",
       "1      2011-05-20  Pirates of the Caribbean: On Stranger Tides   \n",
       "2      2019-06-07                                 Dark Phoenix   \n",
       "3      2015-05-01                      Avengers: Age of Ultron   \n",
       "4      2017-12-15            Star Wars Ep. VIII: The Last Jedi   \n",
       "...           ...                                          ...   \n",
       "5775   2006-05-26                                       Cavite   \n",
       "5776   2004-12-31                              The Mongol King   \n",
       "5778   1999-04-02                                    Following   \n",
       "5779   2005-07-13                Return to the Land of Wonders   \n",
       "5781   2005-08-05                            My Date With Drew   \n",
       "\n",
       "      production_budget  domestic_gross  worldwide_gross  month  year  \n",
       "0             425000000       760507625      -2147483648     12  2009  \n",
       "1             410600000       241063875       1045663875      5  2011  \n",
       "2             350000000        42762350        149762350      6  2019  \n",
       "3             330600000       459005868       1403013963      5  2015  \n",
       "4             317000000       620181382       1316721747     12  2017  \n",
       "...                 ...             ...              ...    ...   ...  \n",
       "5775               7000           70071            71644      5  2006  \n",
       "5776               7000             900              900     12  2004  \n",
       "5778               6000           48482           240495      4  1999  \n",
       "5779               5000            1338             1338      7  2005  \n",
       "5781               1100          181041           181041      8  2005  \n",
       "\n",
       "[5415 rows x 7 columns]"
      ]
     },
     "execution_count": 158,
     "metadata": {},
     "output_type": "execute_result"
    }
   ],
   "source": [
    "#extracting months and years from the release date\n",
    "\n",
    "tnbudgets_df['month'] = tnbudgets_df['release_date'].dt.month\n",
    "tnbudgets_df['year'] = tnbudgets_df['release_date'].dt.year\n",
    "tnbudgets_df"
   ]
  },
  {
   "cell_type": "code",
   "execution_count": 159,
   "metadata": {},
   "outputs": [
    {
     "data": {
      "text/html": [
       "<div>\n",
       "<style scoped>\n",
       "    .dataframe tbody tr th:only-of-type {\n",
       "        vertical-align: middle;\n",
       "    }\n",
       "\n",
       "    .dataframe tbody tr th {\n",
       "        vertical-align: top;\n",
       "    }\n",
       "\n",
       "    .dataframe thead th {\n",
       "        text-align: right;\n",
       "    }\n",
       "</style>\n",
       "<table border=\"1\" class=\"dataframe\">\n",
       "  <thead>\n",
       "    <tr style=\"text-align: right;\">\n",
       "      <th></th>\n",
       "      <th>release_date</th>\n",
       "      <th>movie</th>\n",
       "      <th>production_budget</th>\n",
       "      <th>domestic_gross</th>\n",
       "      <th>worldwide_gross</th>\n",
       "      <th>month</th>\n",
       "      <th>year</th>\n",
       "      <th>profit</th>\n",
       "    </tr>\n",
       "  </thead>\n",
       "  <tbody>\n",
       "    <tr>\n",
       "      <th>0</th>\n",
       "      <td>2009-12-18</td>\n",
       "      <td>Avatar</td>\n",
       "      <td>425000000</td>\n",
       "      <td>760507625</td>\n",
       "      <td>-2147483648</td>\n",
       "      <td>12</td>\n",
       "      <td>2009</td>\n",
       "      <td>1722483648</td>\n",
       "    </tr>\n",
       "    <tr>\n",
       "      <th>1</th>\n",
       "      <td>2011-05-20</td>\n",
       "      <td>Pirates of the Caribbean: On Stranger Tides</td>\n",
       "      <td>410600000</td>\n",
       "      <td>241063875</td>\n",
       "      <td>1045663875</td>\n",
       "      <td>5</td>\n",
       "      <td>2011</td>\n",
       "      <td>635063875</td>\n",
       "    </tr>\n",
       "    <tr>\n",
       "      <th>2</th>\n",
       "      <td>2019-06-07</td>\n",
       "      <td>Dark Phoenix</td>\n",
       "      <td>350000000</td>\n",
       "      <td>42762350</td>\n",
       "      <td>149762350</td>\n",
       "      <td>6</td>\n",
       "      <td>2019</td>\n",
       "      <td>-200237650</td>\n",
       "    </tr>\n",
       "    <tr>\n",
       "      <th>3</th>\n",
       "      <td>2015-05-01</td>\n",
       "      <td>Avengers: Age of Ultron</td>\n",
       "      <td>330600000</td>\n",
       "      <td>459005868</td>\n",
       "      <td>1403013963</td>\n",
       "      <td>5</td>\n",
       "      <td>2015</td>\n",
       "      <td>1072413963</td>\n",
       "    </tr>\n",
       "    <tr>\n",
       "      <th>4</th>\n",
       "      <td>2017-12-15</td>\n",
       "      <td>Star Wars Ep. VIII: The Last Jedi</td>\n",
       "      <td>317000000</td>\n",
       "      <td>620181382</td>\n",
       "      <td>1316721747</td>\n",
       "      <td>12</td>\n",
       "      <td>2017</td>\n",
       "      <td>999721747</td>\n",
       "    </tr>\n",
       "    <tr>\n",
       "      <th>...</th>\n",
       "      <td>...</td>\n",
       "      <td>...</td>\n",
       "      <td>...</td>\n",
       "      <td>...</td>\n",
       "      <td>...</td>\n",
       "      <td>...</td>\n",
       "      <td>...</td>\n",
       "      <td>...</td>\n",
       "    </tr>\n",
       "    <tr>\n",
       "      <th>5775</th>\n",
       "      <td>2006-05-26</td>\n",
       "      <td>Cavite</td>\n",
       "      <td>7000</td>\n",
       "      <td>70071</td>\n",
       "      <td>71644</td>\n",
       "      <td>5</td>\n",
       "      <td>2006</td>\n",
       "      <td>64644</td>\n",
       "    </tr>\n",
       "    <tr>\n",
       "      <th>5776</th>\n",
       "      <td>2004-12-31</td>\n",
       "      <td>The Mongol King</td>\n",
       "      <td>7000</td>\n",
       "      <td>900</td>\n",
       "      <td>900</td>\n",
       "      <td>12</td>\n",
       "      <td>2004</td>\n",
       "      <td>-6100</td>\n",
       "    </tr>\n",
       "    <tr>\n",
       "      <th>5778</th>\n",
       "      <td>1999-04-02</td>\n",
       "      <td>Following</td>\n",
       "      <td>6000</td>\n",
       "      <td>48482</td>\n",
       "      <td>240495</td>\n",
       "      <td>4</td>\n",
       "      <td>1999</td>\n",
       "      <td>234495</td>\n",
       "    </tr>\n",
       "    <tr>\n",
       "      <th>5779</th>\n",
       "      <td>2005-07-13</td>\n",
       "      <td>Return to the Land of Wonders</td>\n",
       "      <td>5000</td>\n",
       "      <td>1338</td>\n",
       "      <td>1338</td>\n",
       "      <td>7</td>\n",
       "      <td>2005</td>\n",
       "      <td>-3662</td>\n",
       "    </tr>\n",
       "    <tr>\n",
       "      <th>5781</th>\n",
       "      <td>2005-08-05</td>\n",
       "      <td>My Date With Drew</td>\n",
       "      <td>1100</td>\n",
       "      <td>181041</td>\n",
       "      <td>181041</td>\n",
       "      <td>8</td>\n",
       "      <td>2005</td>\n",
       "      <td>179941</td>\n",
       "    </tr>\n",
       "  </tbody>\n",
       "</table>\n",
       "<p>5415 rows × 8 columns</p>\n",
       "</div>"
      ],
      "text/plain": [
       "     release_date                                        movie  \\\n",
       "0      2009-12-18                                       Avatar   \n",
       "1      2011-05-20  Pirates of the Caribbean: On Stranger Tides   \n",
       "2      2019-06-07                                 Dark Phoenix   \n",
       "3      2015-05-01                      Avengers: Age of Ultron   \n",
       "4      2017-12-15            Star Wars Ep. VIII: The Last Jedi   \n",
       "...           ...                                          ...   \n",
       "5775   2006-05-26                                       Cavite   \n",
       "5776   2004-12-31                              The Mongol King   \n",
       "5778   1999-04-02                                    Following   \n",
       "5779   2005-07-13                Return to the Land of Wonders   \n",
       "5781   2005-08-05                            My Date With Drew   \n",
       "\n",
       "      production_budget  domestic_gross  worldwide_gross  month  year  \\\n",
       "0             425000000       760507625      -2147483648     12  2009   \n",
       "1             410600000       241063875       1045663875      5  2011   \n",
       "2             350000000        42762350        149762350      6  2019   \n",
       "3             330600000       459005868       1403013963      5  2015   \n",
       "4             317000000       620181382       1316721747     12  2017   \n",
       "...                 ...             ...              ...    ...   ...   \n",
       "5775               7000           70071            71644      5  2006   \n",
       "5776               7000             900              900     12  2004   \n",
       "5778               6000           48482           240495      4  1999   \n",
       "5779               5000            1338             1338      7  2005   \n",
       "5781               1100          181041           181041      8  2005   \n",
       "\n",
       "          profit  \n",
       "0     1722483648  \n",
       "1      635063875  \n",
       "2     -200237650  \n",
       "3     1072413963  \n",
       "4      999721747  \n",
       "...          ...  \n",
       "5775       64644  \n",
       "5776       -6100  \n",
       "5778      234495  \n",
       "5779       -3662  \n",
       "5781      179941  \n",
       "\n",
       "[5415 rows x 8 columns]"
      ]
     },
     "execution_count": 159,
     "metadata": {},
     "output_type": "execute_result"
    }
   ],
   "source": [
    "#calculating the profit made by each movie\n",
    "\n",
    "tnbudgets_df['profit'] = (tnbudgets_df['worldwide_gross'] - tnbudgets_df['production_budget']).astype(int)\n",
    "tnbudgets_df"
   ]
  },
  {
   "cell_type": "code",
   "execution_count": 160,
   "metadata": {},
   "outputs": [
    {
     "data": {
      "text/html": [
       "<div>\n",
       "<style scoped>\n",
       "    .dataframe tbody tr th:only-of-type {\n",
       "        vertical-align: middle;\n",
       "    }\n",
       "\n",
       "    .dataframe tbody tr th {\n",
       "        vertical-align: top;\n",
       "    }\n",
       "\n",
       "    .dataframe thead th {\n",
       "        text-align: right;\n",
       "    }\n",
       "</style>\n",
       "<table border=\"1\" class=\"dataframe\">\n",
       "  <thead>\n",
       "    <tr style=\"text-align: right;\">\n",
       "      <th></th>\n",
       "      <th>release_date</th>\n",
       "      <th>movie</th>\n",
       "      <th>production_budget</th>\n",
       "      <th>domestic_gross</th>\n",
       "      <th>worldwide_gross</th>\n",
       "      <th>month</th>\n",
       "      <th>year</th>\n",
       "      <th>profit</th>\n",
       "    </tr>\n",
       "  </thead>\n",
       "  <tbody>\n",
       "    <tr>\n",
       "      <th>0</th>\n",
       "      <td>2009-12-18</td>\n",
       "      <td>Avatar</td>\n",
       "      <td>425000000</td>\n",
       "      <td>760507625</td>\n",
       "      <td>-2147483648</td>\n",
       "      <td>12</td>\n",
       "      <td>2009</td>\n",
       "      <td>1722483648</td>\n",
       "    </tr>\n",
       "    <tr>\n",
       "      <th>1</th>\n",
       "      <td>2011-05-20</td>\n",
       "      <td>Pirates of the Caribbean: On Stranger Tides</td>\n",
       "      <td>410600000</td>\n",
       "      <td>241063875</td>\n",
       "      <td>1045663875</td>\n",
       "      <td>5</td>\n",
       "      <td>2011</td>\n",
       "      <td>635063875</td>\n",
       "    </tr>\n",
       "    <tr>\n",
       "      <th>2</th>\n",
       "      <td>2019-06-07</td>\n",
       "      <td>Dark Phoenix</td>\n",
       "      <td>350000000</td>\n",
       "      <td>42762350</td>\n",
       "      <td>149762350</td>\n",
       "      <td>6</td>\n",
       "      <td>2019</td>\n",
       "      <td>-200237650</td>\n",
       "    </tr>\n",
       "    <tr>\n",
       "      <th>3</th>\n",
       "      <td>2015-05-01</td>\n",
       "      <td>Avengers: Age of Ultron</td>\n",
       "      <td>330600000</td>\n",
       "      <td>459005868</td>\n",
       "      <td>1403013963</td>\n",
       "      <td>5</td>\n",
       "      <td>2015</td>\n",
       "      <td>1072413963</td>\n",
       "    </tr>\n",
       "    <tr>\n",
       "      <th>4</th>\n",
       "      <td>2017-12-15</td>\n",
       "      <td>Star Wars Ep. VIII: The Last Jedi</td>\n",
       "      <td>317000000</td>\n",
       "      <td>620181382</td>\n",
       "      <td>1316721747</td>\n",
       "      <td>12</td>\n",
       "      <td>2017</td>\n",
       "      <td>999721747</td>\n",
       "    </tr>\n",
       "    <tr>\n",
       "      <th>...</th>\n",
       "      <td>...</td>\n",
       "      <td>...</td>\n",
       "      <td>...</td>\n",
       "      <td>...</td>\n",
       "      <td>...</td>\n",
       "      <td>...</td>\n",
       "      <td>...</td>\n",
       "      <td>...</td>\n",
       "    </tr>\n",
       "    <tr>\n",
       "      <th>5117</th>\n",
       "      <td>1937-12-21</td>\n",
       "      <td>Snow White and the Seven Dwarfs</td>\n",
       "      <td>1488000</td>\n",
       "      <td>184925486</td>\n",
       "      <td>184925486</td>\n",
       "      <td>12</td>\n",
       "      <td>1937</td>\n",
       "      <td>183437486</td>\n",
       "    </tr>\n",
       "    <tr>\n",
       "      <th>5210</th>\n",
       "      <td>1976-11-21</td>\n",
       "      <td>Rocky</td>\n",
       "      <td>1000000</td>\n",
       "      <td>117235147</td>\n",
       "      <td>225000000</td>\n",
       "      <td>11</td>\n",
       "      <td>1976</td>\n",
       "      <td>224000000</td>\n",
       "    </tr>\n",
       "    <tr>\n",
       "      <th>5346</th>\n",
       "      <td>1942-08-13</td>\n",
       "      <td>Bambi</td>\n",
       "      <td>858000</td>\n",
       "      <td>102797000</td>\n",
       "      <td>268000000</td>\n",
       "      <td>8</td>\n",
       "      <td>1942</td>\n",
       "      <td>267142000</td>\n",
       "    </tr>\n",
       "    <tr>\n",
       "      <th>5406</th>\n",
       "      <td>1999-07-14</td>\n",
       "      <td>The Blair Witch Project</td>\n",
       "      <td>600000</td>\n",
       "      <td>140539099</td>\n",
       "      <td>248300000</td>\n",
       "      <td>7</td>\n",
       "      <td>1999</td>\n",
       "      <td>247700000</td>\n",
       "    </tr>\n",
       "    <tr>\n",
       "      <th>5492</th>\n",
       "      <td>2009-09-25</td>\n",
       "      <td>Paranormal Activity</td>\n",
       "      <td>450000</td>\n",
       "      <td>107918810</td>\n",
       "      <td>194183034</td>\n",
       "      <td>9</td>\n",
       "      <td>2009</td>\n",
       "      <td>193733034</td>\n",
       "    </tr>\n",
       "  </tbody>\n",
       "</table>\n",
       "<p>593 rows × 8 columns</p>\n",
       "</div>"
      ],
      "text/plain": [
       "     release_date                                        movie  \\\n",
       "0      2009-12-18                                       Avatar   \n",
       "1      2011-05-20  Pirates of the Caribbean: On Stranger Tides   \n",
       "2      2019-06-07                                 Dark Phoenix   \n",
       "3      2015-05-01                      Avengers: Age of Ultron   \n",
       "4      2017-12-15            Star Wars Ep. VIII: The Last Jedi   \n",
       "...           ...                                          ...   \n",
       "5117   1937-12-21              Snow White and the Seven Dwarfs   \n",
       "5210   1976-11-21                                        Rocky   \n",
       "5346   1942-08-13                                        Bambi   \n",
       "5406   1999-07-14                      The Blair Witch Project   \n",
       "5492   2009-09-25                          Paranormal Activity   \n",
       "\n",
       "      production_budget  domestic_gross  worldwide_gross  month  year  \\\n",
       "0             425000000       760507625      -2147483648     12  2009   \n",
       "1             410600000       241063875       1045663875      5  2011   \n",
       "2             350000000        42762350        149762350      6  2019   \n",
       "3             330600000       459005868       1403013963      5  2015   \n",
       "4             317000000       620181382       1316721747     12  2017   \n",
       "...                 ...             ...              ...    ...   ...   \n",
       "5117            1488000       184925486        184925486     12  1937   \n",
       "5210            1000000       117235147        225000000     11  1976   \n",
       "5346             858000       102797000        268000000      8  1942   \n",
       "5406             600000       140539099        248300000      7  1999   \n",
       "5492             450000       107918810        194183034      9  2009   \n",
       "\n",
       "          profit  \n",
       "0     1722483648  \n",
       "1      635063875  \n",
       "2     -200237650  \n",
       "3     1072413963  \n",
       "4      999721747  \n",
       "...          ...  \n",
       "5117   183437486  \n",
       "5210   224000000  \n",
       "5346   267142000  \n",
       "5406   247700000  \n",
       "5492   193733034  \n",
       "\n",
       "[593 rows x 8 columns]"
      ]
     },
     "execution_count": 160,
     "metadata": {},
     "output_type": "execute_result"
    }
   ],
   "source": [
    "#checking for outliers based on the profit\n",
    "\n",
    "Q1 = tnbudgets_df['profit'].quantile(0.25)  \n",
    "Q3 = tnbudgets_df['profit'].quantile(0.75)  \n",
    "IQR = Q3 - Q1  \n",
    "\n",
    "#outlier range\n",
    "lower_bound = Q1 - 1.5 * IQR\n",
    "upper_bound = Q3 + 1.5 * IQR\n",
    "\n",
    "#outliers\n",
    "outliers = tnbudgets_df[(tnbudgets_df['profit'] < lower_bound) | (tnbudgets_df['profit'] > upper_bound)]\n",
    "outliers"
   ]
  },
  {
   "cell_type": "code",
   "execution_count": 161,
   "metadata": {},
   "outputs": [
    {
     "data": {
      "text/html": [
       "<div>\n",
       "<style scoped>\n",
       "    .dataframe tbody tr th:only-of-type {\n",
       "        vertical-align: middle;\n",
       "    }\n",
       "\n",
       "    .dataframe tbody tr th {\n",
       "        vertical-align: top;\n",
       "    }\n",
       "\n",
       "    .dataframe thead th {\n",
       "        text-align: right;\n",
       "    }\n",
       "</style>\n",
       "<table border=\"1\" class=\"dataframe\">\n",
       "  <thead>\n",
       "    <tr style=\"text-align: right;\">\n",
       "      <th></th>\n",
       "      <th>release_date</th>\n",
       "      <th>movie</th>\n",
       "      <th>production_budget</th>\n",
       "      <th>domestic_gross</th>\n",
       "      <th>worldwide_gross</th>\n",
       "      <th>month</th>\n",
       "      <th>year</th>\n",
       "      <th>profit</th>\n",
       "    </tr>\n",
       "  </thead>\n",
       "  <tbody>\n",
       "    <tr>\n",
       "      <th>11</th>\n",
       "      <td>2018-05-25</td>\n",
       "      <td>Solo: A Star Wars Story</td>\n",
       "      <td>275000000</td>\n",
       "      <td>213767512</td>\n",
       "      <td>393151347</td>\n",
       "      <td>5</td>\n",
       "      <td>2018</td>\n",
       "      <td>118151347</td>\n",
       "    </tr>\n",
       "    <tr>\n",
       "      <th>12</th>\n",
       "      <td>2013-07-02</td>\n",
       "      <td>The Lone Ranger</td>\n",
       "      <td>275000000</td>\n",
       "      <td>89302115</td>\n",
       "      <td>260002115</td>\n",
       "      <td>7</td>\n",
       "      <td>2013</td>\n",
       "      <td>-14997885</td>\n",
       "    </tr>\n",
       "    <tr>\n",
       "      <th>13</th>\n",
       "      <td>2012-03-09</td>\n",
       "      <td>John Carter</td>\n",
       "      <td>275000000</td>\n",
       "      <td>73058679</td>\n",
       "      <td>282778100</td>\n",
       "      <td>3</td>\n",
       "      <td>2012</td>\n",
       "      <td>7778100</td>\n",
       "    </tr>\n",
       "    <tr>\n",
       "      <th>23</th>\n",
       "      <td>2006-06-28</td>\n",
       "      <td>Superman Returns</td>\n",
       "      <td>232000000</td>\n",
       "      <td>200120000</td>\n",
       "      <td>374085065</td>\n",
       "      <td>6</td>\n",
       "      <td>2006</td>\n",
       "      <td>142085065</td>\n",
       "    </tr>\n",
       "    <tr>\n",
       "      <th>31</th>\n",
       "      <td>2012-05-18</td>\n",
       "      <td>Battleship</td>\n",
       "      <td>220000000</td>\n",
       "      <td>65233400</td>\n",
       "      <td>313477717</td>\n",
       "      <td>5</td>\n",
       "      <td>2012</td>\n",
       "      <td>93477717</td>\n",
       "    </tr>\n",
       "    <tr>\n",
       "      <th>...</th>\n",
       "      <td>...</td>\n",
       "      <td>...</td>\n",
       "      <td>...</td>\n",
       "      <td>...</td>\n",
       "      <td>...</td>\n",
       "      <td>...</td>\n",
       "      <td>...</td>\n",
       "      <td>...</td>\n",
       "    </tr>\n",
       "    <tr>\n",
       "      <th>5775</th>\n",
       "      <td>2006-05-26</td>\n",
       "      <td>Cavite</td>\n",
       "      <td>7000</td>\n",
       "      <td>70071</td>\n",
       "      <td>71644</td>\n",
       "      <td>5</td>\n",
       "      <td>2006</td>\n",
       "      <td>64644</td>\n",
       "    </tr>\n",
       "    <tr>\n",
       "      <th>5776</th>\n",
       "      <td>2004-12-31</td>\n",
       "      <td>The Mongol King</td>\n",
       "      <td>7000</td>\n",
       "      <td>900</td>\n",
       "      <td>900</td>\n",
       "      <td>12</td>\n",
       "      <td>2004</td>\n",
       "      <td>-6100</td>\n",
       "    </tr>\n",
       "    <tr>\n",
       "      <th>5778</th>\n",
       "      <td>1999-04-02</td>\n",
       "      <td>Following</td>\n",
       "      <td>6000</td>\n",
       "      <td>48482</td>\n",
       "      <td>240495</td>\n",
       "      <td>4</td>\n",
       "      <td>1999</td>\n",
       "      <td>234495</td>\n",
       "    </tr>\n",
       "    <tr>\n",
       "      <th>5779</th>\n",
       "      <td>2005-07-13</td>\n",
       "      <td>Return to the Land of Wonders</td>\n",
       "      <td>5000</td>\n",
       "      <td>1338</td>\n",
       "      <td>1338</td>\n",
       "      <td>7</td>\n",
       "      <td>2005</td>\n",
       "      <td>-3662</td>\n",
       "    </tr>\n",
       "    <tr>\n",
       "      <th>5781</th>\n",
       "      <td>2005-08-05</td>\n",
       "      <td>My Date With Drew</td>\n",
       "      <td>1100</td>\n",
       "      <td>181041</td>\n",
       "      <td>181041</td>\n",
       "      <td>8</td>\n",
       "      <td>2005</td>\n",
       "      <td>179941</td>\n",
       "    </tr>\n",
       "  </tbody>\n",
       "</table>\n",
       "<p>4822 rows × 8 columns</p>\n",
       "</div>"
      ],
      "text/plain": [
       "     release_date                          movie  production_budget  \\\n",
       "11     2018-05-25        Solo: A Star Wars Story          275000000   \n",
       "12     2013-07-02                The Lone Ranger          275000000   \n",
       "13     2012-03-09                    John Carter          275000000   \n",
       "23     2006-06-28               Superman Returns          232000000   \n",
       "31     2012-05-18                     Battleship          220000000   \n",
       "...           ...                            ...                ...   \n",
       "5775   2006-05-26                         Cavite               7000   \n",
       "5776   2004-12-31                The Mongol King               7000   \n",
       "5778   1999-04-02                      Following               6000   \n",
       "5779   2005-07-13  Return to the Land of Wonders               5000   \n",
       "5781   2005-08-05              My Date With Drew               1100   \n",
       "\n",
       "      domestic_gross  worldwide_gross  month  year     profit  \n",
       "11         213767512        393151347      5  2018  118151347  \n",
       "12          89302115        260002115      7  2013  -14997885  \n",
       "13          73058679        282778100      3  2012    7778100  \n",
       "23         200120000        374085065      6  2006  142085065  \n",
       "31          65233400        313477717      5  2012   93477717  \n",
       "...              ...              ...    ...   ...        ...  \n",
       "5775           70071            71644      5  2006      64644  \n",
       "5776             900              900     12  2004      -6100  \n",
       "5778           48482           240495      4  1999     234495  \n",
       "5779            1338             1338      7  2005      -3662  \n",
       "5781          181041           181041      8  2005     179941  \n",
       "\n",
       "[4822 rows x 8 columns]"
      ]
     },
     "execution_count": 161,
     "metadata": {},
     "output_type": "execute_result"
    }
   ],
   "source": [
    "#dropping outliers because they represent one off situations where a movie did really well or very poorly\n",
    "\n",
    "tnbudgets_dfclean = tnbudgets_df[(tnbudgets_df['profit'] >= lower_bound) & (tnbudgets_df['profit'] <= upper_bound)]\n",
    "tnbudgets_dfclean"
   ]
  },
  {
   "cell_type": "markdown",
   "metadata": {},
   "source": [
    "##### tmdb dataset"
   ]
  },
  {
   "cell_type": "code",
   "execution_count": 162,
   "metadata": {},
   "outputs": [
    {
     "name": "stdout",
     "output_type": "stream",
     "text": [
      "                                             title  popularity\n",
      "23811                       Avengers: Infinity War      80.773\n",
      "11019                                    John Wick      78.123\n",
      "23812            Spider-Man: Into the Spider-Verse      60.534\n",
      "11020    The Hobbit: The Battle of the Five Armies      53.783\n",
      "5179                                  The Avengers      50.289\n",
      "11021                      Guardians of the Galaxy      49.606\n",
      "20617                            Blade Runner 2049      48.571\n",
      "23813                            Blade Runner 2049      48.571\n",
      "23814  Fantastic Beasts: The Crimes of Grindelwald      48.508\n",
      "23815                    Ralph Breaks the Internet      48.057\n"
     ]
    }
   ],
   "source": [
    "# Checking the top 10 most popular moives\n",
    "most_popular = tmdb_df.nlargest(10, 'popularity')\n",
    "print(most_popular[['title','popularity']])"
   ]
  },
  {
   "cell_type": "code",
   "execution_count": 163,
   "metadata": {},
   "outputs": [
    {
     "name": "stdout",
     "output_type": "stream",
     "text": [
      "       Unnamed: 0      genre_ids      id original_language     original_title  \\\n",
      "20617       20617  [878, 28, 53]  335984                en  Blade Runner 2049   \n",
      "23813       23813  [878, 28, 53]  335984                en  Blade Runner 2049   \n",
      "\n",
      "       popularity release_date              title  vote_average  vote_count  \\\n",
      "20617      48.571   2017-10-06  Blade Runner 2049           7.4        6679   \n",
      "23813      48.571   2017-10-06  Blade Runner 2049           7.4        6679   \n",
      "\n",
      "                                             genre_names  \n",
      "20617  [Unknown, Unknown, Unknown, Unknown, Unknown, ...  \n",
      "23813  [Unknown, Unknown, Unknown, Unknown, Unknown, ...  \n"
     ]
    }
   ],
   "source": [
    "#checking whether the Blade Runner movie 2049 has the same information that is in popularity,vote count and average\n",
    "blade_runner_info = tmdb_df[tmdb_df['title'] == 'Blade Runner 2049']\n",
    "print(blade_runner_info)"
   ]
  },
  {
   "cell_type": "code",
   "execution_count": 164,
   "metadata": {},
   "outputs": [
    {
     "name": "stdout",
     "output_type": "stream",
     "text": [
      "title                                           release_date\n",
      "$ellebrity                                      2013-01-11      2\n",
      "'85: The Greatest Team in Pro Football History  2018-01-29      2\n",
      "1 Night                                         2017-02-10      2\n",
      "10,000 km                                       2015-07-10      2\n",
      "100 Streets                                     2016-06-08      2\n",
      "                                                               ..\n",
      "Your Name.                                      2017-04-07      2\n",
      "Youth in Oregon                                 2017-02-03      2\n",
      "Zama                                            2017-09-30      2\n",
      "Zarafa                                          2012-11-11      2\n",
      "Zoo                                             2018-06-08      2\n",
      "Length: 1002, dtype: int64\n"
     ]
    }
   ],
   "source": [
    "#decided to  Group the data by title,release date and how many times it has appeared\n",
    "title_release_counts = tmdb_df.groupby(['title', 'release_date']).size()\n",
    "\n",
    "# Filtered the data for titles that appear more than once\n",
    "duplicates_titles = title_release_counts[title_release_counts > 1]\n",
    "\n",
    "print(duplicates_titles)\n"
   ]
  },
  {
   "cell_type": "code",
   "execution_count": 165,
   "metadata": {},
   "outputs": [
    {
     "name": "stdout",
     "output_type": "stream",
     "text": [
      "       Unnamed: 0            genre_ids      id original_language  \\\n",
      "0               0      [12, 14, 10751]   12444                en   \n",
      "1               1  [14, 12, 16, 10751]   10191                en   \n",
      "2               2        [12, 28, 878]   10138                en   \n",
      "3               3      [16, 35, 10751]     862                en   \n",
      "4               4        [28, 878, 12]   27205                en   \n",
      "...           ...                  ...     ...               ...   \n",
      "26512       26512             [27, 18]  488143                en   \n",
      "26513       26513             [18, 53]  485975                en   \n",
      "26514       26514         [14, 28, 12]  381231                en   \n",
      "26515       26515      [10751, 12, 28]  366854                en   \n",
      "26516       26516             [53, 27]  309885                en   \n",
      "\n",
      "                                     original_title  popularity release_date  \\\n",
      "0      Harry Potter and the Deathly Hallows: Part 1      33.533   2010-11-19   \n",
      "1                          How to Train Your Dragon      28.734   2010-03-26   \n",
      "2                                        Iron Man 2      28.515   2010-05-07   \n",
      "3                                         Toy Story      28.005   1995-11-22   \n",
      "4                                         Inception      27.920   2010-07-16   \n",
      "...                                             ...         ...          ...   \n",
      "26512                         Laboratory Conditions       0.600   2018-10-13   \n",
      "26513                               _EXHIBIT_84xxx_       0.600   2018-05-01   \n",
      "26514                                  The Last One       0.600   2018-10-01   \n",
      "26515                                  Trailer Made       0.600   2018-06-22   \n",
      "26516                                    The Church       0.600   2018-10-05   \n",
      "\n",
      "                                              title  vote_average  vote_count  \\\n",
      "0      Harry Potter and the Deathly Hallows: Part 1           7.7       10788   \n",
      "1                          How to Train Your Dragon           7.7        7610   \n",
      "2                                        Iron Man 2           6.8       12368   \n",
      "3                                         Toy Story           7.9       10174   \n",
      "4                                         Inception           8.3       22186   \n",
      "...                                             ...           ...         ...   \n",
      "26512                         Laboratory Conditions           0.0           1   \n",
      "26513                               _EXHIBIT_84xxx_           0.0           1   \n",
      "26514                                  The Last One           0.0           1   \n",
      "26515                                  Trailer Made           0.0           1   \n",
      "26516                                    The Church           0.0           1   \n",
      "\n",
      "                                             genre_names  \n",
      "0      [Unknown, Unknown, Unknown, Unknown, Unknown, ...  \n",
      "1      [Unknown, Unknown, Unknown, Unknown, Unknown, ...  \n",
      "2      [Unknown, Unknown, Unknown, Unknown, Unknown, ...  \n",
      "3      [Unknown, Unknown, Unknown, Unknown, Unknown, ...  \n",
      "4      [Unknown, Unknown, Unknown, Unknown, Unknown, ...  \n",
      "...                                                  ...  \n",
      "26512  [Unknown, Unknown, Unknown, Unknown, Unknown, ...  \n",
      "26513  [Unknown, Unknown, Unknown, Unknown, Unknown, ...  \n",
      "26514  [Unknown, Unknown, Unknown, Unknown, Unknown, ...  \n",
      "26515  [Unknown, Unknown, Unknown, Unknown, Unknown, ...  \n",
      "26516  [Unknown, Unknown, Unknown, Unknown, Unknown, ...  \n",
      "\n",
      "[25490 rows x 11 columns]\n"
     ]
    }
   ],
   "source": [
    "# Droped duplicates so that i can only remain with title\n",
    "tmdb_df.drop_duplicates(subset=['title', 'release_date'], keep='first', inplace=True)\n",
    "print(tmdb_df)"
   ]
  },
  {
   "cell_type": "code",
   "execution_count": 166,
   "metadata": {},
   "outputs": [
    {
     "name": "stdout",
     "output_type": "stream",
     "text": [
      "Empty DataFrame\n",
      "Columns: [Unnamed: 0, genre_ids, id, original_language, original_title, popularity, release_date, title, vote_average, vote_count, genre_names]\n",
      "Index: []\n"
     ]
    }
   ],
   "source": [
    "# Checking whether there are remaining duplicates after dropping\n",
    "remaining_duplicates = tmdb_df[tmdb_df.duplicated(subset=['title', 'release_date'], keep=False)]\n",
    "print(remaining_duplicates)\n"
   ]
  },
  {
   "cell_type": "code",
   "execution_count": 167,
   "metadata": {},
   "outputs": [],
   "source": [
    "# dropping the unnamed and original title column as it dim it irrelevant \n",
    "tmdb_df.drop(columns=['Unnamed: 0','original_title'], inplace=True)"
   ]
  },
  {
   "cell_type": "code",
   "execution_count": 168,
   "metadata": {},
   "outputs": [
    {
     "name": "stdout",
     "output_type": "stream",
     "text": [
      "genre ids: 20\n",
      "Unique genre ids: [12 14 10751 16 28 878 35 53 27 80 18 10749 10402 9648 36 37 10770 10752\n",
      " 99 nan]\n"
     ]
    }
   ],
   "source": [
    "# here i needed to use ast.literal_eval() to convert the genre id into an actual list,so that i can work with it easily.\n",
    "import ast\n",
    "# this Converts the string representation of lists to actual lists\n",
    "tmdb_df['genre_ids'] = tmdb_df['genre_ids'].apply(ast.literal_eval)\n",
    "# this gets the total number of unique genre IDs\n",
    "genres = tmdb_df['genre_ids'].explode()\n",
    "unique_genres = genres.unique()\n",
    "num_unique_genres = len(unique_genres)\n",
    "\n",
    "print(\"genre ids:\", num_unique_genres)\n",
    "print(\"Unique genre ids:\", unique_genres)"
   ]
  },
  {
   "cell_type": "code",
   "execution_count": 169,
   "metadata": {},
   "outputs": [
    {
     "name": "stdout",
     "output_type": "stream",
     "text": [
      "Rows with empty lists in genre_ids:\n",
      "      genre_ids      id original_language  popularity release_date  \\\n",
      "517          []   31059                ru       3.867   2010-01-21   \n",
      "559          []  151316                en       3.424   2010-12-07   \n",
      "589          []   75828                en       3.154   2010-09-16   \n",
      "689          []  150782                en       2.625   2010-01-18   \n",
      "731          []  200946                en       2.451   2010-10-24   \n",
      "...         ...     ...               ...         ...          ...   \n",
      "26495        []  556601                en       0.600   2018-08-28   \n",
      "26497        []  514045                en       0.600   2018-02-14   \n",
      "26498        []  497839                en       0.600   2018-01-11   \n",
      "26500        []  561932                en       0.600   2018-02-04   \n",
      "26506        []  561861                en       0.600   2018-11-25   \n",
      "\n",
      "                                        title  vote_average  vote_count  \\\n",
      "517                Nasha Russia: Yaytsa sudby           4.3          25   \n",
      "559                          Shrek’s Yule Log           4.7           9   \n",
      "589                                   Erratum           6.6           7   \n",
      "689                       Bikini Frankenstein           6.0           4   \n",
      "731                                  Weakness           4.5           2   \n",
      "...                                       ...           ...         ...   \n",
      "26495                               Recursion           2.0           1   \n",
      "26497                      The Portuguese Kid           2.0           1   \n",
      "26498  The 23rd Annual Critics' Choice Awards           2.0           1   \n",
      "26500                                     Two           1.0           1   \n",
      "26506                                    Eden           0.0           1   \n",
      "\n",
      "              genre_names  \n",
      "517    [Unknown, Unknown]  \n",
      "559    [Unknown, Unknown]  \n",
      "589    [Unknown, Unknown]  \n",
      "689    [Unknown, Unknown]  \n",
      "731    [Unknown, Unknown]  \n",
      "...                   ...  \n",
      "26495  [Unknown, Unknown]  \n",
      "26497  [Unknown, Unknown]  \n",
      "26498  [Unknown, Unknown]  \n",
      "26500  [Unknown, Unknown]  \n",
      "26506  [Unknown, Unknown]  \n",
      "\n",
      "[2459 rows x 9 columns]\n",
      "\n",
      "Rows with 'nan' as a string in genre_ids:\n",
      "Empty DataFrame\n",
      "Columns: [genre_ids, id, original_language, popularity, release_date, title, vote_average, vote_count, genre_names]\n",
      "Index: []\n"
     ]
    }
   ],
   "source": [
    "# Handling the nans on the genre ids column\n",
    "# Checking for the empty lists in genre_ids \n",
    "empty_lists = tmdb_df[tmdb_df['genre_ids'].apply(lambda x: isinstance(x, list) and len(x) == 0)]\n",
    "# Checking for empty list and 'nan'  as strings in genre_ids\n",
    "nan_strings = tmdb_df[tmdb_df['genre_ids'] == 'nan']\n",
    "print(\"Rows with empty lists in genre_ids:\")\n",
    "print(empty_lists)\n",
    "print(\"\\nRows with 'nan' as a string in genre_ids:\")\n",
    "print(nan_strings)"
   ]
  },
  {
   "cell_type": "code",
   "execution_count": 170,
   "metadata": {},
   "outputs": [
    {
     "name": "stdout",
     "output_type": "stream",
     "text": [
      "Rows with empty lists in genre_ids: 2459\n"
     ]
    }
   ],
   "source": [
    "# Check for empty lists in genre_ids\n",
    "empty_lists = tmdb_df[tmdb_df['genre_ids'].apply(lambda x: isinstance(x, list) and len(x) == 0)]\n",
    "print(\"Rows with empty lists in genre_ids:\", empty_lists.shape[0])"
   ]
  },
  {
   "cell_type": "code",
   "execution_count": 171,
   "metadata": {},
   "outputs": [
    {
     "name": "stdout",
     "output_type": "stream",
     "text": [
      "Before cleaning: (25490, 9)\n",
      "After cleaning: (23031, 9)\n",
      "             genre_ids     id original_language  popularity release_date  \\\n",
      "0      [12, 14, 10751]  12444                en      33.533   2010-11-19   \n",
      "1  [14, 12, 16, 10751]  10191                en      28.734   2010-03-26   \n",
      "2        [12, 28, 878]  10138                en      28.515   2010-05-07   \n",
      "3      [16, 35, 10751]    862                en      28.005   1995-11-22   \n",
      "4        [28, 878, 12]  27205                en      27.920   2010-07-16   \n",
      "\n",
      "                                          title  vote_average  vote_count  \\\n",
      "0  Harry Potter and the Deathly Hallows: Part 1           7.7       10788   \n",
      "1                      How to Train Your Dragon           7.7        7610   \n",
      "2                                    Iron Man 2           6.8       12368   \n",
      "3                                     Toy Story           7.9       10174   \n",
      "4                                     Inception           8.3       22186   \n",
      "\n",
      "                                         genre_names  \n",
      "0  [Unknown, Unknown, Unknown, Unknown, Unknown, ...  \n",
      "1  [Unknown, Unknown, Unknown, Unknown, Unknown, ...  \n",
      "2  [Unknown, Unknown, Unknown, Unknown, Unknown, ...  \n",
      "3  [Unknown, Unknown, Unknown, Unknown, Unknown, ...  \n",
      "4  [Unknown, Unknown, Unknown, Unknown, Unknown, ...  \n"
     ]
    }
   ],
   "source": [
    "# Storing the original DataFrame before cleaning\n",
    "original_tmdb_df = tmdb_df.copy()\n",
    "\n",
    "# Droping rows where 'genre_ids' is an empty list\n",
    "tmdb_df = tmdb_df[~tmdb_df['genre_ids'].apply(lambda x: isinstance(x, list) and len(x) == 0)]\n",
    "\n",
    "# Printing the cleaned DataFrame\n",
    "print(f\"Before cleaning: {original_tmdb_df.shape}\")\n",
    "print(f\"After cleaning: {tmdb_df.shape}\")\n",
    "print(tmdb_df.head())"
   ]
  },
  {
   "cell_type": "code",
   "execution_count": 172,
   "metadata": {},
   "outputs": [
    {
     "name": "stdout",
     "output_type": "stream",
     "text": [
      "                                          title            genre_ids  \\\n",
      "0  Harry Potter and the Deathly Hallows: Part 1      [12, 14, 10751]   \n",
      "1                      How to Train Your Dragon  [14, 12, 16, 10751]   \n",
      "2                                    Iron Man 2        [12, 28, 878]   \n",
      "3                                     Toy Story      [16, 35, 10751]   \n",
      "4                                     Inception        [28, 878, 12]   \n",
      "\n",
      "                               genre_names  \n",
      "0             [Adventure, Fantasy, Family]  \n",
      "1  [Fantasy, Adventure, Animation, Family]  \n",
      "2     [Adventure, Action, Science Fiction]  \n",
      "3              [Animation, Comedy, Family]  \n",
      "4     [Action, Science Fiction, Adventure]  \n"
     ]
    }
   ],
   "source": [
    "# Applying the mapping function using lambda\n",
    "tmdb_df['genre_names'] = tmdb_df['genre_ids'].apply(lambda genre_ids: [genre_dict.get(genre_id, 'Unknown') for genre_id in genre_ids])\n",
    "\n",
    "# Printing the DataFrame with the genre names\n",
    "print(tmdb_df[['title', 'genre_ids', 'genre_names']].head())"
   ]
  },
  {
   "cell_type": "markdown",
   "metadata": {},
   "source": [
    "##### rtinfo dataset"
   ]
  },
  {
   "cell_type": "code",
   "execution_count": 178,
   "metadata": {},
   "outputs": [
    {
     "data": {
      "text/plain": [
       "id                 0\n",
       "synopsis          62\n",
       "rating             3\n",
       "genre              8\n",
       "director         199\n",
       "writer           449\n",
       "theater_date     359\n",
       "dvd_date         359\n",
       "currency        1219\n",
       "box_office      1219\n",
       "runtime           30\n",
       "studio          1065\n",
       "dtype: int64"
      ]
     },
     "execution_count": 178,
     "metadata": {},
     "output_type": "execute_result"
    }
   ],
   "source": [
    "# checking missing values\n",
    "rtinfo.isnull().sum()"
   ]
  },
  {
   "cell_type": "code",
   "execution_count": 179,
   "metadata": {},
   "outputs": [
    {
     "data": {
      "text/plain": [
       "0"
      ]
     },
     "execution_count": 179,
     "metadata": {},
     "output_type": "execute_result"
    }
   ],
   "source": [
    "#checking duplicates\n",
    "rtinfo.duplicated().sum()"
   ]
  },
  {
   "cell_type": "code",
   "execution_count": 180,
   "metadata": {},
   "outputs": [
    {
     "data": {
      "text/plain": [
       "array([nan, '$'], dtype=object)"
      ]
     },
     "execution_count": 180,
     "metadata": {},
     "output_type": "execute_result"
    }
   ],
   "source": [
    "# checking the unique value for the currency and box office\n",
    "rtinfo['currency'].unique()"
   ]
  },
  {
   "cell_type": "code",
   "execution_count": 182,
   "metadata": {},
   "outputs": [],
   "source": [
    "# creating a function that finds matching missing rows\n",
    "def find_matching_missing_rows(df, col1, col2):\n",
    "\n",
    "    missing_col1 = pd.isna(df[col1])\n",
    "    missing_col2 = pd.isna(df[col2])\n",
    "    matching_missing_positions = missing_col1 & missing_col2\n",
    "    matching_missing_rows = df[matching_missing_positions]\n",
    "    return matching_missing_rows"
   ]
  },
  {
   "cell_type": "code",
   "execution_count": 183,
   "metadata": {},
   "outputs": [
    {
     "data": {
      "text/plain": [
       "id               0\n",
       "synopsis         0\n",
       "rating           0\n",
       "genre            0\n",
       "director        41\n",
       "writer          67\n",
       "theater_date     6\n",
       "dvd_date         6\n",
       "currency         0\n",
       "box_office       0\n",
       "runtime          2\n",
       "studio          35\n",
       "dtype: int64"
      ]
     },
     "execution_count": 183,
     "metadata": {},
     "output_type": "execute_result"
    }
   ],
   "source": [
    "# finding and dropping null vakues in the currency and box_office columns\n",
    "rtinfo1 = rtinfo\n",
    "missing_row =find_matching_missing_rows(rtinfo1,'currency','box_office')\n",
    "rtinfo1 = rtinfo1.dropna(subset=['currency'])\n",
    "rtinfo1 = rtinfo1.dropna(subset=['box_office'])\n",
    "rtinfo1.isnull().sum()"
   ]
  },
  {
   "cell_type": "code",
   "execution_count": 184,
   "metadata": {},
   "outputs": [],
   "source": [
    "#changing the box_office column to numeric from object datatype, by first removig the `,`\n",
    "rtinfo1['box_office'] = rtinfo1['box_office'].replace({',': ''}, regex=True)\n",
    "rtinfo1['box_office'] = pd.to_numeric(rtinfo1['box_office'], errors='coerce')"
   ]
  },
  {
   "cell_type": "markdown",
   "metadata": {},
   "source": [
    "We checked if the rows for currency columns and box_office columns the missing value were the same,and it turn out they were the same. So i dropped the rows. i have done this by creating a function that checks the similarities between the 2 columns missing value and returns their location."
   ]
  },
  {
   "cell_type": "code",
   "execution_count": 185,
   "metadata": {},
   "outputs": [
    {
     "data": {
      "text/plain": [
       "array(['R', 'PG-13', 'PG', 'NR', 'G', 'NC17'], dtype=object)"
      ]
     },
     "execution_count": 185,
     "metadata": {},
     "output_type": "execute_result"
    }
   ],
   "source": [
    "# checking the unique value for rating\n",
    "rtinfo1['rating'].unique()"
   ]
  },
  {
   "cell_type": "code",
   "execution_count": 186,
   "metadata": {},
   "outputs": [
    {
     "data": {
      "text/plain": [
       "array(['Drama|Science Fiction and Fantasy', 'Comedy', 'Drama',\n",
       "       'Comedy|Drama|Mystery and Suspense',\n",
       "       'Action and Adventure|Drama|Science Fiction and Fantasy',\n",
       "       'Art House and International|Comedy|Drama|Musical and Performing Arts',\n",
       "       'Action and Adventure|Drama|Horror|Mystery and Suspense',\n",
       "       'Comedy|Kids and Family|Romance', 'Mystery and Suspense',\n",
       "       'Action and Adventure|Mystery and Suspense', 'Comedy|Drama',\n",
       "       'Art House and International|Drama|Musical and Performing Arts',\n",
       "       'Drama|Sports and Fitness', 'Comedy|Romance',\n",
       "       'Comedy|Drama|Kids and Family',\n",
       "       'Action and Adventure|Science Fiction and Fantasy',\n",
       "       'Horror|Mystery and Suspense', 'Comedy|Kids and Family',\n",
       "       'Action and Adventure|Drama',\n",
       "       'Action and Adventure|Comedy|Kids and Family', 'Drama|Romance',\n",
       "       'Drama|Musical and Performing Arts',\n",
       "       'Drama|Horror|Mystery and Suspense|Romance',\n",
       "       'Comedy|Drama|Musical and Performing Arts',\n",
       "       'Art House and International|Drama|Horror|Mystery and Suspense|Science Fiction and Fantasy',\n",
       "       'Horror', 'Action and Adventure|Drama|Western', 'Comedy|Western',\n",
       "       'Drama|Mystery and Suspense',\n",
       "       'Documentary|Musical and Performing Arts',\n",
       "       'Art House and International|Drama|Special Interest',\n",
       "       'Action and Adventure|Animation|Comedy|Kids and Family',\n",
       "       'Action and Adventure|Drama|Mystery and Suspense',\n",
       "       'Art House and International|Drama',\n",
       "       'Action and Adventure|Animation|Science Fiction and Fantasy',\n",
       "       'Action and Adventure|Kids and Family|Science Fiction and Fantasy',\n",
       "       'Action and Adventure|Horror',\n",
       "       'Documentary|Musical and Performing Arts|Special Interest',\n",
       "       'Art House and International|Documentary|Drama|Special Interest',\n",
       "       'Action and Adventure|Animation|Comedy|Science Fiction and Fantasy',\n",
       "       'Animation|Comedy|Kids and Family',\n",
       "       'Action and Adventure|Art House and International',\n",
       "       'Drama|Kids and Family',\n",
       "       'Art House and International|Comedy|Drama|Romance',\n",
       "       'Action and Adventure|Drama|Horror|Western',\n",
       "       'Comedy|Drama|Romance', 'Action and Adventure|Animation|Comedy',\n",
       "       'Action and Adventure|Comedy|Drama',\n",
       "       'Documentary|Special Interest',\n",
       "       'Action and Adventure|Mystery and Suspense|Romance',\n",
       "       'Art House and International|Drama|Mystery and Suspense',\n",
       "       'Horror|Mystery and Suspense|Science Fiction and Fantasy',\n",
       "       'Animation|Kids and Family', 'Drama|Horror',\n",
       "       'Comedy|Mystery and Suspense',\n",
       "       'Art House and International|Horror|Mystery and Suspense',\n",
       "       'Art House and International|Comedy|Drama',\n",
       "       'Art House and International|Comedy|Drama|Mystery and Suspense',\n",
       "       'Drama|Horror|Mystery and Suspense',\n",
       "       'Action and Adventure|Art House and International|Comedy|Cult Movies|Drama',\n",
       "       'Documentary|Drama',\n",
       "       'Comedy|Documentary|Science Fiction and Fantasy|Special Interest',\n",
       "       'Action and Adventure|Horror|Science Fiction and Fantasy',\n",
       "       'Drama|Science Fiction and Fantasy|Romance',\n",
       "       'Action and Adventure|Mystery and Suspense|Science Fiction and Fantasy',\n",
       "       'Drama|Musical and Performing Arts|Romance',\n",
       "       'Action and Adventure|Art House and International|Classics|Drama|Romance',\n",
       "       'Comedy|Documentary', 'Drama|Faith and Spirituality',\n",
       "       'Action and Adventure|Art House and International|Drama|Mystery and Suspense',\n",
       "       'Animation|Kids and Family|Science Fiction and Fantasy',\n",
       "       'Mystery and Suspense|Science Fiction and Fantasy|Western',\n",
       "       'Drama|Mystery and Suspense|Science Fiction and Fantasy',\n",
       "       'Documentary|Special Interest|Television',\n",
       "       'Science Fiction and Fantasy',\n",
       "       'Drama|Kids and Family|Faith and Spirituality',\n",
       "       'Action and Adventure|Animation|Comedy|Drama|Kids and Family',\n",
       "       'Action and Adventure|Horror|Kids and Family|Science Fiction and Fantasy',\n",
       "       'Kids and Family|Science Fiction and Fantasy',\n",
       "       'Action and Adventure|Animation|Kids and Family|Science Fiction and Fantasy',\n",
       "       'Art House and International|Drama|Mystery and Suspense|Romance',\n",
       "       'Action and Adventure|Drama|Mystery and Suspense|Science Fiction and Fantasy',\n",
       "       'Comedy|Television', 'Art House and International|Comedy|Romance',\n",
       "       'Action and Adventure|Drama|Mystery and Suspense|Romance',\n",
       "       'Kids and Family|Musical and Performing Arts',\n",
       "       'Art House and International|Drama|Romance',\n",
       "       'Action and Adventure|Animation|Kids and Family',\n",
       "       'Drama|Musical and Performing Arts|Faith and Spirituality',\n",
       "       'Action and Adventure|Art House and International|Drama',\n",
       "       'Action and Adventure', 'Action and Adventure|Comedy',\n",
       "       'Classics|Drama',\n",
       "       'Action and Adventure|Horror|Mystery and Suspense',\n",
       "       'Art House and International|Documentary', 'Documentary',\n",
       "       'Drama|Musical and Performing Arts|Special Interest',\n",
       "       'Animation|Comedy',\n",
       "       'Action and Adventure|Comedy|Science Fiction and Fantasy',\n",
       "       'Comedy|Documentary|Television'], dtype=object)"
      ]
     },
     "execution_count": 186,
     "metadata": {},
     "output_type": "execute_result"
    }
   ],
   "source": [
    "# checking the unique value for genre\n",
    "rtinfo1['genre'].unique()"
   ]
  },
  {
   "cell_type": "code",
   "execution_count": 187,
   "metadata": {},
   "outputs": [],
   "source": [
    "# replacing of categories for rating to only 4 categories\n",
    "rtinfo1['rating'] = rtinfo1['rating'].replace('PG-13', 'PG')\n",
    "rtinfo1['rating'] = rtinfo1['rating'].replace('NC17', 'R')"
   ]
  },
  {
   "cell_type": "code",
   "execution_count": 188,
   "metadata": {},
   "outputs": [
    {
     "data": {
      "text/plain": [
       "array(['R', 'PG', 'NR', 'G'], dtype=object)"
      ]
     },
     "execution_count": 188,
     "metadata": {},
     "output_type": "execute_result"
    }
   ],
   "source": [
    "rtinfo1['rating'].unique()"
   ]
  },
  {
   "cell_type": "code",
   "execution_count": 189,
   "metadata": {},
   "outputs": [
    {
     "data": {
      "text/plain": [
       "array(['$'], dtype=object)"
      ]
     },
     "execution_count": 189,
     "metadata": {},
     "output_type": "execute_result"
    }
   ],
   "source": [
    "# checking the unique value for currency\n",
    "rtinfo1['currency'].unique()"
   ]
  },
  {
   "cell_type": "code",
   "execution_count": 190,
   "metadata": {},
   "outputs": [],
   "source": [
    "rtinfo2 = rtinfo1"
   ]
  },
  {
   "cell_type": "markdown",
   "metadata": {},
   "source": [
    "We created a new data frame named genre_revenue, where it contains only the genre and the box office revenue. so first i have splitted the genre for each move and i have share the revenue for each move to the different category of genre it contain. then i have summed the box office revenue for each genre type."
   ]
  },
  {
   "cell_type": "code",
   "execution_count": 191,
   "metadata": {},
   "outputs": [],
   "source": [
    "rtinfo2['genre'] = rtinfo2['genre'].str.split('|')\n",
    "\n",
    "rtinfo2= rtinfo2.explode('genre')\n",
    "\n",
    "genre_revenue = rtinfo2.groupby('genre')['box_office'].sum().reset_index()\n",
    "genre_revenue = genre_revenue.sort_values(by='box_office', ascending=False)"
   ]
  },
  {
   "cell_type": "code",
   "execution_count": 192,
   "metadata": {},
   "outputs": [
    {
     "data": {
      "text/html": [
       "<div>\n",
       "<style scoped>\n",
       "    .dataframe tbody tr th:only-of-type {\n",
       "        vertical-align: middle;\n",
       "    }\n",
       "\n",
       "    .dataframe tbody tr th {\n",
       "        vertical-align: top;\n",
       "    }\n",
       "\n",
       "    .dataframe thead th {\n",
       "        text-align: right;\n",
       "    }\n",
       "</style>\n",
       "<table border=\"1\" class=\"dataframe\">\n",
       "  <thead>\n",
       "    <tr style=\"text-align: right;\">\n",
       "      <th></th>\n",
       "      <th>id</th>\n",
       "      <th>synopsis</th>\n",
       "      <th>rating</th>\n",
       "      <th>genre</th>\n",
       "      <th>director</th>\n",
       "      <th>writer</th>\n",
       "      <th>theater_date</th>\n",
       "      <th>dvd_date</th>\n",
       "      <th>currency</th>\n",
       "      <th>box_office</th>\n",
       "      <th>runtime</th>\n",
       "      <th>studio</th>\n",
       "    </tr>\n",
       "  </thead>\n",
       "  <tbody>\n",
       "    <tr>\n",
       "      <th>1</th>\n",
       "      <td>3</td>\n",
       "      <td>New York City, not-too-distant-future: Eric Pa...</td>\n",
       "      <td>R</td>\n",
       "      <td>Drama</td>\n",
       "      <td>David Cronenberg</td>\n",
       "      <td>David Cronenberg|Don DeLillo</td>\n",
       "      <td>Aug 17, 2012</td>\n",
       "      <td>Jan 1, 2013</td>\n",
       "      <td>$</td>\n",
       "      <td>600000</td>\n",
       "      <td>108 minutes</td>\n",
       "      <td>Entertainment One</td>\n",
       "    </tr>\n",
       "    <tr>\n",
       "      <th>1</th>\n",
       "      <td>3</td>\n",
       "      <td>New York City, not-too-distant-future: Eric Pa...</td>\n",
       "      <td>R</td>\n",
       "      <td>Science Fiction and Fantasy</td>\n",
       "      <td>David Cronenberg</td>\n",
       "      <td>David Cronenberg|Don DeLillo</td>\n",
       "      <td>Aug 17, 2012</td>\n",
       "      <td>Jan 1, 2013</td>\n",
       "      <td>$</td>\n",
       "      <td>600000</td>\n",
       "      <td>108 minutes</td>\n",
       "      <td>Entertainment One</td>\n",
       "    </tr>\n",
       "    <tr>\n",
       "      <th>6</th>\n",
       "      <td>10</td>\n",
       "      <td>Some cast and crew from NBC's highly acclaimed...</td>\n",
       "      <td>PG</td>\n",
       "      <td>Comedy</td>\n",
       "      <td>Jake Kasdan</td>\n",
       "      <td>Mike White</td>\n",
       "      <td>Jan 11, 2002</td>\n",
       "      <td>Jun 18, 2002</td>\n",
       "      <td>$</td>\n",
       "      <td>41032915</td>\n",
       "      <td>82 minutes</td>\n",
       "      <td>Paramount Pictures</td>\n",
       "    </tr>\n",
       "    <tr>\n",
       "      <th>7</th>\n",
       "      <td>13</td>\n",
       "      <td>Stewart Kane, an Irishman living in the Austra...</td>\n",
       "      <td>R</td>\n",
       "      <td>Drama</td>\n",
       "      <td>Ray Lawrence</td>\n",
       "      <td>Raymond Carver|Beatrix Christian</td>\n",
       "      <td>Apr 27, 2006</td>\n",
       "      <td>Oct 2, 2007</td>\n",
       "      <td>$</td>\n",
       "      <td>224114</td>\n",
       "      <td>123 minutes</td>\n",
       "      <td>Sony Pictures Classics</td>\n",
       "    </tr>\n",
       "    <tr>\n",
       "      <th>8</th>\n",
       "      <td>14</td>\n",
       "      <td>\"Love Ranch\" is a bittersweet love story that ...</td>\n",
       "      <td>R</td>\n",
       "      <td>Drama</td>\n",
       "      <td>Taylor Hackford</td>\n",
       "      <td>Mark Jacobson</td>\n",
       "      <td>Jun 30, 2010</td>\n",
       "      <td>Nov 9, 2010</td>\n",
       "      <td>$</td>\n",
       "      <td>134904</td>\n",
       "      <td>117 minutes</td>\n",
       "      <td>NaN</td>\n",
       "    </tr>\n",
       "  </tbody>\n",
       "</table>\n",
       "</div>"
      ],
      "text/plain": [
       "   id                                           synopsis rating  \\\n",
       "1   3  New York City, not-too-distant-future: Eric Pa...      R   \n",
       "1   3  New York City, not-too-distant-future: Eric Pa...      R   \n",
       "6  10  Some cast and crew from NBC's highly acclaimed...     PG   \n",
       "7  13  Stewart Kane, an Irishman living in the Austra...      R   \n",
       "8  14  \"Love Ranch\" is a bittersweet love story that ...      R   \n",
       "\n",
       "                         genre          director  \\\n",
       "1                        Drama  David Cronenberg   \n",
       "1  Science Fiction and Fantasy  David Cronenberg   \n",
       "6                       Comedy       Jake Kasdan   \n",
       "7                        Drama      Ray Lawrence   \n",
       "8                        Drama   Taylor Hackford   \n",
       "\n",
       "                             writer  theater_date      dvd_date currency  \\\n",
       "1      David Cronenberg|Don DeLillo  Aug 17, 2012   Jan 1, 2013        $   \n",
       "1      David Cronenberg|Don DeLillo  Aug 17, 2012   Jan 1, 2013        $   \n",
       "6                        Mike White  Jan 11, 2002  Jun 18, 2002        $   \n",
       "7  Raymond Carver|Beatrix Christian  Apr 27, 2006   Oct 2, 2007        $   \n",
       "8                     Mark Jacobson  Jun 30, 2010   Nov 9, 2010        $   \n",
       "\n",
       "   box_office      runtime                  studio  \n",
       "1      600000  108 minutes       Entertainment One  \n",
       "1      600000  108 minutes       Entertainment One  \n",
       "6    41032915   82 minutes      Paramount Pictures  \n",
       "7      224114  123 minutes  Sony Pictures Classics  \n",
       "8      134904  117 minutes                     NaN  "
      ]
     },
     "execution_count": 192,
     "metadata": {},
     "output_type": "execute_result"
    }
   ],
   "source": [
    "rtinfo2.head()"
   ]
  },
  {
   "cell_type": "code",
   "execution_count": 193,
   "metadata": {},
   "outputs": [],
   "source": [
    "#i am changing the runtime column to numeric one by eliminating the minute text\n",
    "rtinfo2 = rtinfo2.dropna(subset=['runtime'])\n",
    "rtinfo2['runtime'] = rtinfo2['runtime'].str.extract(r'(\\d+)').astype(int)"
   ]
  },
  {
   "cell_type": "code",
   "execution_count": 194,
   "metadata": {},
   "outputs": [],
   "source": [
    "#i am removing the nan value from studio\n",
    "rtinfo2 = rtinfo2.dropna(subset=['studio'])"
   ]
  },
  {
   "cell_type": "code",
   "execution_count": 195,
   "metadata": {},
   "outputs": [
    {
     "data": {
      "text/plain": [
       "array(['Drama', 'Science Fiction and Fantasy', 'Comedy',\n",
       "       'Mystery and Suspense', 'Action and Adventure',\n",
       "       'Art House and International', 'Musical and Performing Arts',\n",
       "       'Horror', 'Kids and Family', 'Romance', 'Sports and Fitness',\n",
       "       'Western', 'Documentary', 'Special Interest', 'Animation',\n",
       "       'Cult Movies', 'Classics', 'Faith and Spirituality', 'Television'],\n",
       "      dtype=object)"
      ]
     },
     "execution_count": 195,
     "metadata": {},
     "output_type": "execute_result"
    }
   ],
   "source": [
    "rtinfo2['genre'].unique()"
   ]
  },
  {
   "cell_type": "code",
   "execution_count": 196,
   "metadata": {},
   "outputs": [
    {
     "name": "stdout",
     "output_type": "stream",
     "text": [
      "genre         object\n",
      "box_office     int64\n",
      "dtype: object\n"
     ]
    }
   ],
   "source": [
    "#changing the box_office column to numeric one\n",
    "genre_revenue['box_office'] = pd.to_numeric(genre_revenue['box_office'])\n",
    "print(genre_revenue.dtypes)"
   ]
  },
  {
   "cell_type": "code",
   "execution_count": 197,
   "metadata": {},
   "outputs": [],
   "source": [
    "#splitting the threatre date into month and year column. for better readability\n",
    "rtinfo2['theater_date'] = pd.to_datetime(rtinfo2['theater_date'])\n",
    "rtinfo2['Theatre_Year'] = rtinfo2['theater_date'].dt.year\n",
    "rtinfo2['Theatre_Month'] = rtinfo2['theater_date'].dt.month_name()"
   ]
  },
  {
   "cell_type": "markdown",
   "metadata": {},
   "source": [
    "##### bom movie dataset"
   ]
  },
  {
   "cell_type": "code",
   "execution_count": 198,
   "metadata": {},
   "outputs": [
    {
     "data": {
      "text/plain": [
       "title                0\n",
       "studio               5\n",
       "domestic_gross      28\n",
       "foreign_gross     1350\n",
       "year                 0\n",
       "dtype: int64"
      ]
     },
     "execution_count": 198,
     "metadata": {},
     "output_type": "execute_result"
    }
   ],
   "source": [
    "#Count number of missing value\n",
    "bom_movies.isnull().sum()"
   ]
  },
  {
   "cell_type": "code",
   "execution_count": 199,
   "metadata": {},
   "outputs": [
    {
     "data": {
      "text/plain": [
       "title             0\n",
       "studio            0\n",
       "domestic_gross    0\n",
       "foreign_gross     0\n",
       "year              0\n",
       "dtype: int64"
      ]
     },
     "execution_count": 199,
     "metadata": {},
     "output_type": "execute_result"
    }
   ],
   "source": [
    "#Dropping the missing values and confirming that the dataframe has no missing values\n",
    "bom_movies = bom_movies.dropna()\n",
    "bom_movies.isnull().sum()"
   ]
  },
  {
   "cell_type": "code",
   "execution_count": 200,
   "metadata": {},
   "outputs": [
    {
     "data": {
      "text/plain": [
       "(2007, 5)"
      ]
     },
     "execution_count": 200,
     "metadata": {},
     "output_type": "execute_result"
    }
   ],
   "source": [
    "bom_movies.shape"
   ]
  },
  {
   "cell_type": "code",
   "execution_count": 201,
   "metadata": {},
   "outputs": [
    {
     "data": {
      "text/plain": [
       "0"
      ]
     },
     "execution_count": 201,
     "metadata": {},
     "output_type": "execute_result"
    }
   ],
   "source": [
    "#Check for duplicated values\n",
    "bom_movies.duplicated().sum()"
   ]
  },
  {
   "cell_type": "markdown",
   "metadata": {},
   "source": [
    "### ANALYSIS"
   ]
  },
  {
   "cell_type": "markdown",
   "metadata": {},
   "source": [
    "1. Which genre performs the best at the box office?"
   ]
  },
  {
   "cell_type": "code",
   "execution_count": 204,
   "metadata": {},
   "outputs": [
    {
     "data": {
      "image/png": "[encoded data removed]",
      "text/plain": [
       "<Figure size 1008x576 with 1 Axes>"
      ]
     },
     "metadata": {
      "needs_background": "light"
     },
     "output_type": "display_data"
    }
   ],
   "source": [
    "# investigating total votes vs genre names using tmdb\n",
    "genre_analysis = tmdb_df_exploded.groupby('genre_names', as_index=False).agg({'vote_count': 'sum'})\n",
    "\n",
    "# Sorting genres by total votes\n",
    "most_voted_genres = genre_analysis.sort_values(by='vote_count', ascending=False)\n",
    "\n",
    "# Plotting all genres\n",
    "plt.figure(figsize=(14, 8))\n",
    "sns.barplot(data=most_voted_genres, x='genre_names', y='vote_count', palette='magma', order=most_voted_genres['genre_names'])\n",
    "\n",
    "plt.title('Genres by Total Votes', fontsize=14)\n",
    "plt.xlabel('Genre', fontsize=12)\n",
    "plt.ylabel('Total Votes', fontsize=12)\n",
    "plt.xticks(rotation=45)\n",
    "plt.grid(axis='y', linestyle='--')"
   ]
  },
  {
   "cell_type": "code",
   "execution_count": 210,
   "metadata": {},
   "outputs": [
    {
     "data": {
      "image/png": "[encoded data removed]",
      "text/plain": [
       "<Figure size 1008x576 with 1 Axes>"
      ]
     },
     "metadata": {
      "needs_background": "light"
     },
     "output_type": "display_data"
    }
   ],
   "source": [
    "# assessing genre vs box_office revenue from rotten tomatoes\n",
    "plt.figure(figsize=(14, 8))\n",
    "plt.bar( genre_revenue['genre'], genre_revenue['box_office'])\n",
    "plt.title('Total Box Office Earnings by Genre')\n",
    "plt.xlabel('genre')\n",
    "plt.ylabel('box office')\n",
    "plt.xticks(rotation=60)\n",
    "ax = plt.gca()\n",
    "ax.yaxis.set_major_formatter(ScalarFormatter(useMathText=True))\n",
    "ax.ticklabel_format(style='sci', axis='y', scilimits=(0, 0))\n",
    "plt.show()"
   ]
  },
  {
   "cell_type": "markdown",
   "metadata": {},
   "source": [
    "Both sources indicate that 'Drama,' 'Comedy,' 'Action,' and 'Adventure' are the leading genres in terms of total vote counts and revenue generation. This suggests that focusing on these categories would likely yield the greatest benefits for the client."
   ]
  },
  {
   "cell_type": "code",
   "execution_count": 227,
   "metadata": {},
   "outputs": [
    {
     "data": {
      "image/png": "[encoded data removed]",
      "text/plain": [
       "<Figure size 1008x864 with 1 Axes>"
      ]
     },
     "metadata": {
      "needs_background": "light"
     },
     "output_type": "display_data"
    }
   ],
   "source": [
    "# visualising the spread of ratings per genre\n",
    "rating_counts = rtinfo2.groupby(['genre', 'rating']).size().unstack(fill_value=0)\n",
    "rating_counts.plot(kind='bar', stacked=False, figsize=(14, 12), color=['#4CAF50', '#2196F3', '#FFC107', '#F44336'])\n",
    "plt.title('Movie Ratings by Genre')\n",
    "plt.xlabel('Genre')\n",
    "plt.xticks(rotation=90)\n",
    "plt.ylabel('Number of Movies')\n",
    "plt.xticks(rotation=45, ha='right')  \n",
    "plt.legend(title='Rating')\n",
    "plt.tight_layout()\n",
    "plt.show()"
   ]
  },
  {
   "cell_type": "markdown",
   "metadata": {},
   "source": [
    "It is evident that the PG and R rated movies are the most common in the industry."
   ]
  },
  {
   "cell_type": "code",
   "execution_count": 230,
   "metadata": {},
   "outputs": [
    {
     "data": {
      "image/png": "[encoded data removed]",
      "text/plain": [
       "<Figure size 864x432 with 1 Axes>"
      ]
     },
     "metadata": {
      "needs_background": "light"
     },
     "output_type": "display_data"
    }
   ],
   "source": [
    "# checking the box office revenue per genre per year\n",
    "filtered2_df = rtinfo2[rtinfo2['Theatre_Year'] > 2014]\n",
    "\n",
    "\n",
    "pivot_df = filtered2_df.pivot_table(\n",
    "    index='Theatre_Year', columns='genre', values='box_office', aggfunc='sum', fill_value=0\n",
    ")\n",
    "\n",
    "pivot_df.plot(kind='bar', stacked=False, figsize=(12, 6), cmap='tab20')\n",
    "plt.title('Box Office Gross by Genre (Stacked) After 2000')\n",
    "plt.ylabel('Box Office Gross ($)')\n",
    "plt.xlabel('Year')\n",
    "plt.legend(title='Genre', bbox_to_anchor=(1.05, 1), loc='upper left')\n",
    "plt.show()"
   ]
  },
  {
   "cell_type": "code",
   "execution_count": null,
   "metadata": {},
   "outputs": [],
   "source": []
  },
  {
   "cell_type": "code",
   "execution_count": null,
   "metadata": {},
   "outputs": [],
   "source": []
  },
  {
   "cell_type": "code",
   "execution_count": null,
   "metadata": {},
   "outputs": [],
   "source": []
  },
  {
   "cell_type": "code",
   "execution_count": null,
   "metadata": {},
   "outputs": [],
   "source": []
  },
  {
   "cell_type": "code",
   "execution_count": null,
   "metadata": {},
   "outputs": [],
   "source": []
  },
  {
   "cell_type": "code",
   "execution_count": null,
   "metadata": {},
   "outputs": [],
   "source": []
  },
  {
   "cell_type": "code",
   "execution_count": null,
   "metadata": {},
   "outputs": [],
   "source": []
  },
  {
   "cell_type": "code",
   "execution_count": null,
   "metadata": {},
   "outputs": [],
   "source": []
  },
  {
   "cell_type": "code",
   "execution_count": 83,
   "metadata": {},
   "outputs": [
    {
     "data": {
      "image/png": "[encoded data removed]",
      "text/plain": [
       "<Figure size 720x432 with 1 Axes>"
      ]
     },
     "metadata": {
      "needs_background": "light"
     },
     "output_type": "display_data"
    }
   ],
   "source": [
    "#checking the distribution of profit values using a histogram plot\n",
    "\n",
    "plt.figure(figsize = (10, 6))\n",
    "sns.histplot(data=tnbudgets_dfclean, x='profit', bins = 100, color = 'red', kde = True)\n",
    "plt.title('Distribution of profit', fontsize=16)\n",
    "plt.xlabel('Profit', fontsize=12)\n",
    "plt.ylabel('Occurence', fontsize=12)\n",
    "plt.grid(True)\n",
    "plt.show()"
   ]
  },
  {
   "cell_type": "markdown",
   "metadata": {},
   "source": [
    "The distribution appears fairly uniform, though the majority of the values fall toward the right side of the graph. This is a positive indicator as it indicates that more than 50% of movies make profit."
   ]
  },
  {
   "cell_type": "code",
   "execution_count": 84,
   "metadata": {},
   "outputs": [
    {
     "data": {
      "text/plain": [
       "6967251.0"
      ]
     },
     "execution_count": 84,
     "metadata": {},
     "output_type": "execute_result"
    }
   ],
   "source": [
    "#using median to check for central tendency rather than mean due to the skew;\n",
    "median_value = np.median(tnbudgets_dfclean['profit'])\n",
    "median_value"
   ]
  },
  {
   "cell_type": "markdown",
   "metadata": {},
   "source": [
    "The median profit amount is $6,967,251. This suggests that atleast half of the movies in the dataset are making profits above this value. Are there any notable trends that contribute to achieving high profits? First let us find out how the industry has been performing over the decades."
   ]
  },
  {
   "cell_type": "code",
   "execution_count": 85,
   "metadata": {},
   "outputs": [],
   "source": [
    "#creating a function for line plotting different columns\n",
    "\n",
    "def plot_line(col_name, data_used):\n",
    "    years = data_used.groupby('year')[col_name].sum().reset_index()\n",
    "\n",
    "    #visualising the time series\n",
    "    sns.set_theme(style=\"whitegrid\")\n",
    "    plt.figure(figsize=(10, 6))\n",
    "    sns.lineplot(data=years, x='year', y=col_name, marker='o', color = 'red')\n",
    "    plt.title(f'Year vs {col_name.capitalize()}', fontsize=16)\n",
    "    plt.xlabel('Year', fontsize=12)\n",
    "    plt.ylabel(col_name.capitalize(), fontsize=12)\n",
    "    plt.grid(True)\n",
    "    plt.show()"
   ]
  },
  {
   "cell_type": "code",
   "execution_count": 86,
   "metadata": {},
   "outputs": [
    {
     "data": {
      "image/png": "[encoded data removed]",
      "text/plain": [
       "<Figure size 720x432 with 1 Axes>"
      ]
     },
     "metadata": {},
     "output_type": "display_data"
    }
   ],
   "source": [
    "#line plot based on profits\n",
    "\n",
    "plot_line('profit',tnbudgets_dfclean)"
   ]
  },
  {
   "cell_type": "code",
   "execution_count": 87,
   "metadata": {},
   "outputs": [
    {
     "data": {
      "image/png": "[encoded data removed]",
      "text/plain": [
       "<Figure size 720x432 with 1 Axes>"
      ]
     },
     "metadata": {},
     "output_type": "display_data"
    }
   ],
   "source": [
    "#line plot based on revenue\n",
    "\n",
    "plot_line('worldwide_gross',tnbudgets_dfclean)"
   ]
  },
  {
   "cell_type": "markdown",
   "metadata": {},
   "source": [
    "From the above plots, we can observe that the industry has grown increasingly popular from the 1980s through the 21st century. \n",
    "This trend shows a rising demand for movies, advancements in production, and the global expansion of the audience base. To solidify our deductions, let us first investigate if the production budget increased over the years; rather is there a positive correlation between production budget and years?"
   ]
  },
  {
   "cell_type": "code",
   "execution_count": 88,
   "metadata": {},
   "outputs": [
    {
     "data": {
      "image/png": "[encoded data removed]",
      "text/plain": [
       "<Figure size 720x576 with 2 Axes>"
      ]
     },
     "metadata": {},
     "output_type": "display_data"
    }
   ],
   "source": [
    "#using a heatmap to check the correlation between columns\n",
    "\n",
    "#plotting\n",
    "plt.figure(figsize=(10, 8))\n",
    "sns.heatmap(tnbudgets_dfclean.corr(), annot=True, fmt=\".2f\", cmap=\"coolwarm\", cbar=True, square=True)\n",
    "plt.title('Correlation Heatmap')\n",
    "plt.show()\n",
    "\n"
   ]
  },
  {
   "cell_type": "markdown",
   "metadata": {},
   "source": [
    "It is evident that gross revenue is strongly correlated with the production budget. To explore this further, let's first examine how production budgets have evolved over the years."
   ]
  },
  {
   "cell_type": "code",
   "execution_count": 89,
   "metadata": {},
   "outputs": [
    {
     "data": {
      "image/png": "[encoded data removed]",
      "text/plain": [
       "<Figure size 720x576 with 1 Axes>"
      ]
     },
     "metadata": {},
     "output_type": "display_data"
    }
   ],
   "source": [
    "#visualising this correlation using a scatter plot\n",
    "\n",
    "plt.figure(figsize=(10, 8))\n",
    "\n",
    "# Scatter plot\n",
    "sns.scatterplot(x=tnbudgets_dfclean['year'], y=tnbudgets_df['production_budget'])\n",
    "\n",
    "# Labels and Title\n",
    "plt.xlabel(\"Year\")\n",
    "plt.ylabel(\"Production budget\")\n",
    "plt.title(\"Production budget vs Year\")\n",
    "\n",
    "# Show the plot\n",
    "plt.show()"
   ]
  },
  {
   "cell_type": "markdown",
   "metadata": {},
   "source": [
    "We can clearly see that the production budget has been increasing over the years. This is may be because of the demand for high-quality visual effects. With this insight, we can ask: Do higher production budgets result in higher revenue? Have the majority of movies with a high production budget accrued good revenue? Using a linear regression, we can be able to determine how much variance in the revenue can be accredited to the production budget."
   ]
  },
  {
   "cell_type": "code",
   "execution_count": 90,
   "metadata": {},
   "outputs": [],
   "source": [
    "#creating a function for doing regressions\n",
    "\n",
    "def regression(a,b):\n",
    "#defining variables\n",
    "\n",
    "    X = tnbudgets_dfclean[a]\n",
    "    y = tnbudgets_dfclean[b]\n",
    "\n",
    "    #adding constant\n",
    "\n",
    "    model = sm.OLS(endog = y, exog = sm.add_constant(X))\n",
    "\n",
    "    #fitting\n",
    "\n",
    "    results = model.fit()\n",
    "\n",
    "    #evaluation of the results\n",
    "    print(results.summary())"
   ]
  },
  {
   "cell_type": "code",
   "execution_count": 91,
   "metadata": {},
   "outputs": [
    {
     "name": "stdout",
     "output_type": "stream",
     "text": [
      "                            OLS Regression Results                            \n",
      "==============================================================================\n",
      "Dep. Variable:        worldwide_gross   R-squared:                       0.513\n",
      "Model:                            OLS   Adj. R-squared:                  0.513\n",
      "Method:                 Least Squares   F-statistic:                     5081.\n",
      "Date:                Sun, 26 Jan 2025   Prob (F-statistic):               0.00\n",
      "Time:                        01:15:32   Log-Likelihood:                -91518.\n",
      "No. Observations:                4822   AIC:                         1.830e+05\n",
      "Df Residuals:                    4820   BIC:                         1.831e+05\n",
      "Df Model:                           1                                         \n",
      "Covariance Type:            nonrobust                                         \n",
      "=====================================================================================\n",
      "                        coef    std err          t      P>|t|      [0.025      0.975]\n",
      "-------------------------------------------------------------------------------------\n",
      "const              1.233e+07   8.02e+05     15.374      0.000    1.08e+07    1.39e+07\n",
      "production_budget     1.4521      0.020     71.284      0.000       1.412       1.492\n",
      "==============================================================================\n",
      "Omnibus:                      652.475   Durbin-Watson:                   0.938\n",
      "Prob(Omnibus):                  0.000   Jarque-Bera (JB):             1109.637\n",
      "Skew:                           0.904   Prob(JB):                    1.11e-241\n",
      "Kurtosis:                       4.501   Cond. No.                     5.18e+07\n",
      "==============================================================================\n",
      "\n",
      "Notes:\n",
      "[1] Standard Errors assume that the covariance matrix of the errors is correctly specified.\n",
      "[2] The condition number is large, 5.18e+07. This might indicate that there are\n",
      "strong multicollinearity or other numerical problems.\n"
     ]
    }
   ],
   "source": [
    "#regression between production_budget and r_o_i\n",
    "regression(['production_budget'], 'worldwide_gross')"
   ]
  },
  {
   "cell_type": "markdown",
   "metadata": {},
   "source": [
    "Interpretation of the simple regression:\n",
    "1. R-squared = 0.513 meaning that the variance of the revenue can be explained by the production budget 51% of the time. \n",
    "2. p-value =  0.00 which is less than 0.05 meaning that the model is statistically significant.\n",
    "3. constant = 1.233e+07 means that when production budget is 0, estimated value of the revenue is 1.233e+07\n",
    "4. coef = 1.4521 suggests that for every unit increase in the production budget, revenue increases by 1.4521 units."
   ]
  },
  {
   "cell_type": "markdown",
   "metadata": {},
   "source": [
    "The model confirms that higher production budgets are associated with higher worldwide gross revenues. On average, every dollar spent on production results in an additional $1.4521 in gross revenue."
   ]
  },
  {
   "cell_type": "markdown",
   "metadata": {},
   "source": [
    "Another intriguing question to consider is whether there are specific high seasons throughout the year for this industry. We can easily answer this using a bar plot."
   ]
  },
  {
   "cell_type": "code",
   "execution_count": 92,
   "metadata": {},
   "outputs": [
    {
     "data": {
      "image/png": "[encoded data removed]",
      "text/plain": [
       "<Figure size 720x576 with 1 Axes>"
      ]
     },
     "metadata": {},
     "output_type": "display_data"
    }
   ],
   "source": [
    "#grouping profit into months\n",
    "profit_per_month = tnbudgets_dfclean.groupby('month')['profit'].mean().reset_index()\n",
    "\n",
    "plt.figure(figsize=(10, 8))\n",
    "\n",
    "# Bar plot\n",
    "sns.barplot(x=profit_per_month['month'], y=profit_per_month['profit'])\n",
    "\n",
    "# Labels and Title\n",
    "plt.xlabel(\"Month\")\n",
    "plt.ylabel(\"Average Profit\")\n",
    "plt.title(\"Profit per Month\")\n",
    "plt.xticks(ticks=range(0, 12), labels=['Jan', 'Feb', 'Mar', 'Apr', 'May', 'Jun', 'Jul', 'Aug', 'Sep', 'Oct', 'Nov', 'Dec'])\n",
    "\n",
    "#adding the line of central tendency\n",
    "mean_value = np.mean(tnbudgets_dfclean['profit'])\n",
    "plt.axhline(median_value, color='red', linestyle='dashed', linewidth=2, label = 'Median')\n",
    "plt.axhline(mean_value, color='blue', linestyle='dashed', linewidth=2, label = 'Mean')\n",
    "plt.legend()\n",
    "\n",
    "# Show the plot\n",
    "plt.show()\n"
   ]
  },
  {
   "cell_type": "markdown",
   "metadata": {},
   "source": [
    "\n",
    "The industry appears to perform better than average in mid year, that is June and July, and end year in November and December. Therefore, it may be advisable for the client to schedule their release dates during these months to maximize potential returns."
   ]
  },
  {
   "cell_type": "markdown",
   "metadata": {},
   "source": [
    "What percentage of the worldwide gross is foreign gross? For this point, using the un-altered data is sensible because it provides a complete and accurate depiction of the relationship between foreign gross and worldwide gross, capturing both typical and extreme performances. Including outliers ensures that the analysis reflects the true diversity of the industry’s performance without bias. "
   ]
  },
  {
   "cell_type": "code",
   "execution_count": 93,
   "metadata": {},
   "outputs": [
    {
     "data": {
      "text/html": [
       "<div>\n",
       "<style scoped>\n",
       "    .dataframe tbody tr th:only-of-type {\n",
       "        vertical-align: middle;\n",
       "    }\n",
       "\n",
       "    .dataframe tbody tr th {\n",
       "        vertical-align: top;\n",
       "    }\n",
       "\n",
       "    .dataframe thead th {\n",
       "        text-align: right;\n",
       "    }\n",
       "</style>\n",
       "<table border=\"1\" class=\"dataframe\">\n",
       "  <thead>\n",
       "    <tr style=\"text-align: right;\">\n",
       "      <th></th>\n",
       "      <th>release_date</th>\n",
       "      <th>movie</th>\n",
       "      <th>production_budget</th>\n",
       "      <th>domestic_gross</th>\n",
       "      <th>worldwide_gross</th>\n",
       "      <th>month</th>\n",
       "      <th>year</th>\n",
       "      <th>profit</th>\n",
       "      <th>foreign_gross</th>\n",
       "    </tr>\n",
       "  </thead>\n",
       "  <tbody>\n",
       "    <tr>\n",
       "      <th>0</th>\n",
       "      <td>2009-12-18</td>\n",
       "      <td>Avatar</td>\n",
       "      <td>425000000</td>\n",
       "      <td>760507625</td>\n",
       "      <td>-2147483648</td>\n",
       "      <td>12</td>\n",
       "      <td>2009</td>\n",
       "      <td>1722483648</td>\n",
       "      <td>1386976023</td>\n",
       "    </tr>\n",
       "    <tr>\n",
       "      <th>1</th>\n",
       "      <td>2011-05-20</td>\n",
       "      <td>Pirates of the Caribbean: On Stranger Tides</td>\n",
       "      <td>410600000</td>\n",
       "      <td>241063875</td>\n",
       "      <td>1045663875</td>\n",
       "      <td>5</td>\n",
       "      <td>2011</td>\n",
       "      <td>635063875</td>\n",
       "      <td>804600000</td>\n",
       "    </tr>\n",
       "    <tr>\n",
       "      <th>2</th>\n",
       "      <td>2019-06-07</td>\n",
       "      <td>Dark Phoenix</td>\n",
       "      <td>350000000</td>\n",
       "      <td>42762350</td>\n",
       "      <td>149762350</td>\n",
       "      <td>6</td>\n",
       "      <td>2019</td>\n",
       "      <td>-200237650</td>\n",
       "      <td>107000000</td>\n",
       "    </tr>\n",
       "    <tr>\n",
       "      <th>3</th>\n",
       "      <td>2015-05-01</td>\n",
       "      <td>Avengers: Age of Ultron</td>\n",
       "      <td>330600000</td>\n",
       "      <td>459005868</td>\n",
       "      <td>1403013963</td>\n",
       "      <td>5</td>\n",
       "      <td>2015</td>\n",
       "      <td>1072413963</td>\n",
       "      <td>944008095</td>\n",
       "    </tr>\n",
       "    <tr>\n",
       "      <th>4</th>\n",
       "      <td>2017-12-15</td>\n",
       "      <td>Star Wars Ep. VIII: The Last Jedi</td>\n",
       "      <td>317000000</td>\n",
       "      <td>620181382</td>\n",
       "      <td>1316721747</td>\n",
       "      <td>12</td>\n",
       "      <td>2017</td>\n",
       "      <td>999721747</td>\n",
       "      <td>696540365</td>\n",
       "    </tr>\n",
       "    <tr>\n",
       "      <th>...</th>\n",
       "      <td>...</td>\n",
       "      <td>...</td>\n",
       "      <td>...</td>\n",
       "      <td>...</td>\n",
       "      <td>...</td>\n",
       "      <td>...</td>\n",
       "      <td>...</td>\n",
       "      <td>...</td>\n",
       "      <td>...</td>\n",
       "    </tr>\n",
       "    <tr>\n",
       "      <th>5775</th>\n",
       "      <td>2006-05-26</td>\n",
       "      <td>Cavite</td>\n",
       "      <td>7000</td>\n",
       "      <td>70071</td>\n",
       "      <td>71644</td>\n",
       "      <td>5</td>\n",
       "      <td>2006</td>\n",
       "      <td>64644</td>\n",
       "      <td>1573</td>\n",
       "    </tr>\n",
       "    <tr>\n",
       "      <th>5776</th>\n",
       "      <td>2004-12-31</td>\n",
       "      <td>The Mongol King</td>\n",
       "      <td>7000</td>\n",
       "      <td>900</td>\n",
       "      <td>900</td>\n",
       "      <td>12</td>\n",
       "      <td>2004</td>\n",
       "      <td>-6100</td>\n",
       "      <td>0</td>\n",
       "    </tr>\n",
       "    <tr>\n",
       "      <th>5778</th>\n",
       "      <td>1999-04-02</td>\n",
       "      <td>Following</td>\n",
       "      <td>6000</td>\n",
       "      <td>48482</td>\n",
       "      <td>240495</td>\n",
       "      <td>4</td>\n",
       "      <td>1999</td>\n",
       "      <td>234495</td>\n",
       "      <td>192013</td>\n",
       "    </tr>\n",
       "    <tr>\n",
       "      <th>5779</th>\n",
       "      <td>2005-07-13</td>\n",
       "      <td>Return to the Land of Wonders</td>\n",
       "      <td>5000</td>\n",
       "      <td>1338</td>\n",
       "      <td>1338</td>\n",
       "      <td>7</td>\n",
       "      <td>2005</td>\n",
       "      <td>-3662</td>\n",
       "      <td>0</td>\n",
       "    </tr>\n",
       "    <tr>\n",
       "      <th>5781</th>\n",
       "      <td>2005-08-05</td>\n",
       "      <td>My Date With Drew</td>\n",
       "      <td>1100</td>\n",
       "      <td>181041</td>\n",
       "      <td>181041</td>\n",
       "      <td>8</td>\n",
       "      <td>2005</td>\n",
       "      <td>179941</td>\n",
       "      <td>0</td>\n",
       "    </tr>\n",
       "  </tbody>\n",
       "</table>\n",
       "<p>5415 rows × 9 columns</p>\n",
       "</div>"
      ],
      "text/plain": [
       "     release_date                                        movie  \\\n",
       "0      2009-12-18                                       Avatar   \n",
       "1      2011-05-20  Pirates of the Caribbean: On Stranger Tides   \n",
       "2      2019-06-07                                 Dark Phoenix   \n",
       "3      2015-05-01                      Avengers: Age of Ultron   \n",
       "4      2017-12-15            Star Wars Ep. VIII: The Last Jedi   \n",
       "...           ...                                          ...   \n",
       "5775   2006-05-26                                       Cavite   \n",
       "5776   2004-12-31                              The Mongol King   \n",
       "5778   1999-04-02                                    Following   \n",
       "5779   2005-07-13                Return to the Land of Wonders   \n",
       "5781   2005-08-05                            My Date With Drew   \n",
       "\n",
       "      production_budget  domestic_gross  worldwide_gross  month  year  \\\n",
       "0             425000000       760507625      -2147483648     12  2009   \n",
       "1             410600000       241063875       1045663875      5  2011   \n",
       "2             350000000        42762350        149762350      6  2019   \n",
       "3             330600000       459005868       1403013963      5  2015   \n",
       "4             317000000       620181382       1316721747     12  2017   \n",
       "...                 ...             ...              ...    ...   ...   \n",
       "5775               7000           70071            71644      5  2006   \n",
       "5776               7000             900              900     12  2004   \n",
       "5778               6000           48482           240495      4  1999   \n",
       "5779               5000            1338             1338      7  2005   \n",
       "5781               1100          181041           181041      8  2005   \n",
       "\n",
       "          profit  foreign_gross  \n",
       "0     1722483648     1386976023  \n",
       "1      635063875      804600000  \n",
       "2     -200237650      107000000  \n",
       "3     1072413963      944008095  \n",
       "4      999721747      696540365  \n",
       "...          ...            ...  \n",
       "5775       64644           1573  \n",
       "5776       -6100              0  \n",
       "5778      234495         192013  \n",
       "5779       -3662              0  \n",
       "5781      179941              0  \n",
       "\n",
       "[5415 rows x 9 columns]"
      ]
     },
     "execution_count": 93,
     "metadata": {},
     "output_type": "execute_result"
    }
   ],
   "source": [
    "#adding column for foreign gross\n",
    "\n",
    "tnbudgets_df['foreign_gross'] = tnbudgets_df['worldwide_gross'] - tnbudgets_df['domestic_gross']\n",
    "tnbudgets_df"
   ]
  },
  {
   "cell_type": "code",
   "execution_count": 94,
   "metadata": {},
   "outputs": [
    {
     "data": {
      "image/png": "[encoded data removed]",
      "text/plain": [
       "<Figure size 576x432 with 1 Axes>"
      ]
     },
     "metadata": {},
     "output_type": "display_data"
    }
   ],
   "source": [
    "#visualising the comparison between the domestic and foerign market\n",
    "\n",
    "average_foreign = tnbudgets_df['foreign_gross'].mean()\n",
    "average_domestic = tnbudgets_df['domestic_gross'].mean()\n",
    "\n",
    "#creating a dataframe for the purposes of plotting\n",
    "avg_data = pd.DataFrame({\n",
    "    'Market': ['Foreign', 'Domestic'],\n",
    "    'Average Gross': [average_foreign, average_domestic]\n",
    "})\n",
    "\n",
    "#plotting\n",
    "plt.figure(figsize=(8, 6))\n",
    "sns.barplot(data=avg_data, x='Market', y='Average Gross', palette = 'coolwarm',)\n",
    "plt.title('Foreign vs Domestic Market', fontsize=14)\n",
    "plt.xlabel('Market', fontsize=12)\n",
    "plt.ylabel('Average Gross', fontsize=12)\n",
    "plt.show()"
   ]
  },
  {
   "cell_type": "markdown",
   "metadata": {},
   "source": [
    "From the above, we can clearly see that the foreign market is a great contributer in the industry. To solidify our second deduction of expansion of the audience base over the years leading to the rising trend in performance for the industry, let us see how the foreign markert has evolved over the years using a line plot"
   ]
  },
  {
   "cell_type": "code",
   "execution_count": 95,
   "metadata": {},
   "outputs": [
    {
     "data": {
      "image/png": "[encoded data removed]",
      "text/plain": [
       "<Figure size 720x432 with 1 Axes>"
      ]
     },
     "metadata": {},
     "output_type": "display_data"
    }
   ],
   "source": [
    "#lineplot of foreign_gross vs year\n",
    "\n",
    "plot_line('foreign_gross', tnbudgets_df)"
   ]
  }
 ],
 "metadata": {
  "kernelspec": {
   "display_name": "learn-env",
   "language": "python",
   "name": "python3"
  },
  "language_info": {
   "codemirror_mode": {
    "name": "ipython",
    "version": 3
   },
   "file_extension": ".py",
   "mimetype": "text/x-python",
   "name": "python",
   "nbconvert_exporter": "python",
   "pygments_lexer": "ipython3",
   "version": "3.8.5"
  }
 },
 "nbformat": 4,
 "nbformat_minor": 2
}
